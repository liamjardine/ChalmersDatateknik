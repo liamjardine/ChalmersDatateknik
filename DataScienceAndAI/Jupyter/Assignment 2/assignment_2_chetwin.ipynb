{
 "cells": [
  {
   "cell_type": "code",
   "execution_count": 174,
   "id": "8b77db97",
   "metadata": {},
   "outputs": [],
   "source": [
    "# imports\n",
    "from sklearn import linear_model\n",
    "from sklearn.linear_model import LinearRegression\n",
    "import matplotlib.pyplot as plt\n",
    "import numpy as np\n",
    "import pandas as pd"
   ]
  },
  {
   "cell_type": "code",
   "execution_count": null,
   "id": "071e21bb",
   "metadata": {},
   "outputs": [],
   "source": []
  },
  {
   "cell_type": "code",
   "execution_count": null,
   "id": "12813c44",
   "metadata": {},
   "outputs": [],
   "source": [
    "## question 1"
   ]
  },
  {
   "cell_type": "code",
   "execution_count": 2,
   "id": "e767411e",
   "metadata": {},
   "outputs": [],
   "source": [
    "#Data_set paths\n",
    "path_to_housing_prices = './data_assignment2.csv'"
   ]
  },
  {
   "cell_type": "code",
   "execution_count": 3,
   "id": "e5b06581",
   "metadata": {},
   "outputs": [],
   "source": [
    "df = pd.read_csv(path_to_housing_prices)"
   ]
  },
  {
   "cell_type": "code",
   "execution_count": 4,
   "id": "f8a98554",
   "metadata": {},
   "outputs": [],
   "source": [
    "# remove rendundant columns\n",
    "df = df.iloc[:, [1,-1]]"
   ]
  },
  {
   "cell_type": "code",
   "execution_count": 5,
   "id": "03fd3730",
   "metadata": {},
   "outputs": [],
   "source": [
    "df_raw = df.dropna().reset_index()\n",
    "df_cleaned = df_raw.copy()"
   ]
  },
  {
   "cell_type": "code",
   "execution_count": 6,
   "id": "dead1b37",
   "metadata": {},
   "outputs": [],
   "source": [
    "x = np.array(df_raw['Living_area']).reshape(-1,1)\n",
    "y = np.array(df_raw['Selling_price'])"
   ]
  },
  {
   "cell_type": "code",
   "execution_count": 7,
   "id": "48e21f9a",
   "metadata": {},
   "outputs": [
    {
     "data": {
      "image/png": "[encoded data removed]",
      "text/plain": [
       "<Figure size 432x288 with 1 Axes>"
      ]
     },
     "metadata": {
      "needs_background": "light"
     },
     "output_type": "display_data"
    }
   ],
   "source": [
    "plt.scatter(x,y)\n",
    "plt.show()"
   ]
  },
  {
   "cell_type": "code",
   "execution_count": 8,
   "id": "1c924dda",
   "metadata": {},
   "outputs": [
    {
     "data": {
      "image/png": "[encoded data removed]",
      "text/plain": [
       "<Figure size 432x288 with 1 Axes>"
      ]
     },
     "metadata": {
      "needs_background": "light"
     },
     "output_type": "display_data"
    }
   ],
   "source": [
    "plt.hist(x)\n",
    "plt.show()"
   ]
  },
  {
   "cell_type": "code",
   "execution_count": 9,
   "id": "7f75619c",
   "metadata": {},
   "outputs": [],
   "source": [
    "#Generating a linear regression model, which is a line in this case\n",
    "model = LinearRegression().fit(x, y)"
   ]
  },
  {
   "cell_type": "code",
   "execution_count": 10,
   "id": "59dc4506",
   "metadata": {},
   "outputs": [
    {
     "data": {
      "text/plain": [
       "array([19370.13854733])"
      ]
     },
     "execution_count": 10,
     "metadata": {},
     "output_type": "execute_result"
    }
   ],
   "source": [
    "model.coef_"
   ]
  },
  {
   "cell_type": "code",
   "execution_count": 11,
   "id": "bbda3ae1",
   "metadata": {},
   "outputs": [
    {
     "data": {
      "text/plain": [
       "2220603.243355869"
      ]
     },
     "execution_count": 11,
     "metadata": {},
     "output_type": "execute_result"
    }
   ],
   "source": [
    "model.intercept_"
   ]
  },
  {
   "cell_type": "code",
   "execution_count": 12,
   "id": "2abf7265",
   "metadata": {},
   "outputs": [
    {
     "data": {
      "text/plain": [
       "array([4157617.09808903, 5126124.02545561, 6094630.95282218])"
      ]
     },
     "execution_count": 12,
     "metadata": {},
     "output_type": "execute_result"
    }
   ],
   "source": [
    "model.predict([[100],[150],[200]])"
   ]
  },
  {
   "cell_type": "code",
   "execution_count": 14,
   "id": "bacfaade",
   "metadata": {},
   "outputs": [],
   "source": [
    "df_raw['predicted_Selling_price'] = model.predict(x).tolist()"
   ]
  },
  {
   "cell_type": "code",
   "execution_count": 15,
   "id": "0a3681e8",
   "metadata": {},
   "outputs": [],
   "source": [
    "df_raw['e'] = df_raw['Selling_price'] - df_raw['predicted_Selling_price']"
   ]
  },
  {
   "cell_type": "code",
   "execution_count": 16,
   "id": "e83628bd",
   "metadata": {},
   "outputs": [
    {
     "data": {
      "image/png": "[encoded data removed]",
      "text/plain": [
       "<Figure size 432x288 with 1 Axes>"
      ]
     },
     "metadata": {
      "needs_background": "light"
     },
     "output_type": "display_data"
    }
   ],
   "source": [
    "plt.scatter(df_raw['Living_area'], df_raw['e'])\n",
    "plt.axhline(y=0, color='r', linestyle='-')\n",
    "plt.show()"
   ]
  },
  {
   "cell_type": "code",
   "execution_count": 17,
   "id": "5b2939eb",
   "metadata": {},
   "outputs": [
    {
     "data": {
      "text/plain": [
       "(array([19370.00272465]), 2220620.720824728)"
      ]
     },
     "execution_count": 17,
     "metadata": {},
     "output_type": "execute_result"
    }
   ],
   "source": [
    "#Ridge regularization\n",
    "ridge_model = linear_model.Ridge(alpha=0.5)\n",
    "ridge_model.fit(x, y)\n",
    "(ridge_model.coef_,ridge_model.intercept_)"
   ]
  },
  {
   "cell_type": "code",
   "execution_count": 18,
   "id": "ede09b41",
   "metadata": {},
   "outputs": [
    {
     "data": {
      "text/plain": [
       "(array([19370.1384688]), 2220603.2534615803)"
      ]
     },
     "execution_count": 18,
     "metadata": {},
     "output_type": "execute_result"
    }
   ],
   "source": [
    "#Lasso regularization\n",
    "lasso_model = linear_model.Lasso(alpha=0.1)\n",
    "lasso_model.fit(x, y)\n",
    "(lasso_model.coef_,lasso_model.intercept_)"
   ]
  },
  {
   "cell_type": "code",
   "execution_count": 20,
   "id": "3bf283b9",
   "metadata": {},
   "outputs": [],
   "source": [
    " df_cleaned = df_cleaned.drop([40,45]).reset_index(drop=True)"
   ]
  },
  {
   "cell_type": "code",
   "execution_count": 21,
   "id": "d07f4f80",
   "metadata": {},
   "outputs": [
    {
     "data": {
      "text/html": [
       "<div>\n",
       "<style scoped>\n",
       "    .dataframe tbody tr th:only-of-type {\n",
       "        vertical-align: middle;\n",
       "    }\n",
       "\n",
       "    .dataframe tbody tr th {\n",
       "        vertical-align: top;\n",
       "    }\n",
       "\n",
       "    .dataframe thead th {\n",
       "        text-align: right;\n",
       "    }\n",
       "</style>\n",
       "<table border=\"1\" class=\"dataframe\">\n",
       "  <thead>\n",
       "    <tr style=\"text-align: right;\">\n",
       "      <th></th>\n",
       "      <th>index</th>\n",
       "      <th>Living_area</th>\n",
       "      <th>Selling_price</th>\n",
       "    </tr>\n",
       "  </thead>\n",
       "  <tbody>\n",
       "    <tr>\n",
       "      <th>0</th>\n",
       "      <td>0</td>\n",
       "      <td>104</td>\n",
       "      <td>4600000</td>\n",
       "    </tr>\n",
       "    <tr>\n",
       "      <th>1</th>\n",
       "      <td>1</td>\n",
       "      <td>99</td>\n",
       "      <td>4450000</td>\n",
       "    </tr>\n",
       "    <tr>\n",
       "      <th>2</th>\n",
       "      <td>2</td>\n",
       "      <td>133</td>\n",
       "      <td>4900000</td>\n",
       "    </tr>\n",
       "    <tr>\n",
       "      <th>3</th>\n",
       "      <td>3</td>\n",
       "      <td>175</td>\n",
       "      <td>6625000</td>\n",
       "    </tr>\n",
       "    <tr>\n",
       "      <th>4</th>\n",
       "      <td>4</td>\n",
       "      <td>118</td>\n",
       "      <td>4600000</td>\n",
       "    </tr>\n",
       "    <tr>\n",
       "      <th>5</th>\n",
       "      <td>5</td>\n",
       "      <td>133</td>\n",
       "      <td>6650000</td>\n",
       "    </tr>\n",
       "    <tr>\n",
       "      <th>6</th>\n",
       "      <td>6</td>\n",
       "      <td>70</td>\n",
       "      <td>2800000</td>\n",
       "    </tr>\n",
       "    <tr>\n",
       "      <th>7</th>\n",
       "      <td>7</td>\n",
       "      <td>134</td>\n",
       "      <td>6100000</td>\n",
       "    </tr>\n",
       "    <tr>\n",
       "      <th>8</th>\n",
       "      <td>8</td>\n",
       "      <td>70</td>\n",
       "      <td>3000000</td>\n",
       "    </tr>\n",
       "    <tr>\n",
       "      <th>9</th>\n",
       "      <td>9</td>\n",
       "      <td>133</td>\n",
       "      <td>3000000</td>\n",
       "    </tr>\n",
       "    <tr>\n",
       "      <th>10</th>\n",
       "      <td>10</td>\n",
       "      <td>121</td>\n",
       "      <td>4000000</td>\n",
       "    </tr>\n",
       "    <tr>\n",
       "      <th>11</th>\n",
       "      <td>11</td>\n",
       "      <td>136</td>\n",
       "      <td>4350000</td>\n",
       "    </tr>\n",
       "    <tr>\n",
       "      <th>12</th>\n",
       "      <td>12</td>\n",
       "      <td>86</td>\n",
       "      <td>3025000</td>\n",
       "    </tr>\n",
       "    <tr>\n",
       "      <th>13</th>\n",
       "      <td>13</td>\n",
       "      <td>135</td>\n",
       "      <td>5215000</td>\n",
       "    </tr>\n",
       "    <tr>\n",
       "      <th>14</th>\n",
       "      <td>14</td>\n",
       "      <td>130</td>\n",
       "      <td>4275000</td>\n",
       "    </tr>\n",
       "    <tr>\n",
       "      <th>15</th>\n",
       "      <td>15</td>\n",
       "      <td>104</td>\n",
       "      <td>4100000</td>\n",
       "    </tr>\n",
       "    <tr>\n",
       "      <th>16</th>\n",
       "      <td>16</td>\n",
       "      <td>66</td>\n",
       "      <td>3100000</td>\n",
       "    </tr>\n",
       "    <tr>\n",
       "      <th>17</th>\n",
       "      <td>17</td>\n",
       "      <td>129</td>\n",
       "      <td>5370000</td>\n",
       "    </tr>\n",
       "    <tr>\n",
       "      <th>18</th>\n",
       "      <td>18</td>\n",
       "      <td>75</td>\n",
       "      <td>3000000</td>\n",
       "    </tr>\n",
       "    <tr>\n",
       "      <th>19</th>\n",
       "      <td>19</td>\n",
       "      <td>160</td>\n",
       "      <td>4175000</td>\n",
       "    </tr>\n",
       "    <tr>\n",
       "      <th>20</th>\n",
       "      <td>20</td>\n",
       "      <td>87</td>\n",
       "      <td>3850000</td>\n",
       "    </tr>\n",
       "    <tr>\n",
       "      <th>21</th>\n",
       "      <td>21</td>\n",
       "      <td>182</td>\n",
       "      <td>6300000</td>\n",
       "    </tr>\n",
       "    <tr>\n",
       "      <th>22</th>\n",
       "      <td>22</td>\n",
       "      <td>135</td>\n",
       "      <td>5350000</td>\n",
       "    </tr>\n",
       "    <tr>\n",
       "      <th>23</th>\n",
       "      <td>23</td>\n",
       "      <td>100</td>\n",
       "      <td>4370000</td>\n",
       "    </tr>\n",
       "    <tr>\n",
       "      <th>24</th>\n",
       "      <td>24</td>\n",
       "      <td>202</td>\n",
       "      <td>4250000</td>\n",
       "    </tr>\n",
       "    <tr>\n",
       "      <th>25</th>\n",
       "      <td>25</td>\n",
       "      <td>136</td>\n",
       "      <td>4800000</td>\n",
       "    </tr>\n",
       "    <tr>\n",
       "      <th>26</th>\n",
       "      <td>26</td>\n",
       "      <td>185</td>\n",
       "      <td>5940000</td>\n",
       "    </tr>\n",
       "    <tr>\n",
       "      <th>27</th>\n",
       "      <td>27</td>\n",
       "      <td>153</td>\n",
       "      <td>6600000</td>\n",
       "    </tr>\n",
       "    <tr>\n",
       "      <th>28</th>\n",
       "      <td>28</td>\n",
       "      <td>135</td>\n",
       "      <td>5200000</td>\n",
       "    </tr>\n",
       "    <tr>\n",
       "      <th>29</th>\n",
       "      <td>29</td>\n",
       "      <td>73</td>\n",
       "      <td>3925000</td>\n",
       "    </tr>\n",
       "    <tr>\n",
       "      <th>30</th>\n",
       "      <td>30</td>\n",
       "      <td>120</td>\n",
       "      <td>4350000</td>\n",
       "    </tr>\n",
       "    <tr>\n",
       "      <th>31</th>\n",
       "      <td>31</td>\n",
       "      <td>122</td>\n",
       "      <td>5825000</td>\n",
       "    </tr>\n",
       "    <tr>\n",
       "      <th>32</th>\n",
       "      <td>32</td>\n",
       "      <td>63</td>\n",
       "      <td>2500000</td>\n",
       "    </tr>\n",
       "    <tr>\n",
       "      <th>33</th>\n",
       "      <td>33</td>\n",
       "      <td>150</td>\n",
       "      <td>6050000</td>\n",
       "    </tr>\n",
       "    <tr>\n",
       "      <th>34</th>\n",
       "      <td>34</td>\n",
       "      <td>210</td>\n",
       "      <td>6100000</td>\n",
       "    </tr>\n",
       "    <tr>\n",
       "      <th>35</th>\n",
       "      <td>35</td>\n",
       "      <td>108</td>\n",
       "      <td>4800000</td>\n",
       "    </tr>\n",
       "    <tr>\n",
       "      <th>36</th>\n",
       "      <td>36</td>\n",
       "      <td>111</td>\n",
       "      <td>4200000</td>\n",
       "    </tr>\n",
       "    <tr>\n",
       "      <th>37</th>\n",
       "      <td>37</td>\n",
       "      <td>72</td>\n",
       "      <td>3450000</td>\n",
       "    </tr>\n",
       "    <tr>\n",
       "      <th>38</th>\n",
       "      <td>38</td>\n",
       "      <td>170</td>\n",
       "      <td>6195000</td>\n",
       "    </tr>\n",
       "    <tr>\n",
       "      <th>39</th>\n",
       "      <td>39</td>\n",
       "      <td>142</td>\n",
       "      <td>6050000</td>\n",
       "    </tr>\n",
       "    <tr>\n",
       "      <th>40</th>\n",
       "      <td>41</td>\n",
       "      <td>120</td>\n",
       "      <td>5850000</td>\n",
       "    </tr>\n",
       "    <tr>\n",
       "      <th>41</th>\n",
       "      <td>42</td>\n",
       "      <td>107</td>\n",
       "      <td>4960000</td>\n",
       "    </tr>\n",
       "    <tr>\n",
       "      <th>42</th>\n",
       "      <td>43</td>\n",
       "      <td>135</td>\n",
       "      <td>5200000</td>\n",
       "    </tr>\n",
       "    <tr>\n",
       "      <th>43</th>\n",
       "      <td>44</td>\n",
       "      <td>145</td>\n",
       "      <td>6150000</td>\n",
       "    </tr>\n",
       "    <tr>\n",
       "      <th>44</th>\n",
       "      <td>46</td>\n",
       "      <td>69</td>\n",
       "      <td>2700000</td>\n",
       "    </tr>\n",
       "    <tr>\n",
       "      <th>45</th>\n",
       "      <td>47</td>\n",
       "      <td>170</td>\n",
       "      <td>5930000</td>\n",
       "    </tr>\n",
       "    <tr>\n",
       "      <th>46</th>\n",
       "      <td>48</td>\n",
       "      <td>160</td>\n",
       "      <td>6800000</td>\n",
       "    </tr>\n",
       "    <tr>\n",
       "      <th>47</th>\n",
       "      <td>49</td>\n",
       "      <td>170</td>\n",
       "      <td>4850000</td>\n",
       "    </tr>\n",
       "    <tr>\n",
       "      <th>48</th>\n",
       "      <td>50</td>\n",
       "      <td>158</td>\n",
       "      <td>5000000</td>\n",
       "    </tr>\n",
       "    <tr>\n",
       "      <th>49</th>\n",
       "      <td>51</td>\n",
       "      <td>103</td>\n",
       "      <td>4245000</td>\n",
       "    </tr>\n",
       "    <tr>\n",
       "      <th>50</th>\n",
       "      <td>52</td>\n",
       "      <td>148</td>\n",
       "      <td>5725000</td>\n",
       "    </tr>\n",
       "    <tr>\n",
       "      <th>51</th>\n",
       "      <td>53</td>\n",
       "      <td>139</td>\n",
       "      <td>5275000</td>\n",
       "    </tr>\n",
       "    <tr>\n",
       "      <th>52</th>\n",
       "      <td>54</td>\n",
       "      <td>118</td>\n",
       "      <td>4850000</td>\n",
       "    </tr>\n",
       "    <tr>\n",
       "      <th>53</th>\n",
       "      <td>55</td>\n",
       "      <td>159</td>\n",
       "      <td>4825000</td>\n",
       "    </tr>\n",
       "  </tbody>\n",
       "</table>\n",
       "</div>"
      ],
      "text/plain": [
       "    index  Living_area  Selling_price\n",
       "0       0          104        4600000\n",
       "1       1           99        4450000\n",
       "2       2          133        4900000\n",
       "3       3          175        6625000\n",
       "4       4          118        4600000\n",
       "5       5          133        6650000\n",
       "6       6           70        2800000\n",
       "7       7          134        6100000\n",
       "8       8           70        3000000\n",
       "9       9          133        3000000\n",
       "10     10          121        4000000\n",
       "11     11          136        4350000\n",
       "12     12           86        3025000\n",
       "13     13          135        5215000\n",
       "14     14          130        4275000\n",
       "15     15          104        4100000\n",
       "16     16           66        3100000\n",
       "17     17          129        5370000\n",
       "18     18           75        3000000\n",
       "19     19          160        4175000\n",
       "20     20           87        3850000\n",
       "21     21          182        6300000\n",
       "22     22          135        5350000\n",
       "23     23          100        4370000\n",
       "24     24          202        4250000\n",
       "25     25          136        4800000\n",
       "26     26          185        5940000\n",
       "27     27          153        6600000\n",
       "28     28          135        5200000\n",
       "29     29           73        3925000\n",
       "30     30          120        4350000\n",
       "31     31          122        5825000\n",
       "32     32           63        2500000\n",
       "33     33          150        6050000\n",
       "34     34          210        6100000\n",
       "35     35          108        4800000\n",
       "36     36          111        4200000\n",
       "37     37           72        3450000\n",
       "38     38          170        6195000\n",
       "39     39          142        6050000\n",
       "40     41          120        5850000\n",
       "41     42          107        4960000\n",
       "42     43          135        5200000\n",
       "43     44          145        6150000\n",
       "44     46           69        2700000\n",
       "45     47          170        5930000\n",
       "46     48          160        6800000\n",
       "47     49          170        4850000\n",
       "48     50          158        5000000\n",
       "49     51          103        4245000\n",
       "50     52          148        5725000\n",
       "51     53          139        5275000\n",
       "52     54          118        4850000\n",
       "53     55          159        4825000"
      ]
     },
     "execution_count": 21,
     "metadata": {},
     "output_type": "execute_result"
    }
   ],
   "source": [
    "df_cleaned"
   ]
  },
  {
   "cell_type": "code",
   "execution_count": 22,
   "id": "f76a4d9a",
   "metadata": {},
   "outputs": [],
   "source": [
    "x2 = np.array(df_cleaned['Living_area']).reshape(-1,1)\n",
    "y2 = np.array(df_cleaned['Selling_price'])"
   ]
  },
  {
   "cell_type": "code",
   "execution_count": 23,
   "id": "d58ed442",
   "metadata": {},
   "outputs": [],
   "source": [
    "model2 = LinearRegression()\n",
    "model2 = model2.fit(x2, y2)"
   ]
  },
  {
   "cell_type": "code",
   "execution_count": 24,
   "id": "0317140f",
   "metadata": {},
   "outputs": [
    {
     "data": {
      "text/plain": [
       "(array([23597.79474944]), 1809821.2159409616)"
      ]
     },
     "execution_count": 24,
     "metadata": {},
     "output_type": "execute_result"
    }
   ],
   "source": [
    "model2.coef_, model2.intercept_"
   ]
  },
  {
   "cell_type": "code",
   "execution_count": 26,
   "id": "261a7649",
   "metadata": {},
   "outputs": [
    {
     "data": {
      "text/plain": [
       "array([4169600.69088546, 5349490.42835771, 6529380.16582996])"
      ]
     },
     "execution_count": 26,
     "metadata": {},
     "output_type": "execute_result"
    }
   ],
   "source": [
    "model2.predict([[100],[150],[200]])"
   ]
  },
  {
   "cell_type": "code",
   "execution_count": 27,
   "id": "747328a0",
   "metadata": {},
   "outputs": [],
   "source": [
    "df_cleaned['predicted_Selling_price'] = model2.predict(x2).tolist()"
   ]
  },
  {
   "cell_type": "code",
   "execution_count": 28,
   "id": "d8a52f86",
   "metadata": {},
   "outputs": [],
   "source": [
    "df_cleaned['e'] = df_cleaned['Selling_price'] - df_cleaned['predicted_Selling_price']"
   ]
  },
  {
   "cell_type": "code",
   "execution_count": 29,
   "id": "30bac046",
   "metadata": {},
   "outputs": [
    {
     "data": {
      "image/png": "[encoded data removed]",
      "text/plain": [
       "<Figure size 432x288 with 1 Axes>"
      ]
     },
     "metadata": {
      "needs_background": "light"
     },
     "output_type": "display_data"
    }
   ],
   "source": [
    "plt.scatter(df_cleaned['Living_area'], df_cleaned['e'])\n",
    "plt.axhline(y=0, color='r', linestyle='-')\n",
    "plt.show()"
   ]
  },
  {
   "cell_type": "code",
   "execution_count": 32,
   "id": "81228b3d",
   "metadata": {},
   "outputs": [
    {
     "data": {
      "text/plain": [
       "(array([23597.10002388]), 1809909.5747406795)"
      ]
     },
     "execution_count": 32,
     "metadata": {},
     "output_type": "execute_result"
    }
   ],
   "source": [
    "#Ridge regularization\n",
    "ridge_model2 = linear_model.Ridge(alpha=2)\n",
    "ridge_model2.fit(x2, y2)\n",
    "(ridge_model2.coef_,ridge_model2.intercept_)"
   ]
  },
  {
   "cell_type": "code",
   "execution_count": 33,
   "id": "fa554390",
   "metadata": {},
   "outputs": [
    {
     "data": {
      "text/plain": [
       "(array([23597.79315962]), 1809821.418142722)"
      ]
     },
     "execution_count": 33,
     "metadata": {},
     "output_type": "execute_result"
    }
   ],
   "source": [
    "#Lasso regularization\n",
    "lasso_model2 = linear_model.Lasso(alpha=2)\n",
    "lasso_model2.fit(x2, y2)\n",
    "(lasso_model2.coef_,lasso_model2.intercept_)"
   ]
  },
  {
   "cell_type": "code",
   "execution_count": null,
   "id": "e8e5bcd0",
   "metadata": {},
   "outputs": [],
   "source": []
  },
  {
   "cell_type": "code",
   "execution_count": 42,
   "id": "14306aa4",
   "metadata": {},
   "outputs": [],
   "source": [
    "## question 2"
   ]
  },
  {
   "cell_type": "code",
   "execution_count": 175,
   "id": "e2f9b024",
   "metadata": {},
   "outputs": [],
   "source": [
    "from sklearn.datasets import load_iris"
   ]
  },
  {
   "cell_type": "code",
   "execution_count": 176,
   "id": "7a4f9cb6",
   "metadata": {},
   "outputs": [],
   "source": [
    "iris = load_iris()"
   ]
  },
  {
   "cell_type": "code",
   "execution_count": 177,
   "id": "eaaf8e13",
   "metadata": {},
   "outputs": [
    {
     "data": {
      "text/plain": [
       "((150, 4), (150,))"
      ]
     },
     "execution_count": 177,
     "metadata": {},
     "output_type": "execute_result"
    }
   ],
   "source": [
    "iris.data.shape, iris.target.shape"
   ]
  },
  {
   "cell_type": "code",
   "execution_count": 178,
   "id": "65480e50",
   "metadata": {},
   "outputs": [],
   "source": [
    "from sklearn.model_selection import train_test_split\n",
    "x_train, x_test, y_train, y_test = train_test_split(iris.data, iris.target, test_size=0.25, random_state=0)"
   ]
  },
  {
   "cell_type": "code",
   "execution_count": 179,
   "id": "e7ff09e3",
   "metadata": {},
   "outputs": [],
   "source": [
    "from sklearn.linear_model import LogisticRegression"
   ]
  },
  {
   "cell_type": "code",
   "execution_count": 180,
   "id": "ce907ce0",
   "metadata": {},
   "outputs": [],
   "source": [
    "logisticRegr = LogisticRegression(multi_class='ovr', solver='liblinear')"
   ]
  },
  {
   "cell_type": "code",
   "execution_count": 181,
   "id": "d164d44d",
   "metadata": {},
   "outputs": [
    {
     "data": {
      "text/html": [
       "<style>#sk-container-id-14 {color: black;background-color: white;}#sk-container-id-14 pre{padding: 0;}#sk-container-id-14 div.sk-toggleable {background-color: white;}#sk-container-id-14 label.sk-toggleable__label {cursor: pointer;display: block;width: 100%;margin-bottom: 0;padding: 0.3em;box-sizing: border-box;text-align: center;}#sk-container-id-14 label.sk-toggleable__label-arrow:before {content: \"▸\";float: left;margin-right: 0.25em;color: #696969;}#sk-container-id-14 label.sk-toggleable__label-arrow:hover:before {color: black;}#sk-container-id-14 div.sk-estimator:hover label.sk-toggleable__label-arrow:before {color: black;}#sk-container-id-14 div.sk-toggleable__content {max-height: 0;max-width: 0;overflow: hidden;text-align: left;background-color: #f0f8ff;}#sk-container-id-14 div.sk-toggleable__content pre {margin: 0.2em;color: black;border-radius: 0.25em;background-color: #f0f8ff;}#sk-container-id-14 input.sk-toggleable__control:checked~div.sk-toggleable__content {max-height: 200px;max-width: 100%;overflow: auto;}#sk-container-id-14 input.sk-toggleable__control:checked~label.sk-toggleable__label-arrow:before {content: \"▾\";}#sk-container-id-14 div.sk-estimator input.sk-toggleable__control:checked~label.sk-toggleable__label {background-color: #d4ebff;}#sk-container-id-14 div.sk-label input.sk-toggleable__control:checked~label.sk-toggleable__label {background-color: #d4ebff;}#sk-container-id-14 input.sk-hidden--visually {border: 0;clip: rect(1px 1px 1px 1px);clip: rect(1px, 1px, 1px, 1px);height: 1px;margin: -1px;overflow: hidden;padding: 0;position: absolute;width: 1px;}#sk-container-id-14 div.sk-estimator {font-family: monospace;background-color: #f0f8ff;border: 1px dotted black;border-radius: 0.25em;box-sizing: border-box;margin-bottom: 0.5em;}#sk-container-id-14 div.sk-estimator:hover {background-color: #d4ebff;}#sk-container-id-14 div.sk-parallel-item::after {content: \"\";width: 100%;border-bottom: 1px solid gray;flex-grow: 1;}#sk-container-id-14 div.sk-label:hover label.sk-toggleable__label {background-color: #d4ebff;}#sk-container-id-14 div.sk-serial::before {content: \"\";position: absolute;border-left: 1px solid gray;box-sizing: border-box;top: 0;bottom: 0;left: 50%;z-index: 0;}#sk-container-id-14 div.sk-serial {display: flex;flex-direction: column;align-items: center;background-color: white;padding-right: 0.2em;padding-left: 0.2em;position: relative;}#sk-container-id-14 div.sk-item {position: relative;z-index: 1;}#sk-container-id-14 div.sk-parallel {display: flex;align-items: stretch;justify-content: center;background-color: white;position: relative;}#sk-container-id-14 div.sk-item::before, #sk-container-id-14 div.sk-parallel-item::before {content: \"\";position: absolute;border-left: 1px solid gray;box-sizing: border-box;top: 0;bottom: 0;left: 50%;z-index: -1;}#sk-container-id-14 div.sk-parallel-item {display: flex;flex-direction: column;z-index: 1;position: relative;background-color: white;}#sk-container-id-14 div.sk-parallel-item:first-child::after {align-self: flex-end;width: 50%;}#sk-container-id-14 div.sk-parallel-item:last-child::after {align-self: flex-start;width: 50%;}#sk-container-id-14 div.sk-parallel-item:only-child::after {width: 0;}#sk-container-id-14 div.sk-dashed-wrapped {border: 1px dashed gray;margin: 0 0.4em 0.5em 0.4em;box-sizing: border-box;padding-bottom: 0.4em;background-color: white;}#sk-container-id-14 div.sk-label label {font-family: monospace;font-weight: bold;display: inline-block;line-height: 1.2em;}#sk-container-id-14 div.sk-label-container {text-align: center;}#sk-container-id-14 div.sk-container {/* jupyter's `normalize.less` sets `[hidden] { display: none; }` but bootstrap.min.css set `[hidden] { display: none !important; }` so we also need the `!important` here to be able to override the default hidden behavior on the sphinx rendered scikit-learn.org. See: https://github.com/scikit-learn/scikit-learn/issues/21755 */display: inline-block !important;position: relative;}#sk-container-id-14 div.sk-text-repr-fallback {display: none;}</style><div id=\"sk-container-id-14\" class=\"sk-top-container\"><div class=\"sk-text-repr-fallback\"><pre>LogisticRegression(multi_class=&#x27;ovr&#x27;, solver=&#x27;liblinear&#x27;)</pre><b>In a Jupyter environment, please rerun this cell to show the HTML representation or trust the notebook. <br />On GitHub, the HTML representation is unable to render, please try loading this page with nbviewer.org.</b></div><div class=\"sk-container\" hidden><div class=\"sk-item\"><div class=\"sk-estimator sk-toggleable\"><input class=\"sk-toggleable__control sk-hidden--visually\" id=\"sk-estimator-id-14\" type=\"checkbox\" checked><label for=\"sk-estimator-id-14\" class=\"sk-toggleable__label sk-toggleable__label-arrow\">LogisticRegression</label><div class=\"sk-toggleable__content\"><pre>LogisticRegression(multi_class=&#x27;ovr&#x27;, solver=&#x27;liblinear&#x27;)</pre></div></div></div></div></div>"
      ],
      "text/plain": [
       "LogisticRegression(multi_class='ovr', solver='liblinear')"
      ]
     },
     "execution_count": 181,
     "metadata": {},
     "output_type": "execute_result"
    }
   ],
   "source": [
    "logisticRegr.fit(x_train, y_train)"
   ]
  },
  {
   "cell_type": "code",
   "execution_count": 188,
   "id": "602f2531",
   "metadata": {},
   "outputs": [
    {
     "name": "stdout",
     "output_type": "stream",
     "text": [
      "['setosa' 'versicolor' 'virginica']\n"
     ]
    }
   ],
   "source": [
    "print(iris.target_names)"
   ]
  },
  {
   "cell_type": "code",
   "execution_count": 182,
   "id": "d93d4c8d",
   "metadata": {},
   "outputs": [
    {
     "data": {
      "text/plain": [
       "array([2])"
      ]
     },
     "execution_count": 182,
     "metadata": {},
     "output_type": "execute_result"
    }
   ],
   "source": [
    "# Returns a NumPy Array\n",
    "# Predict for One Observation (image)\n",
    "logisticRegr.predict(x_test[0].reshape(1,-1))"
   ]
  },
  {
   "cell_type": "code",
   "execution_count": 183,
   "id": "e945b80b",
   "metadata": {},
   "outputs": [],
   "source": [
    "# Make predictions on entire test data\n",
    "predictions = logisticRegr.predict(x_test)"
   ]
  },
  {
   "cell_type": "code",
   "execution_count": 184,
   "id": "f5c4a610",
   "metadata": {},
   "outputs": [
    {
     "name": "stdout",
     "output_type": "stream",
     "text": [
      "0.868421052631579\n"
     ]
    }
   ],
   "source": [
    "# Use the score method to get the accuracy of model\n",
    "score = logisticRegr.score(x_test, y_test)\n",
    "print(score)"
   ]
  },
  {
   "cell_type": "code",
   "execution_count": 185,
   "id": "127097c6",
   "metadata": {},
   "outputs": [],
   "source": [
    "import numpy as np \n",
    "import seaborn as sns #seaborn is a package for nice-looking graphics\n",
    "from sklearn import metrics"
   ]
  },
  {
   "cell_type": "code",
   "execution_count": 186,
   "id": "52940a02",
   "metadata": {},
   "outputs": [],
   "source": [
    "cm = metrics.confusion_matrix(y_test, predictions)"
   ]
  },
  {
   "cell_type": "code",
   "execution_count": 187,
   "id": "40e072d9",
   "metadata": {},
   "outputs": [
    {
     "data": {
      "image/png": "[encoded data removed]",
      "text/plain": [
       "<Figure size 648x648 with 2 Axes>"
      ]
     },
     "metadata": {
      "needs_background": "light"
     },
     "output_type": "display_data"
    }
   ],
   "source": [
    "plt.figure(figsize=(9,9))\n",
    "sns.heatmap(cm, annot=True, fmt=\".3f\", linewidths=.5, square = True, cmap = 'Blues_r');\n",
    "plt.ylabel('Actual label');\n",
    "plt.xlabel('Predicted label');\n",
    "all_sample_title = 'Accuracy Score: {0}'.format(score)\n",
    "plt.title(all_sample_title, size = 15);\n",
    "plt.savefig('cm_iris.png')\n",
    "#plt.show();\n",
    "\n"
   ]
  },
  {
   "cell_type": "markdown",
   "id": "1c4f836e",
   "metadata": {},
   "source": [
    "Evaluation of model:\n",
    "* The logistic regression model obtained a classification accuracy of 0.868. Out of 13 setosas(class index 0), all were predicted correctly, and out of 9 virginicas(class index 2), all were predicted correctly. However, out of 16 versicolor(class index 1), only 11 were predicted correctly, while 5 were incorrectly predicted as virginicas.\n",
    "\n",
    "This means that while our model is generally doing well, it is sometimes not able to correctly determine true class 1s as class 1s and predicts them as class 2s."
   ]
  },
  {
   "cell_type": "code",
   "execution_count": 189,
   "id": "e2a8b6d0",
   "metadata": {},
   "outputs": [],
   "source": [
    "#Import knearest neighbors Classifier model\n",
    "from sklearn.neighbors import KNeighborsClassifier"
   ]
  },
  {
   "cell_type": "code",
   "execution_count": 190,
   "id": "552805d8",
   "metadata": {},
   "outputs": [
    {
     "data": {
      "text/plain": [
       "112"
      ]
     },
     "execution_count": 190,
     "metadata": {},
     "output_type": "execute_result"
    }
   ],
   "source": [
    "len(y_train)"
   ]
  },
  {
   "cell_type": "code",
   "execution_count": 191,
   "id": "b499b14c",
   "metadata": {},
   "outputs": [
    {
     "data": {
      "text/plain": [
       "[37, 34, 41]"
      ]
     },
     "execution_count": 191,
     "metadata": {},
     "output_type": "execute_result"
    }
   ],
   "source": [
    "# finding a suitable upper bound for value of k\n",
    "count_per_class = [0,0,0]\n",
    "for i in range(len(y_train)):\n",
    "    count_per_class[y_train[i]] += 1\n",
    "count_per_class"
   ]
  },
  {
   "cell_type": "markdown",
   "id": "b41a49bb",
   "metadata": {},
   "source": [
    "Count per class is done to observe how many instances of each class there is in the training dataset. This is to set an upper bound on our value of K. In the case of weights=\"uniform\", how it decides which class a datapoint, x belongs to is it observes the K closest datapoints to x, and then check how many of the K datapoints belong to each class, and then the class that has the most number of datapoints that are close enough to K, regarless of distance. For example, given a datapoint x, if there are 3 classes, A,B,C. For k=10, if out of 10 closest datapoints, a.k.a \"neighbours\" of x, 4 belong to A, 3 belong to B and 3 belong to C, then x is predicted to belong to A. Thus in the event of an imbalanced dataset, for example there are 3 datapoints in class A, 100 datapoints in class B, 100 datapoints in class C, and k=7(slightly more than 3), then even if a given input x, where the 3 closest points to x belong to class A, and the next 4 closest belong to class B, then the predicted class is B. Thus, in the case of \"uniform\", it is important to set the max value of K to be lower than the count of the number of datapoints in the smallest class. In our case it is safe to put at 30."
   ]
  },
  {
   "cell_type": "code",
   "execution_count": 195,
   "id": "8c4eec5b",
   "metadata": {},
   "outputs": [
    {
     "name": "stdout",
     "output_type": "stream",
     "text": [
      "Accuracy for k=1, UNIFORM: 0.9736842105263158\n",
      "Accuracy for k=1, WEIGHTED: 0.9736842105263158\n",
      "\n",
      "Accuracy for k=2, UNIFORM: 0.9736842105263158\n",
      "Accuracy for k=2, WEIGHTED: 0.9736842105263158\n",
      "\n",
      "Accuracy for k=3, UNIFORM: 0.9736842105263158\n",
      "Accuracy for k=3, WEIGHTED: 0.9736842105263158\n",
      "\n",
      "Accuracy for k=4, UNIFORM: 0.9736842105263158\n",
      "Accuracy for k=4, WEIGHTED: 0.9736842105263158\n",
      "\n",
      "Accuracy for k=5, UNIFORM: 0.9736842105263158\n",
      "Accuracy for k=5, WEIGHTED: 0.9736842105263158\n",
      "\n",
      "Accuracy for k=6, UNIFORM: 0.9736842105263158\n",
      "Accuracy for k=6, WEIGHTED: 0.9736842105263158\n",
      "\n",
      "Accuracy for k=7, UNIFORM: 0.9736842105263158\n",
      "Accuracy for k=7, WEIGHTED: 0.9736842105263158\n",
      "\n",
      "Accuracy for k=8, UNIFORM: 0.9736842105263158\n",
      "Accuracy for k=8, WEIGHTED: 0.9736842105263158\n",
      "\n",
      "Accuracy for k=9, UNIFORM: 0.9736842105263158\n",
      "Accuracy for k=9, WEIGHTED: 0.9736842105263158\n",
      "\n",
      "Accuracy for k=10, UNIFORM: 0.9736842105263158\n",
      "Accuracy for k=10, WEIGHTED: 0.9736842105263158\n",
      "\n",
      "Accuracy for k=11, UNIFORM: 0.9736842105263158\n",
      "Accuracy for k=11, WEIGHTED: 0.9736842105263158\n",
      "\n",
      "Accuracy for k=12, UNIFORM: 0.9736842105263158\n",
      "Accuracy for k=12, WEIGHTED: 0.9736842105263158\n",
      "\n",
      "Accuracy for k=13, UNIFORM: 0.9736842105263158\n",
      "Accuracy for k=13, WEIGHTED: 0.9736842105263158\n",
      "\n",
      "Accuracy for k=14, UNIFORM: 0.9736842105263158\n",
      "Accuracy for k=14, WEIGHTED: 0.9736842105263158\n",
      "\n",
      "Accuracy for k=15, UNIFORM: 0.9736842105263158\n",
      "Accuracy for k=15, WEIGHTED: 0.9736842105263158\n",
      "\n",
      "Accuracy for k=16, UNIFORM: 0.9736842105263158\n",
      "Accuracy for k=16, WEIGHTED: 0.9736842105263158\n",
      "\n",
      "Accuracy for k=17, UNIFORM: 0.9736842105263158\n",
      "Accuracy for k=17, WEIGHTED: 0.9736842105263158\n",
      "\n",
      "Accuracy for k=18, UNIFORM: 0.9736842105263158\n",
      "Accuracy for k=18, WEIGHTED: 0.9736842105263158\n",
      "\n",
      "Accuracy for k=19, UNIFORM: 0.9736842105263158\n",
      "Accuracy for k=19, WEIGHTED: 0.9736842105263158\n",
      "\n",
      "Accuracy for k=20, UNIFORM: 0.9736842105263158\n",
      "Accuracy for k=20, WEIGHTED: 0.9736842105263158\n",
      "\n",
      "Accuracy for k=21, UNIFORM: 0.9736842105263158\n",
      "Accuracy for k=21, WEIGHTED: 0.9736842105263158\n",
      "\n",
      "Accuracy for k=22, UNIFORM: 0.9736842105263158\n",
      "Accuracy for k=22, WEIGHTED: 0.9736842105263158\n",
      "\n",
      "Accuracy for k=23, UNIFORM: 0.9736842105263158\n",
      "Accuracy for k=23, WEIGHTED: 0.9736842105263158\n",
      "\n",
      "Accuracy for k=24, UNIFORM: 0.9473684210526315\n",
      "Accuracy for k=24, WEIGHTED: 0.9736842105263158\n",
      "\n",
      "Accuracy for k=25, UNIFORM: 0.9473684210526315\n",
      "Accuracy for k=25, WEIGHTED: 0.9736842105263158\n",
      "\n",
      "Accuracy for k=26, UNIFORM: 0.9473684210526315\n",
      "Accuracy for k=26, WEIGHTED: 0.9736842105263158\n",
      "\n",
      "Accuracy for k=27, UNIFORM: 0.9473684210526315\n",
      "Accuracy for k=27, WEIGHTED: 0.9736842105263158\n",
      "\n",
      "Accuracy for k=28, UNIFORM: 0.9210526315789473\n",
      "Accuracy for k=28, WEIGHTED: 0.9736842105263158\n",
      "\n",
      "Accuracy for k=29, UNIFORM: 0.8947368421052632\n",
      "Accuracy for k=29, WEIGHTED: 0.9736842105263158\n",
      "\n",
      "Accuracy for k=30, UNIFORM: 0.9473684210526315\n",
      "Accuracy for k=30, WEIGHTED: 0.9736842105263158\n",
      "\n",
      "Accuracy for k=31, UNIFORM: 0.9473684210526315\n",
      "Accuracy for k=31, WEIGHTED: 0.9736842105263158\n",
      "\n",
      "Accuracy for k=32, UNIFORM: 0.9736842105263158\n",
      "Accuracy for k=32, WEIGHTED: 0.9736842105263158\n",
      "\n",
      "Accuracy for k=33, UNIFORM: 0.9210526315789473\n",
      "Accuracy for k=33, WEIGHTED: 0.9736842105263158\n",
      "\n",
      "Accuracy for k=34, UNIFORM: 0.9473684210526315\n",
      "Accuracy for k=34, WEIGHTED: 0.9736842105263158\n",
      "\n",
      "Accuracy for k=35, UNIFORM: 0.9210526315789473\n",
      "Accuracy for k=35, WEIGHTED: 0.9736842105263158\n",
      "\n",
      "Accuracy for k=36, UNIFORM: 0.9473684210526315\n",
      "Accuracy for k=36, WEIGHTED: 0.9736842105263158\n",
      "\n",
      "Accuracy for k=37, UNIFORM: 0.9210526315789473\n",
      "Accuracy for k=37, WEIGHTED: 0.9736842105263158\n",
      "\n",
      "Accuracy for k=38, UNIFORM: 0.9210526315789473\n",
      "Accuracy for k=38, WEIGHTED: 0.9736842105263158\n",
      "\n",
      "Accuracy for k=39, UNIFORM: 0.9210526315789473\n",
      "Accuracy for k=39, WEIGHTED: 0.9736842105263158\n",
      "\n",
      "Accuracy for k=40, UNIFORM: 0.868421052631579\n",
      "Accuracy for k=40, WEIGHTED: 0.9736842105263158\n",
      "\n",
      "Accuracy for k=41, UNIFORM: 0.8947368421052632\n",
      "Accuracy for k=41, WEIGHTED: 0.9736842105263158\n",
      "\n",
      "Accuracy for k=42, UNIFORM: 0.868421052631579\n",
      "Accuracy for k=42, WEIGHTED: 0.9736842105263158\n",
      "\n",
      "Accuracy for k=43, UNIFORM: 0.868421052631579\n",
      "Accuracy for k=43, WEIGHTED: 0.9736842105263158\n",
      "\n",
      "Accuracy for k=44, UNIFORM: 0.8947368421052632\n",
      "Accuracy for k=44, WEIGHTED: 0.9736842105263158\n",
      "\n",
      "Accuracy for k=45, UNIFORM: 0.8947368421052632\n",
      "Accuracy for k=45, WEIGHTED: 0.9736842105263158\n",
      "\n",
      "Accuracy for k=46, UNIFORM: 0.8947368421052632\n",
      "Accuracy for k=46, WEIGHTED: 0.9736842105263158\n",
      "\n",
      "Accuracy for k=47, UNIFORM: 0.8947368421052632\n",
      "Accuracy for k=47, WEIGHTED: 0.9736842105263158\n",
      "\n",
      "Accuracy for k=48, UNIFORM: 0.868421052631579\n",
      "Accuracy for k=48, WEIGHTED: 0.9736842105263158\n",
      "\n",
      "Accuracy for k=49, UNIFORM: 0.8947368421052632\n",
      "Accuracy for k=49, WEIGHTED: 0.9736842105263158\n",
      "\n",
      "Accuracy for k=50, UNIFORM: 0.8947368421052632\n",
      "Accuracy for k=50, WEIGHTED: 0.9736842105263158\n",
      "\n"
     ]
    }
   ],
   "source": [
    "for i in range(1, 51):\n",
    "    \n",
    "    # uniform\n",
    "    knn = KNeighborsClassifier(n_neighbors=i)\n",
    "    knn.fit(x_train, y_train)\n",
    "    #Predict the response for test dataset\n",
    "    y_pred = knn.predict(x_test)\n",
    "    # Model Accuracy, how often is the classifier correct?\n",
    "    print(f\"Accuracy for k={i}, UNIFORM: {metrics.accuracy_score(y_test, y_pred)}\")\n",
    "    \n",
    "    # weighted\n",
    "    knn_weighted = KNeighborsClassifier(n_neighbors=i, weights='distance')\n",
    "    knn_weighted.fit(x_train, y_train)\n",
    "    #Predict the response for test dataset\n",
    "    y_pred = knn_weighted.predict(x_test)\n",
    "    # Model Accuracy, how often is the classifier correct?\n",
    "    print(f\"Accuracy for k={i}, WEIGHTED: {metrics.accuracy_score(y_test, y_pred)}\")\n",
    "    print()"
   ]
  },
  {
   "cell_type": "markdown",
   "id": "07dc4afd",
   "metadata": {},
   "source": [
    "As explained earlier, weight=\"uniform\" has the tendency to be affected heavily by the value of K as K increases. This can be observed by the cell above. For K values up to 23, there is no difference in the accuracy, however after that, the performance of the model starts to decrease for the uniform case. The reason for this is as mentioned previously, when the K value becomes higher, the inbalances in the dataset become more apparent and due to the indifference to distance of the datapoints to the input, classes with more datapoints will be favoured thus accounting for the inaccuracies. Whereas in the case of \"distance\" weights, the distance of each datapoint from the input will be factored in heavily when determining the class of the input, and thus even when the K value increases really high, the model will be weighted in the sense that it will pick the class that has points that are closest to the input distance wise."
   ]
  },
  {
   "cell_type": "markdown",
   "id": "3e60f97b",
   "metadata": {},
   "source": [
    "We shall now consider the performance of several variations of the KNN models, k=10, weighted(should be the best version) and k=50, uniform(should be the worst version) and compare them to our logistic regression model."
   ]
  },
  {
   "cell_type": "code",
   "execution_count": 223,
   "id": "590b5d4c",
   "metadata": {},
   "outputs": [
    {
     "name": "stdout",
     "output_type": "stream",
     "text": [
      "Accuracy for k=10, WEIGHTED: 0.9736842105263158\n"
     ]
    }
   ],
   "source": [
    "# uniform\n",
    "best_knn = KNeighborsClassifier(n_neighbors=10)\n",
    "best_knn.fit(x_train, y_train)\n",
    "#Predict the response for test dataset\n",
    "y_pred = best_knn.predict(x_test)\n",
    "# Model Accuracy, how often is the classifier correct?\n",
    "score = metrics.accuracy_score(y_test, y_pred)\n",
    "print(f\"Accuracy for k=10, WEIGHTED: {score}\")"
   ]
  },
  {
   "cell_type": "code",
   "execution_count": 224,
   "id": "443014c2",
   "metadata": {},
   "outputs": [],
   "source": [
    "best_knn_cm = metrics.confusion_matrix(y_test, y_pred)"
   ]
  },
  {
   "cell_type": "code",
   "execution_count": 225,
   "id": "7f17c4ac",
   "metadata": {},
   "outputs": [
    {
     "data": {
      "image/png": "[encoded data removed]",
      "text/plain": [
       "<Figure size 648x648 with 2 Axes>"
      ]
     },
     "metadata": {
      "needs_background": "light"
     },
     "output_type": "display_data"
    }
   ],
   "source": [
    "plt.figure(figsize=(9,9))\n",
    "sns.heatmap(best_knn_cm, annot=True, fmt=\".3f\", linewidths=.5, square = True, cmap = 'Blues_r');\n",
    "plt.ylabel('Actual label');\n",
    "plt.xlabel('Predicted label');\n",
    "all_sample_title = 'Accuracy Score: {0}'.format(score)\n",
    "plt.title(all_sample_title, size = 15);\n",
    "plt.savefig('best_knn_cm_iris.png')\n",
    "#plt.show();"
   ]
  },
  {
   "cell_type": "code",
   "execution_count": 226,
   "id": "f1c89b6b",
   "metadata": {},
   "outputs": [
    {
     "name": "stdout",
     "output_type": "stream",
     "text": [
      "Accuracy for k=50, UNIFORM: 0.8947368421052632\n",
      "\n"
     ]
    }
   ],
   "source": [
    "# weighted\n",
    "worst_knn = KNeighborsClassifier(n_neighbors=50)\n",
    "worst_knn.fit(x_train, y_train)\n",
    "#Predict the response for test dataset\n",
    "y_pred = worst_knn.predict(x_test)\n",
    "# Model Accuracy, how often is the classifier correct?\n",
    "score = metrics.accuracy_score(y_test, y_pred)\n",
    "print(f\"Accuracy for k=50, UNIFORM: {score}\")\n",
    "print()"
   ]
  },
  {
   "cell_type": "code",
   "execution_count": 227,
   "id": "3c5dab81",
   "metadata": {},
   "outputs": [],
   "source": [
    "worst_knn_cm = metrics.confusion_matrix(y_pred, predictions)"
   ]
  },
  {
   "cell_type": "code",
   "execution_count": 228,
   "id": "9cbcac0e",
   "metadata": {},
   "outputs": [
    {
     "data": {
      "image/png": "[encoded data removed]",
      "text/plain": [
       "<Figure size 648x648 with 2 Axes>"
      ]
     },
     "metadata": {
      "needs_background": "light"
     },
     "output_type": "display_data"
    }
   ],
   "source": [
    "plt.figure(figsize=(9,9))\n",
    "sns.heatmap(worst_knn_cm, annot=True, fmt=\".3f\", linewidths=.5, square = True, cmap = 'Blues_r');\n",
    "plt.ylabel('Actual label');\n",
    "plt.xlabel('Predicted label');\n",
    "all_sample_title = 'Accuracy Score: {0}'.format(score)\n",
    "plt.title(all_sample_title, size = 15);\n",
    "plt.savefig('worst_knn_cm_iris.png')\n",
    "#plt.show();"
   ]
  },
  {
   "cell_type": "markdown",
   "id": "15c18ebd",
   "metadata": {},
   "source": [
    "Comparing the performance of Logistic Regression, Best KNN and Worst KNN, we can see that both KNN models resulted in better accuracy on the test set than the Logistic Regression model. \n",
    "\n",
    "A possible explanation is that, seeing that this is a multi variable problem, and logistic regression models only support linear solutions, while KNN supports non linear solutions with non-linear boundaries, this classification problem might have a non linear solution and thus KNN will perform better even with a non ideal version.\n",
    "\n",
    "Using the confusion matrix to compare the results of the Best KNN and the logistic regression model, it is clear that the KNN model only made 1 mistake classifying a true class 1 as a class 1, while the logistic regression model made 5. \n",
    "\n",
    "Additionally, observe that class 2 has significantly more datapoints than class 1, and when the KNN uses k=50 and a \"uniform\" weights, the model made more incorrect predictions towards class 2, thus showing the flaws of using too high of a K value and the optimal K value should be less than the count of the datapoints in each class."
   ]
  },
  {
   "cell_type": "markdown",
   "id": "478c8357",
   "metadata": {},
   "source": [
    "Explain why it is important to use a separate test (and sometimes validation) set."
   ]
  },
  {
   "cell_type": "markdown",
   "id": "4c89f2d1",
   "metadata": {},
   "source": [
    "The differences between train, validation and test are as follows:\n",
    "* **training set**: The sample of data used to fit the model.\n",
    "* **validation set**: The sample of data used to provide an unbiased evaluation of a model fit on the training dataset while tuning model hyperparameters. The evaluation becomes more biased as skill on the validation dataset is incorporated into the model configuration.\n",
    "* **test set**: The completely unseen sample of data used to provide an unbiased evaluation of a final model fit on the training dataset.\n",
    "\n",
    "Our objective of model training is to produce a model that has the ability to predict on unseen datapoints accurately, thus we have to find a way to evaluate the model's performance on its ability to generalise and not its ability to predict on the training dataset that it is being trained on. \n",
    "\n",
    "When the model trains, it learns by predicting on the training set and comparing its predictions with the labels and update its weights to minimise the error across the training set, thus given enough epochs, the model can optimise its weights to get 0 error across the training set when it completely \"memorise\" the dataset, and while that sounds good, the trade off is that it might not be able to generalise to other datapoints outside of the training set and that fails our initial objective of creating a model that can predict and generalise well.\n",
    "\n",
    "As such, when we get a dataset, it is important to separate a small portion of data as the validation and test set that the model does not update its parameters on, so that while it is minimising its error across the training set, we are also constantly checking that it retains the ability to generalise and predict on the validation set per epoch during the training and finally at the end of the training, we can still evaluate the model's performance on the totally unseen test set."
   ]
  },
  {
   "cell_type": "code",
   "execution_count": null,
   "id": "d36efb92",
   "metadata": {},
   "outputs": [],
   "source": []
  }
 ],
 "metadata": {
  "kernelspec": {
   "display_name": "Python 3 (ipykernel)",
   "language": "python",
   "name": "python3"
  },
  "language_info": {
   "codemirror_mode": {
    "name": "ipython",
    "version": 3
   },
   "file_extension": ".py",
   "mimetype": "text/x-python",
   "name": "python",
   "nbconvert_exporter": "python",
   "pygments_lexer": "ipython3",
   "version": "3.9.12"
  }
 },
 "nbformat": 4,
 "nbformat_minor": 5
}
