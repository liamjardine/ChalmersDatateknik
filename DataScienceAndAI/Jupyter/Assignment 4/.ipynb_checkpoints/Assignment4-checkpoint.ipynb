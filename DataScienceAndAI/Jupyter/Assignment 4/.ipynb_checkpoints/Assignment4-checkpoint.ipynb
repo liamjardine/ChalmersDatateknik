{
 "cells": [
  {
   "cell_type": "markdown",
   "metadata": {
    "id": "-sTsDfIVKsmL"
   },
   "source": [
    "#DAT405 Introduction to Data Science and AI \n",
    "##2022-2023, Reading Period 1\n",
    "## Assignment 4: Spam classification using Naïve Bayes \n",
    "There will be an overall grade for this assignment. To get a pass grade (grade 5), you need to pass items 1-3 below. To receive higher grades, finish items 4 and 5 as well. \n",
    "\n",
    "The exercise takes place in a notebook environment where you can chose to use Jupyter or Google Colabs. We recommend you use Google Colabs as it will facilitate remote group-work and makes the assignment less technical. \n",
    "Hints:\n",
    "You can execute certain linux shell commands by prefixing the command with `!`. You can insert Markdown cells and code cells. The first you can use for documenting and explaining your results the second you can use writing code snippets that execute the tasks required.  \n",
    "\n",
    "In this assignment you will implement a Naïve Bayes classifier in Python that will classify emails into spam and non-spam (“ham”) classes.  Your program should be able to train on a given set of spam and “ham” datasets. \n",
    "You will work with the datasets available at https://spamassassin.apache.org/old/publiccorpus/. There are three types of files in this location: \n",
    "-\teasy-ham: non-spam messages typically quite easy to differentiate from spam messages. \n",
    "-\thard-ham: non-spam messages more difficult to differentiate \n",
    "-\tspam: spam messages \n",
    "\n",
    "**Execute the cell below to download and extract the data into the environment of the notebook -- it will take a few seconds.** If you chose to use Jupyter notebooks you will have to run the commands in the cell below on your local computer, with Windows you can use \n",
    "7zip (https://www.7-zip.org/download.html) to decompress the data.\n",
    "\n"
   ]
  },
  {
   "cell_type": "markdown",
   "metadata": {
    "id": "tdH1XTepLjZ3"
   },
   "source": [
    "*The* data is now in the three folders `easy_ham`, `hard_ham`, and `spam`."
   ]
  },
  {
   "cell_type": "markdown",
   "metadata": {
    "id": "DGlWPVnSNzT7"
   },
   "source": [
    "###1. Preprocessing: \n",
    "1.\tNote that the email files contain a lot of extra information, besides the actual message. Ignore that for now and run on the entire text. Further down (in the higher-grade part), you will be asked to filter out the headers and footers. \n",
    "2.\tWe don’t want to train and test on the same data. Split the spam and the ham datasets in a training set and a test set. (`hamtrain`, `spamtrain`, `hamtest`, and `spamtest`)\n"
   ]
  },
  {
   "cell_type": "code",
   "execution_count": 275,
   "metadata": {},
   "outputs": [],
   "source": [
    "from sklearn.feature_extraction.text import CountVectorizer\n",
    "from sklearn.naive_bayes import MultinomialNB\n",
    "from sklearn.model_selection import train_test_split\n",
    "from sklearn.naive_bayes import MultinomialNB, BernoulliNB\n",
    "from sklearn.metrics import ConfusionMatrixDisplay\n",
    "\n",
    "import re\n",
    "import matplotlib.pyplot as plt\n",
    "import pandas as pd\n",
    "import os"
   ]
  },
  {
   "cell_type": "code",
   "execution_count": 261,
   "metadata": {},
   "outputs": [
    {
     "data": {
      "text/html": [
       "<div>\n",
       "<style scoped>\n",
       "    .dataframe tbody tr th:only-of-type {\n",
       "        vertical-align: middle;\n",
       "    }\n",
       "\n",
       "    .dataframe tbody tr th {\n",
       "        vertical-align: top;\n",
       "    }\n",
       "\n",
       "    .dataframe thead th {\n",
       "        text-align: right;\n",
       "    }\n",
       "</style>\n",
       "<table border=\"1\" class=\"dataframe\">\n",
       "  <thead>\n",
       "    <tr style=\"text-align: right;\">\n",
       "      <th></th>\n",
       "      <th>Class</th>\n",
       "      <th>Email</th>\n",
       "      <th>Content</th>\n",
       "    </tr>\n",
       "  </thead>\n",
       "  <tbody>\n",
       "    <tr>\n",
       "      <th>0</th>\n",
       "      <td>Ham</td>\n",
       "      <td>0001.ea7e79d3153e7469e7a9c3e0af6a357e</td>\n",
       "      <td>From exmh-workers-admin@redhat.com  Thu Aug 22...</td>\n",
       "    </tr>\n",
       "    <tr>\n",
       "      <th>1</th>\n",
       "      <td>Ham</td>\n",
       "      <td>0002.b3120c4bcbf3101e661161ee7efcb8bf</td>\n",
       "      <td>From Steve_Burt@cursor-system.com  Thu Aug 22 ...</td>\n",
       "    </tr>\n",
       "    <tr>\n",
       "      <th>2</th>\n",
       "      <td>Ham</td>\n",
       "      <td>0003.acfc5ad94bbd27118a0d8685d18c89dd</td>\n",
       "      <td>From timc@2ubh.com  Thu Aug 22 13:52:59 2002\\n...</td>\n",
       "    </tr>\n",
       "    <tr>\n",
       "      <th>3</th>\n",
       "      <td>Ham</td>\n",
       "      <td>0004.e8d5727378ddde5c3be181df593f1712</td>\n",
       "      <td>From irregulars-admin@tb.tf  Thu Aug 22 14:23:...</td>\n",
       "    </tr>\n",
       "    <tr>\n",
       "      <th>4</th>\n",
       "      <td>Ham</td>\n",
       "      <td>0005.8c3b9e9c0f3f183ddaf7592a11b99957</td>\n",
       "      <td>From exmh-users-admin@redhat.com  Thu Aug 22 1...</td>\n",
       "    </tr>\n",
       "  </tbody>\n",
       "</table>\n",
       "</div>"
      ],
      "text/plain": [
       "  Class                                  Email  \\\n",
       "0   Ham  0001.ea7e79d3153e7469e7a9c3e0af6a357e   \n",
       "1   Ham  0002.b3120c4bcbf3101e661161ee7efcb8bf   \n",
       "2   Ham  0003.acfc5ad94bbd27118a0d8685d18c89dd   \n",
       "3   Ham  0004.e8d5727378ddde5c3be181df593f1712   \n",
       "4   Ham  0005.8c3b9e9c0f3f183ddaf7592a11b99957   \n",
       "\n",
       "                                             Content  \n",
       "0  From exmh-workers-admin@redhat.com  Thu Aug 22...  \n",
       "1  From Steve_Burt@cursor-system.com  Thu Aug 22 ...  \n",
       "2  From timc@2ubh.com  Thu Aug 22 13:52:59 2002\\n...  \n",
       "3  From irregulars-admin@tb.tf  Thu Aug 22 14:23:...  \n",
       "4  From exmh-users-admin@redhat.com  Thu Aug 22 1...  "
      ]
     },
     "execution_count": 261,
     "metadata": {},
     "output_type": "execute_result"
    }
   ],
   "source": [
    "# pre-processing code here\n",
    "\n",
    "# Method for retrieving data from files\n",
    "def get_datasets(paths, email_class):\n",
    "    rows = []\n",
    "    for path in paths:\n",
    "        for file in os.listdir(path):\n",
    "            with open(os.path.join(path, file), encoding='latin-1') as email:\n",
    "                if email is not None:\n",
    "                    content = email.read()\n",
    "                    rows.append({'Class': email_class, 'Email': file, 'Content': content})\n",
    "    return pd.DataFrame(rows)\n",
    "\n",
    "# retrieving data into dataframes with classes, file name and content\n",
    "df_easy_ham = get_datasets(['./Data/easy_ham'], 'Ham')\n",
    "df_hard_ham = get_datasets(['./Data/hard_ham'], 'Ham')\n",
    "df_spam = get_datasets(['./Data/spam'], 'Spam')\n",
    "\n",
    "# Merging dataframes\n",
    "frames = [df_easy_ham, df_hard_ham, df_spam]\n",
    "df_merged = pd.concat(frames)\n",
    "\n",
    "df_merged.head()"
   ]
  },
  {
   "cell_type": "code",
   "execution_count": 262,
   "metadata": {},
   "outputs": [],
   "source": [
    "# Collecting columns of content and classes\n",
    "\n",
    "x = df_merged['Content']\n",
    "y = df_merged['Class']\n",
    "\n",
    "# Splitting our data into training and testing\n",
    "x_train, x_test, y_train, y_test = train_test_split(x, y, test_size=0.20, random_state=0)\n",
    "\n",
    "# Count Vectorizer creates a Bag of words\n",
    "cv = CountVectorizer()\n",
    "X_train_vector = cv.fit_transform(x_train)\n",
    "X_test_vector = cv.transform(x_test)"
   ]
  },
  {
   "cell_type": "code",
   "execution_count": 263,
   "metadata": {
    "scrolled": true
   },
   "outputs": [
    {
     "name": "stdout",
     "output_type": "stream",
     "text": [
      "Multinomial - training accuracy:  99.77281332828474\n",
      "Multinomial - test accuracy:  97.12556732223904\n",
      "Bernoulli - training accuracy:  91.82127981825067\n",
      "Bernoulli - test accuracy is:  86.08169440242057\n"
     ]
    }
   ],
   "source": [
    "# fit models using training vector\n",
    "multinomial_nb = MultinomialNB().fit(X_train_vector, y_train)\n",
    "print('Multinomial - training accuracy: ',multinomial_nb.score(X_train_vector,y_train)*100)\n",
    "print('Multinomial - test accuracy: ',multinomial_nb.score(X_test_vector,y_test)*100)\n",
    "\n",
    "bernoulli_nb = BernoulliNB().fit(X_train_vector, y_train)\n",
    "print('Bernoulli - training accuracy: ',bernoulli_nb.score(X_train_vector,y_train)*100)\n",
    "print('Bernoulli - test accuracy is: ',bernoulli_nb.score(X_test_vector,y_test)*100)"
   ]
  },
  {
   "cell_type": "code",
   "execution_count": 276,
   "metadata": {},
   "outputs": [
    {
     "data": {
      "text/plain": [
       "Text(0, 0.5, 'Actual email type')"
      ]
     },
     "execution_count": 276,
     "metadata": {},
     "output_type": "execute_result"
    },
    {
     "data": {
      "image/png": "[encoded data removed]",
      "text/plain": [
       "<Figure size 1440x720 with 2 Axes>"
      ]
     },
     "metadata": {
      "needs_background": "light"
     },
     "output_type": "display_data"
    }
   ],
   "source": [
    "# make predictions on the test data\n",
    "y_pred_multinomial = multinomial_nb.predict(X_test_vector)\n",
    "y_pred_bernoulli = bernoulli_nb.predict(X_test_vector)\n",
    "\n",
    "# calculate the true positive and false negatives\n",
    "tn1, fp1, fn1, tp1 = confusion_matrix(y_test,y_pred_multinomial).ravel()\n",
    "tn2, fp2, fn2, tp2 = confusion_matrix(y_test,y_pred_bernoulli).ravel()\n",
    "  \n",
    "# plot confusion matrices\n",
    "fig, (ax1, ax2) = plt.subplots(nrows=1, ncols=2, figsize=(20,10))\n",
    "\n",
    "ConfusionMatrixDisplay.from_estimator(multinomial_nb, X_test_vector, y_test, ax=ax1, colorbar=False, normalize='true')\n",
    "ax2.set_title(\"Confusion Matrix - Multinomial\")\n",
    "ax2.set_xlabel(\"Predicted class\")\n",
    "ax2.set_ylabel(\"Actual class\")\n",
    "\n",
    "ConfusionMatrixDisplay.from_estimator(bernoulli_nb, X_test_vector, y_test, ax=ax2, colorbar=False, normalize='true')\n",
    "ax2.set_title(\"Confusion Matrix - Bernoulli\")\n",
    "ax2.set_xlabel(\"Predicted class\")\n",
    "ax2.set_ylabel(\"Actual class\")"
   ]
  },
  {
   "cell_type": "markdown",
   "metadata": {
    "id": "mnbrbI0_OKCF"
   },
   "source": [
    "###2. Write a Python program that: \n",
    "1.\tUses four datasets (`hamtrain`, `spamtrain`, `hamtest`, and `spamtest`) \n",
    "2.\tTrains a Naïve Bayes classifier (e.g. Sklearn) on `hamtrain` and `spamtrain`, that classifies the test sets and reports True Positive and False Negative rates on the `hamtest` and `spamtest` datasets. You can use `CountVectorizer` to transform the email texts into vectors. Please note that there are different types of Naïve Bayes Classifier in SKlearn ([Documentation here](https://scikit-learn.org/stable/modules/naive_bayes.html)). Test two of these classifiers that are well suited for this problem\n",
    "- Multinomial Naive Bayes  \n",
    "- Bernoulli Naive Bayes. \n",
    "\n",
    "Please inspect the documentation to ensure input to the classifiers is appropriate. Discuss the differences between these two classifiers. \n",
    "\n",
    "\n",
    "\n"
   ]
  },
  {
   "cell_type": "code",
   "execution_count": null,
   "metadata": {},
   "outputs": [],
   "source": []
  },
  {
   "cell_type": "markdown",
   "metadata": {
    "id": "nI1bPDCvQxen"
   },
   "source": [
    "Your discussion here"
   ]
  },
  {
   "cell_type": "markdown",
   "metadata": {
    "id": "wDFS3uFFUcS7"
   },
   "source": [
    "### 3.Run your program on \n",
    "-\tSpam versus easy-ham \n",
    "-\tSpam versus hard-ham."
   ]
  },
  {
   "cell_type": "code",
   "execution_count": 265,
   "metadata": {
    "id": "gool_zb8Qzzy"
   },
   "outputs": [],
   "source": [
    "#Code to report results here"
   ]
  },
  {
   "cell_type": "markdown",
   "metadata": {
    "id": "TkfQWBB4UhYd"
   },
   "source": [
    "###4.\tTo avoid classification based on common and uninformative words it is common to filter these out. \n",
    "\n",
    "**a.** Argue why this may be useful. Try finding the words that are too common/uncommon in the dataset. \n",
    "\n",
    "**b.** Use the parameters in Sklearn’s `CountVectorizer` to filter out these words. Update the program from point 3 and run it on your data and report your results.\n",
    "\n",
    "You have two options to do this in Sklearn: either using the words found in part (a) or letting Sklearn do it for you. Argue for your decision-making.\n"
   ]
  },
  {
   "cell_type": "code",
   "execution_count": null,
   "metadata": {
    "id": "qt7ELzEqUfas"
   },
   "outputs": [],
   "source": []
  },
  {
   "cell_type": "markdown",
   "metadata": {
    "id": "zcyVfOZFU4F_"
   },
   "source": [
    "###5. Eeking out further performance\n",
    "Filter out the headers and footers of the emails before you run on them. The format may vary somewhat between emails, which can make this a bit tricky, so perfect filtering is not required. Run your program again and answer the following questions: \n",
    "-\tDoes the result improve from 3 and 4? \n",
    "- The split of the data set into a training set and a test set can lead to very skewed results. Why is this, and do you have suggestions on remedies? \n",
    "- What do you expect would happen if your training set were mostly spam messages while your test set were mostly ham messages? \n",
    "\n",
    "Re-estimate your classifier using `fit_prior` parameter set to `false`, and answer the following questions:\n",
    "- What does this parameter mean?\n",
    "- How does this alter the predictions? Discuss why or why not."
   ]
  },
  {
   "cell_type": "code",
   "execution_count": null,
   "metadata": {
    "id": "s_nyGug9U4f3"
   },
   "outputs": [],
   "source": []
  },
  {
   "cell_type": "markdown",
   "metadata": {
    "id": "ND6FKoexVAhW"
   },
   "source": []
  },
  {
   "cell_type": "code",
   "execution_count": null,
   "metadata": {
    "id": "8bI3z_spVacz"
   },
   "outputs": [],
   "source": []
  }
 ],
 "metadata": {
  "colab": {
   "collapsed_sections": [],
   "provenance": []
  },
  "kernelspec": {
   "display_name": "Python 3 (ipykernel)",
   "language": "python",
   "name": "python3"
  },
  "language_info": {
   "codemirror_mode": {
    "name": "ipython",
    "version": 3
   },
   "file_extension": ".py",
   "mimetype": "text/x-python",
   "name": "python",
   "nbconvert_exporter": "python",
   "pygments_lexer": "ipython3",
   "version": "3.9.12"
  }
 },
 "nbformat": 4,
 "nbformat_minor": 1
}
