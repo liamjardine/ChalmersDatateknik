{
 "cells": [
  {
   "cell_type": "markdown",
   "metadata": {
    "id": "-sTsDfIVKsmL"
   },
   "source": [
    "#DAT405 Introduction to Data Science and AI \n",
    "##2022-2023, Reading Period 1\n",
    "## Assignment 4: Spam classification using Naïve Bayes \n",
    "There will be an overall grade for this assignment. To get a pass grade (grade 5), you need to pass items 1-3 below. To receive higher grades, finish items 4 and 5 as well. \n",
    "\n",
    "The exercise takes place in a notebook environment where you can chose to use Jupyter or Google Colabs. We recommend you use Google Colabs as it will facilitate remote group-work and makes the assignment less technical. \n",
    "Hints:\n",
    "You can execute certain linux shell commands by prefixing the command with `!`. You can insert Markdown cells and code cells. The first you can use for documenting and explaining your results the second you can use writing code snippets that execute the tasks required.  \n",
    "\n",
    "In this assignment you will implement a Naïve Bayes classifier in Python that will classify emails into spam and non-spam (“ham”) classes.  Your program should be able to train on a given set of spam and “ham” datasets. \n",
    "You will work with the datasets available at https://spamassassin.apache.org/old/publiccorpus/. There are three types of files in this location: \n",
    "-\teasy-ham: non-spam messages typically quite easy to differentiate from spam messages. \n",
    "-\thard-ham: non-spam messages more difficult to differentiate \n",
    "-\tspam: spam messages \n",
    "\n",
    "**Execute the cell below to download and extract the data into the environment of the notebook -- it will take a few seconds.** If you chose to use Jupyter notebooks you will have to run the commands in the cell below on your local computer, with Windows you can use \n",
    "7zip (https://www.7-zip.org/download.html) to decompress the data.\n",
    "\n"
   ]
  },
  {
   "cell_type": "code",
   "execution_count": 1,
   "metadata": {},
   "outputs": [],
   "source": [
    "# %pip install wget"
   ]
  },
  {
   "cell_type": "code",
   "execution_count": 2,
   "metadata": {
    "id": "Wa37fBwRF-xe"
   },
   "outputs": [],
   "source": [
    "# #Download and extract data\n",
    "# import wget\n",
    "# # wget.download('https://spamassassin.apache.org/old/publiccorpus/20021010_easy_ham.tar.bz2', '20021010_easy_ham.tar.bz2')\n",
    "# # wget.download('https://spamassassin.apache.org/old/publiccorpus/20021010_hard_ham.tar.bz2', '20021010_hard_ham.tar.bz2')\n",
    "# # wget.download('https://spamassassin.apache.org/old/publiccorpus/20021010_spam.tar.bz2', '20021010_spam.tar.bz2')\n",
    "# !tar -xjf 20021010_easy_ham.tar.bz2\n",
    "# !tar -xjf 20021010_hard_ham.tar.bz2\n",
    "# !tar -xjf 20021010_spam.tar.bz2"
   ]
  },
  {
   "cell_type": "markdown",
   "metadata": {
    "id": "tdH1XTepLjZ3"
   },
   "source": [
    "*The* data is now in the three folders `easy_ham`, `hard_ham`, and `spam`."
   ]
  },
  {
   "cell_type": "code",
   "execution_count": 3,
   "metadata": {
    "id": "A53Gw00fBLG2"
   },
   "outputs": [
    {
     "name": "stdout",
     "output_type": "stream",
     "text": [
      "total 18664\r\n",
      "drwxr-xr-x    14 chetwinlow  staff   448B Sep 23 12:56 \u001b[1m\u001b[36m.\u001b[m\u001b[m\r\n",
      "drwxr-xr-x    10 chetwinlow  staff   320B Sep 21 00:13 \u001b[1m\u001b[36m..\u001b[m\u001b[m\r\n",
      "-rw-r--r--@    1 chetwinlow  staff   6.0K Sep 22 12:50 .DS_Store\r\n",
      "drwxr-xr-x     3 chetwinlow  staff    96B Sep 21 00:15 \u001b[1m\u001b[36m.ipynb_checkpoints\u001b[m\u001b[m\r\n",
      "-rw-r--r--     1 chetwinlow  staff   1.6M Sep 22 12:42 20021010_easy_ham.tar.bz2\r\n",
      "-rw-r--r--     1 chetwinlow  staff   997K Sep 22 12:42 20021010_hard_ham.tar.bz2\r\n",
      "-rw-r--r--     1 chetwinlow  staff   1.1M Sep 22 12:42 20021010_spam.tar.bz2\r\n",
      "-rw-r--r--@    1 chetwinlow  staff   129K Sep 23 12:56 Assignment4.ipynb\r\n",
      "-rw-r--r--@    1 chetwinlow  staff   3.8M Sep 22 04:49 L7_Bayesian_statistics_and_graphical_models.pdf\r\n",
      "-rw-r--r--@    1 chetwinlow  staff   1.5M Sep 22 04:49 L8_Bayesian_statistics_and_graphical_models.pdf\r\n",
      "-rw-r--r--     1 chetwinlow  staff    16K Sep 23 04:44 cm_MNB.png\r\n",
      "drwx--x--x  2553 chetwinlow  staff    80K Oct 10  2002 \u001b[1m\u001b[36measy_ham\u001b[m\u001b[m\r\n",
      "drwx--x--x   252 chetwinlow  staff   7.9K Dec 16  2004 \u001b[1m\u001b[36mhard_ham\u001b[m\u001b[m\r\n",
      "drwxr-xr-x   503 chetwinlow  staff    16K Oct 10  2002 \u001b[1m\u001b[36mspam\u001b[m\u001b[m\r\n"
     ]
    }
   ],
   "source": [
    "!ls -lah"
   ]
  },
  {
   "cell_type": "markdown",
   "metadata": {
    "id": "DGlWPVnSNzT7"
   },
   "source": [
    "###1. Preprocessing: \n",
    "1.\tNote that the email files contain a lot of extra information, besides the actual message. Ignore that for now and run on the entire text. Further down (in the higher-grade part), you will be asked to filter out the headers and footers. \n",
    "2.\tWe don’t want to train and test on the same data. Split the spam and the ham datasets in a training set and a test set. (`hamtrain`, `spamtrain`, `hamtest`, and `spamtest`)\n"
   ]
  },
  {
   "cell_type": "code",
   "execution_count": 1,
   "metadata": {
    "id": "J2sllUWXKblD"
   },
   "outputs": [
    {
     "data": {
      "text/plain": [
       "((2551,), (250,), (501,))"
      ]
     },
     "execution_count": 1,
     "metadata": {},
     "output_type": "execute_result"
    }
   ],
   "source": [
    "#pre-processing code here\n",
    "\n",
    "## extract text and use string as input, then create the corresponding labels for each class here, \n",
    "## choose spam to be 1 and ham to be 0\n",
    "import os\n",
    "import numpy as np\n",
    "\n",
    "currdir = os.getcwd()\n",
    "easy_ham_path = os.path.join(currdir, 'easy_ham/')\n",
    "hard_ham_path = os.path.join(currdir, 'hard_ham/')\n",
    "spam_path = os.path.join(currdir, 'spam/')\n",
    "\n",
    "\n",
    "easy_ham_dataset = []\n",
    "hard_ham_dataset = []\n",
    "spam_dataset = []\n",
    "\n",
    "for email in os.listdir(easy_ham_path):\n",
    "    path_to_email = os.path.join(easy_ham_path, email)\n",
    "    file = open(path_to_email, 'r', encoding=\"ISO-8859-1\")\n",
    "    easy_ham_dataset.append(file.read())\n",
    "\n",
    "for email in os.listdir(hard_ham_path):\n",
    "    path_to_email = os.path.join(hard_ham_path, email)\n",
    "    file = open(path_to_email, 'r', encoding=\"ISO-8859-1\")\n",
    "    hard_ham_dataset.append(file.read())\n",
    "    \n",
    "for email in os.listdir(spam_path):\n",
    "    path_to_email = os.path.join(spam_path, email)\n",
    "    file = open(path_to_email, 'r', encoding=\"ISO-8859-1\")\n",
    "    spam_dataset.append(file.read())\n",
    "\n",
    "easy_ham_dataset = np.array(easy_ham_dataset)\n",
    "hard_ham_dataset = np.array(hard_ham_dataset)\n",
    "spam_dataset = np.array(spam_dataset)\n",
    "\n",
    "\n",
    "easy_ham_labels = np.zeros(easy_ham_dataset.shape)\n",
    "hard_ham_labels = np.zeros(hard_ham_dataset.shape)\n",
    "spam_labels = np.ones(spam_dataset.shape)\n",
    "\n",
    "\n",
    "easy_ham_dataset.shape, hard_ham_dataset.shape, spam_dataset.shape"
   ]
  },
  {
   "cell_type": "code",
   "execution_count": 2,
   "metadata": {
    "id": "MJERHSCcGNaW"
   },
   "outputs": [],
   "source": [
    "#Code here **This assumes easy and hard ham should have been combined**\n",
    "##1. \n",
    "## separately split the easy_ham and hard_ham and then combine them\n",
    "\n",
    "from sklearn.model_selection import train_test_split\n",
    "easy_ham_x_train, easy_ham_x_test, easy_ham_y_train, easy_ham_y_test = train_test_split(easy_ham_dataset, easy_ham_labels, test_size=0.2, random_state=0)\n",
    "hard_ham_x_train, hard_ham_x_test, hard_ham_y_train, hard_ham_y_test = train_test_split(hard_ham_dataset, hard_ham_labels, test_size=0.2, random_state=0)\n",
    "spam_x_train, spam_x_test, spam_y_train, spam_y_test = train_test_split(spam_dataset, spam_labels, test_size=0.2, random_state=0)\n",
    "\n",
    "hamtrain = {\n",
    "    'data': np.concatenate((easy_ham_x_train, hard_ham_x_train), axis=0),\n",
    "    'labels': np.concatenate((easy_ham_y_train, hard_ham_y_train), axis=0)\n",
    "}\n",
    "\n",
    "hamtest = {\n",
    "    'data': np.concatenate((easy_ham_x_test, hard_ham_x_test), axis=0),\n",
    "    'labels': np.concatenate((easy_ham_y_test, hard_ham_y_test), axis=0)\n",
    "}\n",
    "\n",
    "spamtrain = {\n",
    "    'data': spam_x_train,\n",
    "    'labels': spam_y_train\n",
    "}\n",
    "\n",
    "spamtest = {\n",
    "    'data': spam_x_test,\n",
    "    'labels': spam_y_test\n",
    "}\n",
    "\n",
    "assert hamtrain['labels'].shape == hamtrain['data'].shape, \"Oh no, problems with number of ham train data and labels\"\n",
    "assert spamtrain['labels'].shape == spamtrain['data'].shape, \"Oh no, problems with number of spam train data and labels\"\n",
    "assert hamtest['labels'].shape == hamtest['data'].shape, \"Oh no, problems with number of ham test data and labels\"\n",
    "assert spamtest['labels'].shape == spamtest['data'].shape, \"Oh no, problems with number of spam test data and labels\""
   ]
  },
  {
   "cell_type": "markdown",
   "metadata": {
    "id": "mnbrbI0_OKCF"
   },
   "source": [
    "###2. Write a Python program that: \n",
    "1.\tUses four datasets (`hamtrain`, `spamtrain`, `hamtest`, and `spamtest`) \n",
    "2.\tTrains a Naïve Bayes classifier (e.g. Sklearn) on `hamtrain` and `spamtrain`, that classifies the test sets and reports True Positive and False Negative rates on the `hamtest` and `spamtest` datasets. You can use `CountVectorizer` to transform the email texts into vectors. Please note that there are different types of Naïve Bayes Classifier in SKlearn ([Documentation here](https://scikit-learn.org/stable/modules/naive_bayes.html)). Test two of these classifiers that are well suited for this problem\n",
    "- Multinomial Naive Bayes  \n",
    "- Bernoulli Naive Bayes. \n",
    "\n",
    "Please inspect the documentation to ensure input to the classifiers is appropriate. Discuss the differences between these two classifiers. \n",
    "\n",
    "\n",
    "\n"
   ]
  },
  {
   "cell_type": "code",
   "execution_count": 3,
   "metadata": {},
   "outputs": [],
   "source": [
    "## 2.\n",
    "## convert all text to vectors\n",
    "from sklearn.feature_extraction.text import CountVectorizer\n",
    "\n",
    "vectorizer = CountVectorizer(encoding='ISO-8859-1')\n",
    "\n",
    "\n",
    "train = {\n",
    "    'data': np.concatenate((hamtrain['data'], spamtrain['data']), axis=0),\n",
    "    'labels': np.concatenate((hamtrain['labels'], spamtrain['labels']), axis=0)\n",
    "}\n",
    "\n",
    "test = {\n",
    "    'data': np.concatenate((hamtest['data'], spamtest['data']), axis=0),\n",
    "    'labels': np.concatenate((hamtest['labels'], spamtest['labels']), axis=0)\n",
    "}\n",
    "\n",
    "\n",
    "train['data'] = vectorizer.fit_transform(train['data'])\n",
    "test['data'] = vectorizer.transform(test['data'])"
   ]
  },
  {
   "cell_type": "code",
   "execution_count": 4,
   "metadata": {},
   "outputs": [
    {
     "data": {
      "text/html": [
       "<style>#sk-container-id-1 {color: black;background-color: white;}#sk-container-id-1 pre{padding: 0;}#sk-container-id-1 div.sk-toggleable {background-color: white;}#sk-container-id-1 label.sk-toggleable__label {cursor: pointer;display: block;width: 100%;margin-bottom: 0;padding: 0.3em;box-sizing: border-box;text-align: center;}#sk-container-id-1 label.sk-toggleable__label-arrow:before {content: \"▸\";float: left;margin-right: 0.25em;color: #696969;}#sk-container-id-1 label.sk-toggleable__label-arrow:hover:before {color: black;}#sk-container-id-1 div.sk-estimator:hover label.sk-toggleable__label-arrow:before {color: black;}#sk-container-id-1 div.sk-toggleable__content {max-height: 0;max-width: 0;overflow: hidden;text-align: left;background-color: #f0f8ff;}#sk-container-id-1 div.sk-toggleable__content pre {margin: 0.2em;color: black;border-radius: 0.25em;background-color: #f0f8ff;}#sk-container-id-1 input.sk-toggleable__control:checked~div.sk-toggleable__content {max-height: 200px;max-width: 100%;overflow: auto;}#sk-container-id-1 input.sk-toggleable__control:checked~label.sk-toggleable__label-arrow:before {content: \"▾\";}#sk-container-id-1 div.sk-estimator input.sk-toggleable__control:checked~label.sk-toggleable__label {background-color: #d4ebff;}#sk-container-id-1 div.sk-label input.sk-toggleable__control:checked~label.sk-toggleable__label {background-color: #d4ebff;}#sk-container-id-1 input.sk-hidden--visually {border: 0;clip: rect(1px 1px 1px 1px);clip: rect(1px, 1px, 1px, 1px);height: 1px;margin: -1px;overflow: hidden;padding: 0;position: absolute;width: 1px;}#sk-container-id-1 div.sk-estimator {font-family: monospace;background-color: #f0f8ff;border: 1px dotted black;border-radius: 0.25em;box-sizing: border-box;margin-bottom: 0.5em;}#sk-container-id-1 div.sk-estimator:hover {background-color: #d4ebff;}#sk-container-id-1 div.sk-parallel-item::after {content: \"\";width: 100%;border-bottom: 1px solid gray;flex-grow: 1;}#sk-container-id-1 div.sk-label:hover label.sk-toggleable__label {background-color: #d4ebff;}#sk-container-id-1 div.sk-serial::before {content: \"\";position: absolute;border-left: 1px solid gray;box-sizing: border-box;top: 0;bottom: 0;left: 50%;z-index: 0;}#sk-container-id-1 div.sk-serial {display: flex;flex-direction: column;align-items: center;background-color: white;padding-right: 0.2em;padding-left: 0.2em;position: relative;}#sk-container-id-1 div.sk-item {position: relative;z-index: 1;}#sk-container-id-1 div.sk-parallel {display: flex;align-items: stretch;justify-content: center;background-color: white;position: relative;}#sk-container-id-1 div.sk-item::before, #sk-container-id-1 div.sk-parallel-item::before {content: \"\";position: absolute;border-left: 1px solid gray;box-sizing: border-box;top: 0;bottom: 0;left: 50%;z-index: -1;}#sk-container-id-1 div.sk-parallel-item {display: flex;flex-direction: column;z-index: 1;position: relative;background-color: white;}#sk-container-id-1 div.sk-parallel-item:first-child::after {align-self: flex-end;width: 50%;}#sk-container-id-1 div.sk-parallel-item:last-child::after {align-self: flex-start;width: 50%;}#sk-container-id-1 div.sk-parallel-item:only-child::after {width: 0;}#sk-container-id-1 div.sk-dashed-wrapped {border: 1px dashed gray;margin: 0 0.4em 0.5em 0.4em;box-sizing: border-box;padding-bottom: 0.4em;background-color: white;}#sk-container-id-1 div.sk-label label {font-family: monospace;font-weight: bold;display: inline-block;line-height: 1.2em;}#sk-container-id-1 div.sk-label-container {text-align: center;}#sk-container-id-1 div.sk-container {/* jupyter's `normalize.less` sets `[hidden] { display: none; }` but bootstrap.min.css set `[hidden] { display: none !important; }` so we also need the `!important` here to be able to override the default hidden behavior on the sphinx rendered scikit-learn.org. See: https://github.com/scikit-learn/scikit-learn/issues/21755 */display: inline-block !important;position: relative;}#sk-container-id-1 div.sk-text-repr-fallback {display: none;}</style><div id=\"sk-container-id-1\" class=\"sk-top-container\"><div class=\"sk-text-repr-fallback\"><pre>BernoulliNB()</pre><b>In a Jupyter environment, please rerun this cell to show the HTML representation or trust the notebook. <br />On GitHub, the HTML representation is unable to render, please try loading this page with nbviewer.org.</b></div><div class=\"sk-container\" hidden><div class=\"sk-item\"><div class=\"sk-estimator sk-toggleable\"><input class=\"sk-toggleable__control sk-hidden--visually\" id=\"sk-estimator-id-1\" type=\"checkbox\" checked><label for=\"sk-estimator-id-1\" class=\"sk-toggleable__label sk-toggleable__label-arrow\">BernoulliNB</label><div class=\"sk-toggleable__content\"><pre>BernoulliNB()</pre></div></div></div></div></div>"
      ],
      "text/plain": [
       "BernoulliNB()"
      ]
     },
     "execution_count": 4,
     "metadata": {},
     "output_type": "execute_result"
    }
   ],
   "source": [
    "from sklearn.naive_bayes import MultinomialNB\n",
    "from sklearn.naive_bayes import BernoulliNB\n",
    "\n",
    "\n",
    "# ## multinomial classifier first\n",
    "MNBClassifier = MultinomialNB()\n",
    "MNBClassifier.fit(train['data'], train['labels'])\n",
    "\n",
    "## bernoulli classifier next\n",
    "BNBClassifier = BernoulliNB()\n",
    "BNBClassifier.fit(train['data'], train['labels'])"
   ]
  },
  {
   "cell_type": "code",
   "execution_count": 5,
   "metadata": {},
   "outputs": [
    {
     "name": "stdout",
     "output_type": "stream",
     "text": [
      "Multinomial Classifier acc: 98.79154078549848%\n",
      "Bernoulli Classifier acc: 88.21752265861026%\n"
     ]
    }
   ],
   "source": [
    "# #accuracy on test set\n",
    "MNB_acc = MNBClassifier.score(test['data'], test['labels'])\n",
    "BNB_acc = BNBClassifier.score(test['data'], test['labels'])\n",
    "\n",
    "print(f\"Multinomial Classifier acc: {MNB_acc * 100}%\")\n",
    "\n",
    "print(f\"Bernoulli Classifier acc: {BNB_acc * 100}%\")"
   ]
  },
  {
   "cell_type": "code",
   "execution_count": 6,
   "metadata": {},
   "outputs": [],
   "source": [
    "import numpy as np \n",
    "import seaborn as sns #seaborn is a package for nice-looking graphics\n",
    "from sklearn import metrics\n",
    "import matplotlib.pyplot as plt"
   ]
  },
  {
   "cell_type": "code",
   "execution_count": 7,
   "metadata": {},
   "outputs": [],
   "source": [
    "MNB_cm = metrics.confusion_matrix(test['labels'], MNBClassifier.predict(test['data']))\n",
    "BNB_cm = metrics.confusion_matrix(test['labels'], BNBClassifier.predict(test['data']))"
   ]
  },
  {
   "cell_type": "code",
   "execution_count": 8,
   "metadata": {},
   "outputs": [
    {
     "data": {
      "image/png": "[encoded data removed]",
      "text/plain": [
       "<Figure size 648x648 with 2 Axes>"
      ]
     },
     "metadata": {
      "needs_background": "light"
     },
     "output_type": "display_data"
    }
   ],
   "source": [
    "plt.figure(figsize=(9,9))\n",
    "sns.heatmap(MNB_cm, annot=True, fmt=\".3f\", linewidths=.5, square = True, cmap = 'Blues_r');\n",
    "plt.ylabel('Actual label');\n",
    "plt.xlabel('Predicted label');\n",
    "all_sample_title = 'MNB Accuracy Score: {0}'.format(MNB_acc)\n",
    "plt.title(all_sample_title, size = 15);\n",
    "plt.savefig('cm_MNB.png')\n",
    "#plt.show();"
   ]
  },
  {
   "cell_type": "markdown",
   "metadata": {
    "id": "nI1bPDCvQxen"
   },
   "source": [
    "Multinomial classifier:\n",
    "- Hamtest TP rate: 1.0\n",
    "- Hamtest FN rate: 0.0\n",
    "- Spamtest TP rate: 93 / 101 = 0.9207920792079208\n",
    "- Spamtest FN rate: 8 / 101 = 0.07920792079207917\n"
   ]
  },
  {
   "cell_type": "code",
   "execution_count": 9,
   "metadata": {},
   "outputs": [
    {
     "data": {
      "image/png": "[encoded data removed]",
      "text/plain": [
       "<Figure size 648x648 with 2 Axes>"
      ]
     },
     "metadata": {
      "needs_background": "light"
     },
     "output_type": "display_data"
    }
   ],
   "source": [
    "plt.figure(figsize=(9,9))\n",
    "sns.heatmap(BNB_cm, annot=True, fmt=\".3f\", linewidths=.5, square = True, cmap = 'Blues_r');\n",
    "plt.ylabel('Actual label');\n",
    "plt.xlabel('Predicted label');\n",
    "all_sample_title = 'BNB Accuracy Score: {0}'.format(BNB_acc)\n",
    "plt.title(all_sample_title, size = 15);\n",
    "plt.savefig('cm_MNB.png')\n",
    "#plt.show();"
   ]
  },
  {
   "cell_type": "markdown",
   "metadata": {},
   "source": [
    "Multinomial classifier:\n",
    "- Hamtest TP rate: 1.0\n",
    "- Hamtest FN rate: 0.0\n",
    "- Spamtest TP rate: 23 / 101 = 0.22772277227722773\n",
    "- Spamtest FN rate: 8 / 101 = 0.7722772277227723"
   ]
  },
  {
   "cell_type": "markdown",
   "metadata": {},
   "source": [
    "Looking at the results, it is clear that the Multinomial classifier performs better than the Bernoulli classifier. This is reasonable based our understanding of how it works. By comparing the two confusion matrices above, we can check to see which model is the better performing one. Both models seem to label \"spam\" mails perfectly. It's the \"ham\" that can help use decide which one to go with. We know that Multinomial naive Bayes will evaluate the class of an email based on the counts it finds multiple words. On the other hand Bernoulli naive Bayes only focuses if a word is present or not and not the count of occurence. Multinomial works somewhat like TF-IDF where term frequency is important and makes sense when classifying text. While Bernoulli has its merits, its method of only seeing if a word exist or not is not really the best way of classifying text. Additionally, since Multinomial trials are a generalisation of Bernoulli trials where (K=2), it follows that a more flexible model would perform better."
   ]
  },
  {
   "cell_type": "markdown",
   "metadata": {
    "id": "wDFS3uFFUcS7"
   },
   "source": [
    "### 3.Run your program on \n",
    "-\tSpam versus easy-ham \n",
    "-\tSpam versus hard-ham."
   ]
  },
  {
   "cell_type": "code",
   "execution_count": 23,
   "metadata": {},
   "outputs": [],
   "source": [
    "## eham vs spam"
   ]
  },
  {
   "cell_type": "code",
   "execution_count": 10,
   "metadata": {},
   "outputs": [],
   "source": [
    "ehamtrain = {\n",
    "    'data': easy_ham_x_train,\n",
    "    'labels': easy_ham_y_train\n",
    "}\n",
    "\n",
    "ehamtest = {\n",
    "    'data': easy_ham_x_test,\n",
    "    'labels': easy_ham_y_test\n",
    "}\n",
    "\n",
    "spamtrain = {\n",
    "    'data': spam_x_train,\n",
    "    'labels': spam_y_train\n",
    "}\n",
    "\n",
    "spamtest = {\n",
    "    'data': spam_x_test,\n",
    "    'labels': spam_y_test\n",
    "}\n",
    "\n",
    "\n",
    "eham_spam_train = {\n",
    "    'data': np.concatenate((ehamtrain['data'], spamtrain['data']), axis=0),\n",
    "    'labels': np.concatenate((ehamtrain['labels'], spamtrain['labels']), axis=0)\n",
    "}\n",
    "\n",
    "eham_spam_test = {\n",
    "    'data': np.concatenate((ehamtest['data'], spamtest['data']), axis=0),\n",
    "    'labels': np.concatenate((ehamtest['labels'], spamtest['labels']), axis=0)\n",
    "}\n",
    "\n",
    "\n",
    "eham_spam_vectorizer = CountVectorizer(encoding='ISO-8859-1')\n",
    "\n",
    "vectorized_eham_spam_train = {}\n",
    "vectorized_eham_spam_test = {}\n",
    "\n",
    "vectorized_eham_spam_train['data'] = eham_spam_vectorizer.fit_transform(eham_spam_train['data'])\n",
    "vectorized_eham_spam_test['data'] = eham_spam_vectorizer.transform(eham_spam_test['data'])\n"
   ]
  },
  {
   "cell_type": "code",
   "execution_count": 11,
   "metadata": {},
   "outputs": [
    {
     "data": {
      "text/html": [
       "<style>#sk-container-id-2 {color: black;background-color: white;}#sk-container-id-2 pre{padding: 0;}#sk-container-id-2 div.sk-toggleable {background-color: white;}#sk-container-id-2 label.sk-toggleable__label {cursor: pointer;display: block;width: 100%;margin-bottom: 0;padding: 0.3em;box-sizing: border-box;text-align: center;}#sk-container-id-2 label.sk-toggleable__label-arrow:before {content: \"▸\";float: left;margin-right: 0.25em;color: #696969;}#sk-container-id-2 label.sk-toggleable__label-arrow:hover:before {color: black;}#sk-container-id-2 div.sk-estimator:hover label.sk-toggleable__label-arrow:before {color: black;}#sk-container-id-2 div.sk-toggleable__content {max-height: 0;max-width: 0;overflow: hidden;text-align: left;background-color: #f0f8ff;}#sk-container-id-2 div.sk-toggleable__content pre {margin: 0.2em;color: black;border-radius: 0.25em;background-color: #f0f8ff;}#sk-container-id-2 input.sk-toggleable__control:checked~div.sk-toggleable__content {max-height: 200px;max-width: 100%;overflow: auto;}#sk-container-id-2 input.sk-toggleable__control:checked~label.sk-toggleable__label-arrow:before {content: \"▾\";}#sk-container-id-2 div.sk-estimator input.sk-toggleable__control:checked~label.sk-toggleable__label {background-color: #d4ebff;}#sk-container-id-2 div.sk-label input.sk-toggleable__control:checked~label.sk-toggleable__label {background-color: #d4ebff;}#sk-container-id-2 input.sk-hidden--visually {border: 0;clip: rect(1px 1px 1px 1px);clip: rect(1px, 1px, 1px, 1px);height: 1px;margin: -1px;overflow: hidden;padding: 0;position: absolute;width: 1px;}#sk-container-id-2 div.sk-estimator {font-family: monospace;background-color: #f0f8ff;border: 1px dotted black;border-radius: 0.25em;box-sizing: border-box;margin-bottom: 0.5em;}#sk-container-id-2 div.sk-estimator:hover {background-color: #d4ebff;}#sk-container-id-2 div.sk-parallel-item::after {content: \"\";width: 100%;border-bottom: 1px solid gray;flex-grow: 1;}#sk-container-id-2 div.sk-label:hover label.sk-toggleable__label {background-color: #d4ebff;}#sk-container-id-2 div.sk-serial::before {content: \"\";position: absolute;border-left: 1px solid gray;box-sizing: border-box;top: 0;bottom: 0;left: 50%;z-index: 0;}#sk-container-id-2 div.sk-serial {display: flex;flex-direction: column;align-items: center;background-color: white;padding-right: 0.2em;padding-left: 0.2em;position: relative;}#sk-container-id-2 div.sk-item {position: relative;z-index: 1;}#sk-container-id-2 div.sk-parallel {display: flex;align-items: stretch;justify-content: center;background-color: white;position: relative;}#sk-container-id-2 div.sk-item::before, #sk-container-id-2 div.sk-parallel-item::before {content: \"\";position: absolute;border-left: 1px solid gray;box-sizing: border-box;top: 0;bottom: 0;left: 50%;z-index: -1;}#sk-container-id-2 div.sk-parallel-item {display: flex;flex-direction: column;z-index: 1;position: relative;background-color: white;}#sk-container-id-2 div.sk-parallel-item:first-child::after {align-self: flex-end;width: 50%;}#sk-container-id-2 div.sk-parallel-item:last-child::after {align-self: flex-start;width: 50%;}#sk-container-id-2 div.sk-parallel-item:only-child::after {width: 0;}#sk-container-id-2 div.sk-dashed-wrapped {border: 1px dashed gray;margin: 0 0.4em 0.5em 0.4em;box-sizing: border-box;padding-bottom: 0.4em;background-color: white;}#sk-container-id-2 div.sk-label label {font-family: monospace;font-weight: bold;display: inline-block;line-height: 1.2em;}#sk-container-id-2 div.sk-label-container {text-align: center;}#sk-container-id-2 div.sk-container {/* jupyter's `normalize.less` sets `[hidden] { display: none; }` but bootstrap.min.css set `[hidden] { display: none !important; }` so we also need the `!important` here to be able to override the default hidden behavior on the sphinx rendered scikit-learn.org. See: https://github.com/scikit-learn/scikit-learn/issues/21755 */display: inline-block !important;position: relative;}#sk-container-id-2 div.sk-text-repr-fallback {display: none;}</style><div id=\"sk-container-id-2\" class=\"sk-top-container\"><div class=\"sk-text-repr-fallback\"><pre>BernoulliNB()</pre><b>In a Jupyter environment, please rerun this cell to show the HTML representation or trust the notebook. <br />On GitHub, the HTML representation is unable to render, please try loading this page with nbviewer.org.</b></div><div class=\"sk-container\" hidden><div class=\"sk-item\"><div class=\"sk-estimator sk-toggleable\"><input class=\"sk-toggleable__control sk-hidden--visually\" id=\"sk-estimator-id-2\" type=\"checkbox\" checked><label for=\"sk-estimator-id-2\" class=\"sk-toggleable__label sk-toggleable__label-arrow\">BernoulliNB</label><div class=\"sk-toggleable__content\"><pre>BernoulliNB()</pre></div></div></div></div></div>"
      ],
      "text/plain": [
       "BernoulliNB()"
      ]
     },
     "execution_count": 11,
     "metadata": {},
     "output_type": "execute_result"
    }
   ],
   "source": [
    "## multinomial classifier first\n",
    "eham_spam_MNBClassifier = MultinomialNB()\n",
    "eham_spam_MNBClassifier.fit(vectorized_eham_spam_train['data'], eham_spam_train['labels'])\n",
    "\n",
    "## bernoulli classifier next\n",
    "eham_spam_BNBClassifier = BernoulliNB()\n",
    "eham_spam_BNBClassifier.fit(vectorized_eham_spam_train['data'], eham_spam_train['labels'])"
   ]
  },
  {
   "cell_type": "code",
   "execution_count": 12,
   "metadata": {},
   "outputs": [
    {
     "name": "stdout",
     "output_type": "stream",
     "text": [
      "Multinomial Classifier acc: 97.87581699346404%\n",
      "Bernoulli Classifier acc: 90.52287581699346%\n"
     ]
    }
   ],
   "source": [
    "#accuracy on test set\n",
    "eham_spam_MNB_acc = eham_spam_MNBClassifier.score(vectorized_eham_spam_test['data'], eham_spam_test['labels'])\n",
    "eham_spam_BNB_acc = eham_spam_BNBClassifier.score(vectorized_eham_spam_test['data'], eham_spam_test['labels'])\n",
    "\n",
    "print(f\"Multinomial Classifier acc: {eham_spam_MNB_acc * 100}%\")\n",
    "\n",
    "print(f\"Bernoulli Classifier acc: {eham_spam_BNB_acc * 100}%\")"
   ]
  },
  {
   "cell_type": "code",
   "execution_count": 13,
   "metadata": {},
   "outputs": [],
   "source": [
    "eham_spam_MNB_cm = metrics.confusion_matrix(eham_spam_test['labels'], eham_spam_MNBClassifier.predict(vectorized_eham_spam_test['data']))\n",
    "eham_spam_BNB_cm = metrics.confusion_matrix(eham_spam_test['labels'], eham_spam_BNBClassifier.predict(vectorized_eham_spam_test['data']))"
   ]
  },
  {
   "cell_type": "code",
   "execution_count": 14,
   "metadata": {},
   "outputs": [
    {
     "data": {
      "image/png": "[encoded data removed]",
      "text/plain": [
       "<Figure size 648x648 with 2 Axes>"
      ]
     },
     "metadata": {
      "needs_background": "light"
     },
     "output_type": "display_data"
    }
   ],
   "source": [
    "plt.figure(figsize=(9,9))\n",
    "sns.heatmap(eham_spam_MNB_cm, annot=True, fmt=\".3f\", linewidths=.5, square = True, cmap = 'Blues_r');\n",
    "plt.ylabel('Actual label');\n",
    "plt.xlabel('Predicted label');\n",
    "all_sample_title = 'MNB Accuracy Score: {0}'.format(eham_spam_MNB_acc)\n",
    "plt.title(all_sample_title, size = 15);\n",
    "plt.savefig('cm_eham_spam_MNB.png')\n",
    "#plt.show();"
   ]
  },
  {
   "cell_type": "code",
   "execution_count": 15,
   "metadata": {
    "scrolled": true
   },
   "outputs": [
    {
     "data": {
      "image/png": "[encoded data removed]",
      "text/plain": [
       "<Figure size 648x648 with 2 Axes>"
      ]
     },
     "metadata": {
      "needs_background": "light"
     },
     "output_type": "display_data"
    }
   ],
   "source": [
    "plt.figure(figsize=(9,9))\n",
    "sns.heatmap(eham_spam_BNB_cm, annot=True, fmt=\".3f\", linewidths=.5, square = True, cmap = 'Blues_r');\n",
    "plt.ylabel('Actual label');\n",
    "plt.xlabel('Predicted label');\n",
    "all_sample_title = 'BNB Accuracy Score: {0}'.format(eham_spam_BNB_acc)\n",
    "plt.title(all_sample_title, size = 15);\n",
    "plt.savefig('cm_eham_spam_BNB.png')\n",
    "#plt.show();"
   ]
  },
  {
   "cell_type": "code",
   "execution_count": 76,
   "metadata": {},
   "outputs": [],
   "source": [
    "## hham vs spam"
   ]
  },
  {
   "cell_type": "code",
   "execution_count": 16,
   "metadata": {},
   "outputs": [],
   "source": [
    "hhamtrain = {\n",
    "    'data': hard_ham_x_train,\n",
    "    'labels': hard_ham_y_train\n",
    "}\n",
    "\n",
    "hhamtest = {\n",
    "    'data': hard_ham_x_test,\n",
    "    'labels': hard_ham_y_test\n",
    "}\n",
    "\n",
    "spamtrain = {\n",
    "    'data': spam_x_train,\n",
    "    'labels': spam_y_train\n",
    "}\n",
    "\n",
    "spamtest = {\n",
    "    'data': spam_x_test,\n",
    "    'labels': spam_y_test\n",
    "}\n",
    "\n",
    "\n",
    "hham_spam_train = {\n",
    "    'data': np.concatenate((hhamtrain['data'], spamtrain['data']), axis=0),\n",
    "    'labels': np.concatenate((hhamtrain['labels'], spamtrain['labels']), axis=0)\n",
    "}\n",
    "\n",
    "hham_spam_test = {\n",
    "    'data': np.concatenate((hhamtest['data'], spamtest['data']), axis=0),\n",
    "    'labels': np.concatenate((hhamtest['labels'], spamtest['labels']), axis=0)\n",
    "}\n",
    "\n",
    "\n",
    "hham_spam_vectorizer = CountVectorizer(encoding='ISO-8859-1')\n",
    "\n",
    "vectorized_hham_spam_train = {}\n",
    "vectorized_hham_spam_test = {}\n",
    "\n",
    "\n",
    "vectorized_hham_spam_train['data'] = hham_spam_vectorizer.fit_transform(hham_spam_train['data'])\n",
    "vectorized_hham_spam_test['data'] = hham_spam_vectorizer.transform(hham_spam_test['data'])"
   ]
  },
  {
   "cell_type": "code",
   "execution_count": 17,
   "metadata": {},
   "outputs": [
    {
     "data": {
      "text/html": [
       "<style>#sk-container-id-3 {color: black;background-color: white;}#sk-container-id-3 pre{padding: 0;}#sk-container-id-3 div.sk-toggleable {background-color: white;}#sk-container-id-3 label.sk-toggleable__label {cursor: pointer;display: block;width: 100%;margin-bottom: 0;padding: 0.3em;box-sizing: border-box;text-align: center;}#sk-container-id-3 label.sk-toggleable__label-arrow:before {content: \"▸\";float: left;margin-right: 0.25em;color: #696969;}#sk-container-id-3 label.sk-toggleable__label-arrow:hover:before {color: black;}#sk-container-id-3 div.sk-estimator:hover label.sk-toggleable__label-arrow:before {color: black;}#sk-container-id-3 div.sk-toggleable__content {max-height: 0;max-width: 0;overflow: hidden;text-align: left;background-color: #f0f8ff;}#sk-container-id-3 div.sk-toggleable__content pre {margin: 0.2em;color: black;border-radius: 0.25em;background-color: #f0f8ff;}#sk-container-id-3 input.sk-toggleable__control:checked~div.sk-toggleable__content {max-height: 200px;max-width: 100%;overflow: auto;}#sk-container-id-3 input.sk-toggleable__control:checked~label.sk-toggleable__label-arrow:before {content: \"▾\";}#sk-container-id-3 div.sk-estimator input.sk-toggleable__control:checked~label.sk-toggleable__label {background-color: #d4ebff;}#sk-container-id-3 div.sk-label input.sk-toggleable__control:checked~label.sk-toggleable__label {background-color: #d4ebff;}#sk-container-id-3 input.sk-hidden--visually {border: 0;clip: rect(1px 1px 1px 1px);clip: rect(1px, 1px, 1px, 1px);height: 1px;margin: -1px;overflow: hidden;padding: 0;position: absolute;width: 1px;}#sk-container-id-3 div.sk-estimator {font-family: monospace;background-color: #f0f8ff;border: 1px dotted black;border-radius: 0.25em;box-sizing: border-box;margin-bottom: 0.5em;}#sk-container-id-3 div.sk-estimator:hover {background-color: #d4ebff;}#sk-container-id-3 div.sk-parallel-item::after {content: \"\";width: 100%;border-bottom: 1px solid gray;flex-grow: 1;}#sk-container-id-3 div.sk-label:hover label.sk-toggleable__label {background-color: #d4ebff;}#sk-container-id-3 div.sk-serial::before {content: \"\";position: absolute;border-left: 1px solid gray;box-sizing: border-box;top: 0;bottom: 0;left: 50%;z-index: 0;}#sk-container-id-3 div.sk-serial {display: flex;flex-direction: column;align-items: center;background-color: white;padding-right: 0.2em;padding-left: 0.2em;position: relative;}#sk-container-id-3 div.sk-item {position: relative;z-index: 1;}#sk-container-id-3 div.sk-parallel {display: flex;align-items: stretch;justify-content: center;background-color: white;position: relative;}#sk-container-id-3 div.sk-item::before, #sk-container-id-3 div.sk-parallel-item::before {content: \"\";position: absolute;border-left: 1px solid gray;box-sizing: border-box;top: 0;bottom: 0;left: 50%;z-index: -1;}#sk-container-id-3 div.sk-parallel-item {display: flex;flex-direction: column;z-index: 1;position: relative;background-color: white;}#sk-container-id-3 div.sk-parallel-item:first-child::after {align-self: flex-end;width: 50%;}#sk-container-id-3 div.sk-parallel-item:last-child::after {align-self: flex-start;width: 50%;}#sk-container-id-3 div.sk-parallel-item:only-child::after {width: 0;}#sk-container-id-3 div.sk-dashed-wrapped {border: 1px dashed gray;margin: 0 0.4em 0.5em 0.4em;box-sizing: border-box;padding-bottom: 0.4em;background-color: white;}#sk-container-id-3 div.sk-label label {font-family: monospace;font-weight: bold;display: inline-block;line-height: 1.2em;}#sk-container-id-3 div.sk-label-container {text-align: center;}#sk-container-id-3 div.sk-container {/* jupyter's `normalize.less` sets `[hidden] { display: none; }` but bootstrap.min.css set `[hidden] { display: none !important; }` so we also need the `!important` here to be able to override the default hidden behavior on the sphinx rendered scikit-learn.org. See: https://github.com/scikit-learn/scikit-learn/issues/21755 */display: inline-block !important;position: relative;}#sk-container-id-3 div.sk-text-repr-fallback {display: none;}</style><div id=\"sk-container-id-3\" class=\"sk-top-container\"><div class=\"sk-text-repr-fallback\"><pre>BernoulliNB()</pre><b>In a Jupyter environment, please rerun this cell to show the HTML representation or trust the notebook. <br />On GitHub, the HTML representation is unable to render, please try loading this page with nbviewer.org.</b></div><div class=\"sk-container\" hidden><div class=\"sk-item\"><div class=\"sk-estimator sk-toggleable\"><input class=\"sk-toggleable__control sk-hidden--visually\" id=\"sk-estimator-id-3\" type=\"checkbox\" checked><label for=\"sk-estimator-id-3\" class=\"sk-toggleable__label sk-toggleable__label-arrow\">BernoulliNB</label><div class=\"sk-toggleable__content\"><pre>BernoulliNB()</pre></div></div></div></div></div>"
      ],
      "text/plain": [
       "BernoulliNB()"
      ]
     },
     "execution_count": 17,
     "metadata": {},
     "output_type": "execute_result"
    }
   ],
   "source": [
    "## multinomial classifier first\n",
    "hham_spam_MNBClassifier = MultinomialNB()\n",
    "hham_spam_MNBClassifier.fit(vectorized_hham_spam_train['data'], hham_spam_train['labels'])\n",
    "\n",
    "## bernoulli classifier next\n",
    "hham_spam_BNBClassifier = BernoulliNB()\n",
    "hham_spam_BNBClassifier.fit(vectorized_hham_spam_train['data'], hham_spam_train['labels'])"
   ]
  },
  {
   "cell_type": "code",
   "execution_count": 18,
   "metadata": {},
   "outputs": [
    {
     "name": "stdout",
     "output_type": "stream",
     "text": [
      "Multinomial Classifier acc: 92.71523178807946%\n",
      "Bernoulli Classifier acc: 87.41721854304636%\n"
     ]
    }
   ],
   "source": [
    "#accuracy on test set\n",
    "hham_spam_MNB_acc = hham_spam_MNBClassifier.score(vectorized_hham_spam_test['data'], hham_spam_test['labels'])\n",
    "hham_spam_BNB_acc = hham_spam_BNBClassifier.score(vectorized_hham_spam_test['data'], hham_spam_test['labels'])\n",
    "\n",
    "print(f\"Multinomial Classifier acc: {hham_spam_MNB_acc * 100}%\")\n",
    "\n",
    "print(f\"Bernoulli Classifier acc: {hham_spam_BNB_acc * 100}%\")"
   ]
  },
  {
   "cell_type": "code",
   "execution_count": 19,
   "metadata": {},
   "outputs": [],
   "source": [
    "hham_spam_MNB_cm = metrics.confusion_matrix(hham_spam_test['labels'], hham_spam_MNBClassifier.predict(vectorized_hham_spam_test['data']))\n",
    "hham_spam_BNB_cm = metrics.confusion_matrix(hham_spam_test['labels'], hham_spam_BNBClassifier.predict(vectorized_hham_spam_test['data']))"
   ]
  },
  {
   "cell_type": "code",
   "execution_count": 20,
   "metadata": {},
   "outputs": [
    {
     "data": {
      "image/png": "[encoded data removed]",
      "text/plain": [
       "<Figure size 648x648 with 2 Axes>"
      ]
     },
     "metadata": {
      "needs_background": "light"
     },
     "output_type": "display_data"
    }
   ],
   "source": [
    "plt.figure(figsize=(9,9))\n",
    "sns.heatmap(hham_spam_MNB_cm, annot=True, fmt=\".3f\", linewidths=.5, square = True, cmap = 'Blues_r');\n",
    "plt.ylabel('Actual label');\n",
    "plt.xlabel('Predicted label');\n",
    "all_sample_title = 'MNB Accuracy Score: {0}'.format(hham_spam_MNB_acc)\n",
    "plt.title(all_sample_title, size = 15);\n",
    "plt.savefig('cm_hham_spam_MNB.png')\n",
    "#plt.show();"
   ]
  },
  {
   "cell_type": "code",
   "execution_count": 21,
   "metadata": {},
   "outputs": [
    {
     "data": {
      "image/png": "[encoded data removed]",
      "text/plain": [
       "<Figure size 648x648 with 2 Axes>"
      ]
     },
     "metadata": {
      "needs_background": "light"
     },
     "output_type": "display_data"
    }
   ],
   "source": [
    "plt.figure(figsize=(9,9))\n",
    "sns.heatmap(hham_spam_BNB_cm, annot=True, fmt=\".3f\", linewidths=.5, square = True, cmap = 'Blues_r');\n",
    "plt.ylabel('Actual label');\n",
    "plt.xlabel('Predicted label');\n",
    "all_sample_title = 'BNB Accuracy Score: {0}'.format(hham_spam_BNB_acc)\n",
    "plt.title(all_sample_title, size = 15);\n",
    "plt.savefig('cm_hham_spam_BNB.png')\n",
    "#plt.show();"
   ]
  },
  {
   "cell_type": "markdown",
   "metadata": {
    "id": "TkfQWBB4UhYd"
   },
   "source": [
    "###4.\tTo avoid classification based on common and uninformative words it is common to filter these out. \n",
    "\n",
    "**a.** Argue why this may be useful. Try finding the words that are too common/uncommon in the dataset. \n",
    "\n",
    "**b.** Use the parameters in Sklearn’s `CountVectorizer` to filter out these words. Update the program from point 3 and run it on your data and report your results.\n",
    "\n",
    "You have two options to do this in Sklearn: either using the words found in part (a) or letting Sklearn do it for you. Argue for your decision-making.\n"
   ]
  },
  {
   "cell_type": "markdown",
   "metadata": {
    "id": "qt7ELzEqUfas"
   },
   "source": [
    "## answer\n",
    "\n",
    "a. It may be helpful to filter out common and uninformative words as based on how the models are trained, especially in the case for bernoulli, they treat each unique word as a feature used to predict the class based on the presence/absence/frequency of a word.\n",
    "\n",
    "However, since we are dealing with emails(written in proper coherent sentences, there are alot of very common words that are used to make the sentences readable):\n",
    "- connectors like and, thus, for example, also, etc...\n",
    "- pronouns like he, she, her, him\n",
    "- names\n",
    "- honorifics\n",
    "- closing section of email like Regards, Sincerely...\n",
    "- pleasantries/greetings\n",
    "\n",
    "These words appear in all types of emails, and intuitively it does not seem to give us any insight into whether an email is a spam or not, and thus we seek to strip emails of these uninformative words to focus on the words that matter and observe the results"
   ]
  },
  {
   "cell_type": "code",
   "execution_count": 32,
   "metadata": {},
   "outputs": [],
   "source": [
    "vocab = {} "
   ]
  },
  {
   "cell_type": "code",
   "execution_count": 33,
   "metadata": {},
   "outputs": [],
   "source": [
    "combined_data = np.concatenate((hhamtrain['data'], ehamtrain['data'], spamtrain['data']), axis=0)"
   ]
  },
  {
   "cell_type": "code",
   "execution_count": 34,
   "metadata": {},
   "outputs": [],
   "source": [
    "for email in combined_data:\n",
    "    for word in email.strip().split():\n",
    "        if word.lower() not in vocab:\n",
    "            vocab[word.lower()] = 1\n",
    "        else:\n",
    "            vocab[word.lower()] += 1"
   ]
  },
  {
   "cell_type": "code",
   "execution_count": 35,
   "metadata": {},
   "outputs": [],
   "source": [
    "list_of_term_freq = [(k, v) for k, v in vocab.items()]"
   ]
  },
  {
   "cell_type": "code",
   "execution_count": 36,
   "metadata": {},
   "outputs": [],
   "source": [
    "list_of_term_freq.sort(reverse=True, key=lambda x: x[1])"
   ]
  },
  {
   "cell_type": "code",
   "execution_count": 37,
   "metadata": {},
   "outputs": [],
   "source": [
    "list_of_term_freq = list(filter(lambda x: len(x[0]) > 1, list_of_term_freq))"
   ]
  },
  {
   "cell_type": "code",
   "execution_count": 38,
   "metadata": {},
   "outputs": [],
   "source": [
    "list_of_terms = list(map(lambda x: x[0], list_of_term_freq))"
   ]
  },
  {
   "cell_type": "code",
   "execution_count": 39,
   "metadata": {},
   "outputs": [],
   "source": [
    "def frequency(term):\n",
    "    return vocab[term]"
   ]
  },
  {
   "cell_type": "code",
   "execution_count": 40,
   "metadata": {},
   "outputs": [],
   "source": [
    "list_of_email_specific_stopwords = ['regards', \"good\", \"day\", \"wish\", \"hello\", \"hi\", \"fine\", \"doing\", \"well\", \"for\", \"example\", \"happy\"]"
   ]
  },
  {
   "cell_type": "code",
   "execution_count": 41,
   "metadata": {},
   "outputs": [
    {
     "name": "stdout",
     "output_type": "stream",
     "text": [
      "regards: 29\n",
      "good: 556\n",
      "day: 280\n",
      "wish: 217\n",
      "hello: 30\n",
      "hi: 50\n",
      "fine: 47\n",
      "doing: 264\n",
      "well: 341\n",
      "for: 18901\n",
      "example: 82\n",
      "happy: 99\n"
     ]
    }
   ],
   "source": [
    "for word in list_of_email_specific_stopwords:\n",
    "    print(f\"{word}: {frequency(word)}\")"
   ]
  },
  {
   "cell_type": "markdown",
   "metadata": {},
   "source": [
    "### This are stopwords that are more specific to emails and thus instead of choosing a or b, i suggest combining CountVectorizer's english stopwords with my custom list to both include common stopwords across the english language plus email specific words."
   ]
  },
  {
   "cell_type": "code",
   "execution_count": 45,
   "metadata": {},
   "outputs": [],
   "source": [
    "from sklearn.feature_extraction import text \n",
    "\n",
    "stop_words = text.ENGLISH_STOP_WORDS.union(list_of_email_specific_stopwords)\n",
    "# stop_words = text.ENGLISH_STOP_WORDS"
   ]
  },
  {
   "cell_type": "code",
   "execution_count": 46,
   "metadata": {},
   "outputs": [],
   "source": [
    "## eham vs spam"
   ]
  },
  {
   "cell_type": "code",
   "execution_count": 47,
   "metadata": {},
   "outputs": [],
   "source": [
    "no_stop_words_eham_vectorizer = CountVectorizer(stop_words=stop_words)\n",
    "\n",
    "vectorized_eham_spam_train = {}\n",
    "vectorized_eham_spam_test = {}\n",
    "\n",
    "\n",
    "vectorized_eham_spam_train['data'] = no_stop_words_eham_vectorizer.fit_transform(eham_spam_train['data'])\n",
    "vectorized_eham_spam_test['data'] = no_stop_words_eham_vectorizer.transform(eham_spam_test['data'])"
   ]
  },
  {
   "cell_type": "code",
   "execution_count": 48,
   "metadata": {},
   "outputs": [
    {
     "data": {
      "text/html": [
       "<style>#sk-container-id-4 {color: black;background-color: white;}#sk-container-id-4 pre{padding: 0;}#sk-container-id-4 div.sk-toggleable {background-color: white;}#sk-container-id-4 label.sk-toggleable__label {cursor: pointer;display: block;width: 100%;margin-bottom: 0;padding: 0.3em;box-sizing: border-box;text-align: center;}#sk-container-id-4 label.sk-toggleable__label-arrow:before {content: \"▸\";float: left;margin-right: 0.25em;color: #696969;}#sk-container-id-4 label.sk-toggleable__label-arrow:hover:before {color: black;}#sk-container-id-4 div.sk-estimator:hover label.sk-toggleable__label-arrow:before {color: black;}#sk-container-id-4 div.sk-toggleable__content {max-height: 0;max-width: 0;overflow: hidden;text-align: left;background-color: #f0f8ff;}#sk-container-id-4 div.sk-toggleable__content pre {margin: 0.2em;color: black;border-radius: 0.25em;background-color: #f0f8ff;}#sk-container-id-4 input.sk-toggleable__control:checked~div.sk-toggleable__content {max-height: 200px;max-width: 100%;overflow: auto;}#sk-container-id-4 input.sk-toggleable__control:checked~label.sk-toggleable__label-arrow:before {content: \"▾\";}#sk-container-id-4 div.sk-estimator input.sk-toggleable__control:checked~label.sk-toggleable__label {background-color: #d4ebff;}#sk-container-id-4 div.sk-label input.sk-toggleable__control:checked~label.sk-toggleable__label {background-color: #d4ebff;}#sk-container-id-4 input.sk-hidden--visually {border: 0;clip: rect(1px 1px 1px 1px);clip: rect(1px, 1px, 1px, 1px);height: 1px;margin: -1px;overflow: hidden;padding: 0;position: absolute;width: 1px;}#sk-container-id-4 div.sk-estimator {font-family: monospace;background-color: #f0f8ff;border: 1px dotted black;border-radius: 0.25em;box-sizing: border-box;margin-bottom: 0.5em;}#sk-container-id-4 div.sk-estimator:hover {background-color: #d4ebff;}#sk-container-id-4 div.sk-parallel-item::after {content: \"\";width: 100%;border-bottom: 1px solid gray;flex-grow: 1;}#sk-container-id-4 div.sk-label:hover label.sk-toggleable__label {background-color: #d4ebff;}#sk-container-id-4 div.sk-serial::before {content: \"\";position: absolute;border-left: 1px solid gray;box-sizing: border-box;top: 0;bottom: 0;left: 50%;z-index: 0;}#sk-container-id-4 div.sk-serial {display: flex;flex-direction: column;align-items: center;background-color: white;padding-right: 0.2em;padding-left: 0.2em;position: relative;}#sk-container-id-4 div.sk-item {position: relative;z-index: 1;}#sk-container-id-4 div.sk-parallel {display: flex;align-items: stretch;justify-content: center;background-color: white;position: relative;}#sk-container-id-4 div.sk-item::before, #sk-container-id-4 div.sk-parallel-item::before {content: \"\";position: absolute;border-left: 1px solid gray;box-sizing: border-box;top: 0;bottom: 0;left: 50%;z-index: -1;}#sk-container-id-4 div.sk-parallel-item {display: flex;flex-direction: column;z-index: 1;position: relative;background-color: white;}#sk-container-id-4 div.sk-parallel-item:first-child::after {align-self: flex-end;width: 50%;}#sk-container-id-4 div.sk-parallel-item:last-child::after {align-self: flex-start;width: 50%;}#sk-container-id-4 div.sk-parallel-item:only-child::after {width: 0;}#sk-container-id-4 div.sk-dashed-wrapped {border: 1px dashed gray;margin: 0 0.4em 0.5em 0.4em;box-sizing: border-box;padding-bottom: 0.4em;background-color: white;}#sk-container-id-4 div.sk-label label {font-family: monospace;font-weight: bold;display: inline-block;line-height: 1.2em;}#sk-container-id-4 div.sk-label-container {text-align: center;}#sk-container-id-4 div.sk-container {/* jupyter's `normalize.less` sets `[hidden] { display: none; }` but bootstrap.min.css set `[hidden] { display: none !important; }` so we also need the `!important` here to be able to override the default hidden behavior on the sphinx rendered scikit-learn.org. See: https://github.com/scikit-learn/scikit-learn/issues/21755 */display: inline-block !important;position: relative;}#sk-container-id-4 div.sk-text-repr-fallback {display: none;}</style><div id=\"sk-container-id-4\" class=\"sk-top-container\"><div class=\"sk-text-repr-fallback\"><pre>BernoulliNB()</pre><b>In a Jupyter environment, please rerun this cell to show the HTML representation or trust the notebook. <br />On GitHub, the HTML representation is unable to render, please try loading this page with nbviewer.org.</b></div><div class=\"sk-container\" hidden><div class=\"sk-item\"><div class=\"sk-estimator sk-toggleable\"><input class=\"sk-toggleable__control sk-hidden--visually\" id=\"sk-estimator-id-4\" type=\"checkbox\" checked><label for=\"sk-estimator-id-4\" class=\"sk-toggleable__label sk-toggleable__label-arrow\">BernoulliNB</label><div class=\"sk-toggleable__content\"><pre>BernoulliNB()</pre></div></div></div></div></div>"
      ],
      "text/plain": [
       "BernoulliNB()"
      ]
     },
     "execution_count": 48,
     "metadata": {},
     "output_type": "execute_result"
    }
   ],
   "source": [
    "## multinomial classifier first\n",
    "eham_spam_MNBClassifier = MultinomialNB()\n",
    "eham_spam_MNBClassifier.fit(vectorized_eham_spam_train['data'], eham_spam_train['labels'])\n",
    "\n",
    "## bernoulli classifier next\n",
    "eham_spam_BNBClassifier = BernoulliNB()\n",
    "eham_spam_BNBClassifier.fit(vectorized_eham_spam_train['data'], eham_spam_train['labels'])"
   ]
  },
  {
   "cell_type": "code",
   "execution_count": 49,
   "metadata": {},
   "outputs": [
    {
     "name": "stdout",
     "output_type": "stream",
     "text": [
      "Multinomial Classifier acc: 97.54901960784314%\n",
      "Bernoulli Classifier acc: 90.19607843137256%\n"
     ]
    }
   ],
   "source": [
    "#accuracy on test set\n",
    "eham_spam_MNB_acc = eham_spam_MNBClassifier.score(vectorized_eham_spam_test['data'], eham_spam_test['labels'])\n",
    "eham_spam_BNB_acc = eham_spam_BNBClassifier.score(vectorized_eham_spam_test['data'], eham_spam_test['labels'])\n",
    "\n",
    "print(f\"Multinomial Classifier acc: {eham_spam_MNB_acc * 100}%\")\n",
    "\n",
    "print(f\"Bernoulli Classifier acc: {eham_spam_BNB_acc * 100}%\")"
   ]
  },
  {
   "cell_type": "code",
   "execution_count": 50,
   "metadata": {},
   "outputs": [],
   "source": [
    "## hham vs spam"
   ]
  },
  {
   "cell_type": "code",
   "execution_count": 51,
   "metadata": {},
   "outputs": [],
   "source": [
    "no_stop_words_hham_vectorizer = CountVectorizer(stop_words=stop_words)\n",
    "\n",
    "vectorized_hham_spam_train = {}\n",
    "vectorized_hham_spam_test = {}\n",
    "\n",
    "\n",
    "vectorized_hham_spam_train['data'] = no_stop_words_hham_vectorizer.fit_transform(hham_spam_train['data'])\n",
    "vectorized_hham_spam_test['data'] = no_stop_words_hham_vectorizer.transform(hham_spam_test['data'])"
   ]
  },
  {
   "cell_type": "code",
   "execution_count": 52,
   "metadata": {},
   "outputs": [
    {
     "data": {
      "text/html": [
       "<style>#sk-container-id-5 {color: black;background-color: white;}#sk-container-id-5 pre{padding: 0;}#sk-container-id-5 div.sk-toggleable {background-color: white;}#sk-container-id-5 label.sk-toggleable__label {cursor: pointer;display: block;width: 100%;margin-bottom: 0;padding: 0.3em;box-sizing: border-box;text-align: center;}#sk-container-id-5 label.sk-toggleable__label-arrow:before {content: \"▸\";float: left;margin-right: 0.25em;color: #696969;}#sk-container-id-5 label.sk-toggleable__label-arrow:hover:before {color: black;}#sk-container-id-5 div.sk-estimator:hover label.sk-toggleable__label-arrow:before {color: black;}#sk-container-id-5 div.sk-toggleable__content {max-height: 0;max-width: 0;overflow: hidden;text-align: left;background-color: #f0f8ff;}#sk-container-id-5 div.sk-toggleable__content pre {margin: 0.2em;color: black;border-radius: 0.25em;background-color: #f0f8ff;}#sk-container-id-5 input.sk-toggleable__control:checked~div.sk-toggleable__content {max-height: 200px;max-width: 100%;overflow: auto;}#sk-container-id-5 input.sk-toggleable__control:checked~label.sk-toggleable__label-arrow:before {content: \"▾\";}#sk-container-id-5 div.sk-estimator input.sk-toggleable__control:checked~label.sk-toggleable__label {background-color: #d4ebff;}#sk-container-id-5 div.sk-label input.sk-toggleable__control:checked~label.sk-toggleable__label {background-color: #d4ebff;}#sk-container-id-5 input.sk-hidden--visually {border: 0;clip: rect(1px 1px 1px 1px);clip: rect(1px, 1px, 1px, 1px);height: 1px;margin: -1px;overflow: hidden;padding: 0;position: absolute;width: 1px;}#sk-container-id-5 div.sk-estimator {font-family: monospace;background-color: #f0f8ff;border: 1px dotted black;border-radius: 0.25em;box-sizing: border-box;margin-bottom: 0.5em;}#sk-container-id-5 div.sk-estimator:hover {background-color: #d4ebff;}#sk-container-id-5 div.sk-parallel-item::after {content: \"\";width: 100%;border-bottom: 1px solid gray;flex-grow: 1;}#sk-container-id-5 div.sk-label:hover label.sk-toggleable__label {background-color: #d4ebff;}#sk-container-id-5 div.sk-serial::before {content: \"\";position: absolute;border-left: 1px solid gray;box-sizing: border-box;top: 0;bottom: 0;left: 50%;z-index: 0;}#sk-container-id-5 div.sk-serial {display: flex;flex-direction: column;align-items: center;background-color: white;padding-right: 0.2em;padding-left: 0.2em;position: relative;}#sk-container-id-5 div.sk-item {position: relative;z-index: 1;}#sk-container-id-5 div.sk-parallel {display: flex;align-items: stretch;justify-content: center;background-color: white;position: relative;}#sk-container-id-5 div.sk-item::before, #sk-container-id-5 div.sk-parallel-item::before {content: \"\";position: absolute;border-left: 1px solid gray;box-sizing: border-box;top: 0;bottom: 0;left: 50%;z-index: -1;}#sk-container-id-5 div.sk-parallel-item {display: flex;flex-direction: column;z-index: 1;position: relative;background-color: white;}#sk-container-id-5 div.sk-parallel-item:first-child::after {align-self: flex-end;width: 50%;}#sk-container-id-5 div.sk-parallel-item:last-child::after {align-self: flex-start;width: 50%;}#sk-container-id-5 div.sk-parallel-item:only-child::after {width: 0;}#sk-container-id-5 div.sk-dashed-wrapped {border: 1px dashed gray;margin: 0 0.4em 0.5em 0.4em;box-sizing: border-box;padding-bottom: 0.4em;background-color: white;}#sk-container-id-5 div.sk-label label {font-family: monospace;font-weight: bold;display: inline-block;line-height: 1.2em;}#sk-container-id-5 div.sk-label-container {text-align: center;}#sk-container-id-5 div.sk-container {/* jupyter's `normalize.less` sets `[hidden] { display: none; }` but bootstrap.min.css set `[hidden] { display: none !important; }` so we also need the `!important` here to be able to override the default hidden behavior on the sphinx rendered scikit-learn.org. See: https://github.com/scikit-learn/scikit-learn/issues/21755 */display: inline-block !important;position: relative;}#sk-container-id-5 div.sk-text-repr-fallback {display: none;}</style><div id=\"sk-container-id-5\" class=\"sk-top-container\"><div class=\"sk-text-repr-fallback\"><pre>BernoulliNB()</pre><b>In a Jupyter environment, please rerun this cell to show the HTML representation or trust the notebook. <br />On GitHub, the HTML representation is unable to render, please try loading this page with nbviewer.org.</b></div><div class=\"sk-container\" hidden><div class=\"sk-item\"><div class=\"sk-estimator sk-toggleable\"><input class=\"sk-toggleable__control sk-hidden--visually\" id=\"sk-estimator-id-5\" type=\"checkbox\" checked><label for=\"sk-estimator-id-5\" class=\"sk-toggleable__label sk-toggleable__label-arrow\">BernoulliNB</label><div class=\"sk-toggleable__content\"><pre>BernoulliNB()</pre></div></div></div></div></div>"
      ],
      "text/plain": [
       "BernoulliNB()"
      ]
     },
     "execution_count": 52,
     "metadata": {},
     "output_type": "execute_result"
    }
   ],
   "source": [
    "## multinomial classifier first\n",
    "hham_spam_MNBClassifier = MultinomialNB()\n",
    "hham_spam_MNBClassifier.fit(vectorized_hham_spam_train['data'], hham_spam_train['labels'])\n",
    "\n",
    "## bernoulli classifier next\n",
    "hham_spam_BNBClassifier = BernoulliNB()\n",
    "hham_spam_BNBClassifier.fit(vectorized_hham_spam_train['data'], hham_spam_train['labels'])"
   ]
  },
  {
   "cell_type": "code",
   "execution_count": 53,
   "metadata": {},
   "outputs": [
    {
     "name": "stdout",
     "output_type": "stream",
     "text": [
      "Multinomial Classifier acc: 94.70198675496688%\n",
      "Bernoulli Classifier acc: 87.41721854304636%\n"
     ]
    }
   ],
   "source": [
    "#accuracy on test set\n",
    "hham_spam_MNB_acc = hham_spam_MNBClassifier.score(vectorized_hham_spam_test['data'], hham_spam_test['labels'])\n",
    "hham_spam_BNB_acc = hham_spam_BNBClassifier.score(vectorized_hham_spam_test['data'], hham_spam_test['labels'])\n",
    "\n",
    "print(f\"Multinomial Classifier acc: {hham_spam_MNB_acc * 100}%\")\n",
    "\n",
    "print(f\"Bernoulli Classifier acc: {hham_spam_BNB_acc * 100}%\")"
   ]
  },
  {
   "cell_type": "markdown",
   "metadata": {},
   "source": [
    "In the case of eham to spam, there was not much difference in performance, while in the case of hham to spam, there was a small improvement after removing the stopwords. I believe that the reason for this is that stopwords that are common are useful to be removed, and while intuitively, email specific text might seem useless in determining spam and ham mails and should be removed, these words can actually help in identifying spams as for example, spammers might not bother sending greetings/pleasantries or ending their emails with thanks and politeness, and thus these keywords could be important in classification. Thus there isnt a stark improvement in accuracy due to improvements in some aspects but regression in some aspect."
   ]
  },
  {
   "cell_type": "markdown",
   "metadata": {
    "id": "zcyVfOZFU4F_"
   },
   "source": [
    "###5. Eeking out further performance\n",
    "Filter out the headers and footers of the emails before you run on them. The format may vary somewhat between emails, which can make this a bit tricky, so perfect filtering is not required. Run your program again and answer the following questions: \n",
    "-\tDoes the result improve from 3 and 4? \n",
    "- The split of the data set into a training set and a test set can lead to very skewed results. Why is this, and do you have suggestions on remedies? \n",
    "- What do you expect would happen if your training set were mostly spam messages while your test set were mostly ham messages? \n",
    "\n",
    "Re-estimate your classifier using `fit_prior` parameter set to `false`, and answer the following questions:\n",
    "- What does this parameter mean?\n",
    "- How does this alter the predictions? Discuss why or why not."
   ]
  },
  {
   "cell_type": "code",
   "execution_count": 62,
   "metadata": {},
   "outputs": [],
   "source": [
    "# headers usually start with 'from', and usually end with the \"date\" keyword followed by the date and a new line char"
   ]
  },
  {
   "cell_type": "code",
   "execution_count": 63,
   "metadata": {
    "id": "s_nyGug9U4f3"
   },
   "outputs": [],
   "source": [
    "## finding patterns within the email's headers\n",
    "## observations: \n",
    "## Emails usually start with ['From', 'Return-path', 'Forwarded', 'Replied'] etc\n",
    "## Email headers usually contain the following as the last few entries: \n",
    "## - spam-level: ... \\n\n",
    "## - content-type: ... \\n\n",
    "## - message-id: ... \\n\n",
    "\n",
    "\n",
    "no_spam_lvl = []\n",
    "no_msg_id = []\n",
    "no_content_type = []\n",
    "others = []\n",
    "for i in range(len(combined_data)):\n",
    "    if 'content-type' not in combined_data[i].lower():\n",
    "        no_content_type.append(i)\n",
    "    if 'spam-level' not in combined_data[i].lower():\n",
    "        no_spam_lvl.append(i)\n",
    "    if 'message-id' not in combined_data[i].lower():\n",
    "        no_msg_id.append(i)\n",
    "    else:\n",
    "        others.append(i)\n",
    "        \n"
   ]
  },
  {
   "cell_type": "code",
   "execution_count": 64,
   "metadata": {},
   "outputs": [
    {
     "data": {
      "text/plain": [
       "(353, 926, 1)"
      ]
     },
     "execution_count": 64,
     "metadata": {},
     "output_type": "execute_result"
    }
   ],
   "source": [
    "## Proof that every email header might not have content type and spam level, but they have to have msg id, aside from this 1 anomaly\n",
    "len(no_content_type), len(no_spam_lvl), len(no_msg_id)"
   ]
  },
  {
   "cell_type": "code",
   "execution_count": 65,
   "metadata": {},
   "outputs": [
    {
     "data": {
      "text/plain": [
       "'mv 1 00001.bfc8d64d12b325ff385cca8d07b84288\\nmv 10 00010.7f5fb525755c45eb78efc18d7c9ea5aa\\nmv 100 00100.c60d1c697136b07c947fa180ba3e0441\\nmv 101 00101.2dfd7ee79ae439b8d9c38e783a137efa\\nmv 102 00102.2e3969075728dde7a328e05d19b35976\\nmv 103 00103.8c39bfed2079f865e9dfb75f4416a468\\nmv 104 00104.886f4a22362f4d3528c3e675878f17f7\\nmv 105 00105.9790e1c57fcbf7885b7cd1719fb4681b\\nmv 106 00106.fa6df8609cebb6f0f37aec3f70aa5b9a\\nmv 107 00107.f1d4194b57840ea6587b9a73ed88e075\\nmv 108 00108.4506c2ef846b80b9a7beb90315b22701\\nmv 109 00109.601a9cd8272f22236b27e95dbe2fa22d\\nmv 11 00011.2a1247254a535bac29c476b86c708901\\nmv 110 00110.20934dc65c9a88fc9c6afda9952ce2c5\\nmv 111 00111.a163d41592b3a52747d7521341a961af\\nmv 112 00112.ec411d26d1f4decc16af7ef73e69a227\\nmv 113 00113.ff113297f0ed07536d288c7b2193a8ec\\nmv 114 00114.c104ada3a249e1e1846c0cd156a303e9\\nmv 115 00115.d7c257361675ee5d45baa552205fb472\\nmv 116 00116.8e13644b995f98dbab198b71e26f67ec\\nmv 117 00117.33011fddf61efe5f453a14468ff7e629\\nmv 118 00118.4be8b50c2a818c62b62e70c4b5456113\\nmv 119 00119.07aedc59172c0c25ef617188ada9b80f\\nmv 12 00012.7bc8e619ad0264979edce15083e70a02\\nmv 120 00120.4312b48b82c3d018d2d4ccf5b8e9c167\\nmv 121 00121.772c3ccd1b6c1a2e0e2ec0356082c77b\\nmv 122 00122.21b041c1ad2be417102d7f5d3f0b7045\\nmv 123 00123.68e87f8b736959b1ab5c4b5f2ce7484a\\nmv 124 00124.37afd066a74d18b7f14bea0b1fb43d4d\\nmv 125 00125.44381546181fc6c5d7ea59e917f232c5\\nmv 126 00126.713b324e028cc69213e67ad3d7319f5d\\nmv 127 00127.2923761a91d13d3522d8bd077eedc7b7\\nmv 128 00128.4da9b2cfacbe9bfd128aacbb526d68d4\\nmv 129 00129.78a705ff6b3bde3395d067459e6e46e2\\nmv 13 00013.9034ac0917f6fdb82c5ee6a7509029ed\\nmv 130 00130.e258624171c813fc6057728c0ff0c059\\nmv 131 00131.0b7281078874ca88f95d6fdf5d905d50\\nmv 132 00132.7ac2141ed9a163f934ac65b3f59a2a03\\nmv 133 00133.95454d70cc62190c0e167d4c3cb591af\\nmv 134 00134.83a63d7a1589ba4cd6aefe20c8e6385f\\nmv 135 00135.73d44c9405f00110ae76a3addcb4eed6\\nmv 136 00136.7e7d6adf293fa0a3dc56b3f796cf00d1\\nmv 137 00137.42d5881a50744e24d9280701bb534cfb\\nmv 138 00138.eab076de94bd9f1d19908f682e58031f\\nmv 139 00139.40f371501f8a2a3fb4ff62143c0671b9\\nmv 14 00014.ed99ffe0f452b91be11684cbfe8d349c\\nmv 140 00140.a2bb669eaf743ed123fca884a40cfbd4\\nmv 141 00141.516a4fe92f63469bd4a21d46dd6bb3be\\nmv 142 00142.1fd05cffaba260b9ecd3e75b6dddaf73\\nmv 143 00143.260a940290dcb61f9327b224a368d4af\\nmv 144 00144.58d3de25279e1938f24502d70dfa9754\\nmv 145 00145.ec89d85ec20f9aeda6fe37c0b6e8bbed\\nmv 146 00146.6656452972931e859e640f6ac57d2962\\nmv 147 00147.65cf30538f09402e4d1bd4aa91d9532a\\nmv 148 00148.7641581f551a1bf533b995087a8a91db\\nmv 149 00149.3300ef4537e1f6accd4489125bef5b0d\\nmv 15 00015.1b871d654560011a0aaa29bb4e9054f7\\nmv 150 00150.30c44c205041fd95f00ef524ea54e356\\nmv 151 00151.6f8f0ec4d897a5285d662ef4ec31d924\\nmv 152 00152.c0ea23686b9ad63dfba6040c1539da71\\nmv 153 00153.eddc658b08a04641a2494ba6b6eb0a3c\\nmv 154 00154.e39fc51ffdb9c2ecd480ce972078aeaa\\nmv 155 00155.829bab9379cfe32fe4b5af15ca99361b\\nmv 156 00156.279e5f92cf12922fbbf0cbda112b7fcb\\nmv 157 00157.3f95804da86ee79dbb076c47ed29984c\\nmv 158 00158.ff5dce5446d2ec91f0caffeffdd48852\\nmv 159 00159.8a5c778f65ecc30e14507369b9eb8292\\nmv 16 00016.f9c349935955e1ccc7626270da898445\\nmv 160 00160.b6b241d37fa9d5f772afca9ef30034c3\\nmv 161 00161.00e60d1a3478f1ae99ff49fbd4b30605\\nmv 162 00162.261bb4a36b195f96fcc7da4038b898a3\\nmv 163 00163.e4abb3f86aa9fd5bfa85886055fd923d\\nmv 164 00164.c8532626eaab6655e81f4d96b78cc659\\nmv 165 00165.6eedc001155da3cbd75a60eba2b19448\\nmv 166 00166.a2e4d6ec3078b619ca38927ca69fc94d\\nmv 167 00167.1665f2336b63debb3463fcf4d37e8485\\nmv 168 00168.70400165faa695abca4a96241d393f34\\nmv 169 00169.bc6e1356af0602fb96dd3f721fb17c48\\nmv 17 00017.49ab70c7a4042cb1c695a0e59a6ede54\\nmv 170 00170.fe4f77fa9456b48dffa9288074b2bb2a\\nmv 171 00171.495412eb56506d9668b9dacf46860978\\nmv 172 00172.e524e85cab354337018e1d0d2fc21ffd\\nmv 173 00173.f7902a7780f163e3896861983cd700c6\\nmv 174 00174.3874b6ff3c86a5ebefb558138a6bfb28\\nmv 175 00175.bf85f34d953215bca7d0004aca087812\\nmv 176 00176.70022adaab1a9dfe64ae7588ffa5add9\\nmv 177 00177.d62ac309d8030ef816f7831c3d5d3f7d\\nmv 178 00178.bf2ab7492e5080b07d7397b0662821a7\\nmv 179 00179.3a4c735c7c1e494f4e7a7b9465043280\\nmv 18 00018.259154a52bc55dcae491cfded60a5cd2\\nmv 180 00180.afdbcd7acb65828c217eea90ff92c3b0\\nmv 181 00181.e3259c0ef889b5c76054abe2fafddeda\\nmv 182 00182.0fe8b40b189a7bc1ec68b3df5125c602\\nmv 183 00183.4aaadeb40e3362e71e3e4aba15624e3a\\nmv 184 00184.a2109736d2f15cde3747a6f335c6f24c\\nmv 185 00185.9f02f77f7f5a2724c109f598b2245675\\nmv 186 00186.e739e1c9fdc0702762d3583b26b401eb\\nmv 187 00187.e2178f6d01a70dfbdf9c84c4dcaf58dc\\nmv 188 00188.6590e73ef71e79c5b6adedbacf91ac8c\\nmv 189 00189.3d89383221aa3fb155a099838ce9c40a\\nmv 19 00019.939e70d8367f315193e4bc5be80dc262\\nmv 190 00190.c861662876d77491e0dc0e95fb3767cd\\nmv 191 00191.cd23170803a4680d6dbd798a4cd1e5dd\\nmv 192 00192.2d3e74aaf18c1c4193067f025e757507\\nmv 193 00193.4ceae11e1dae2059c9a526eebda8b259\\nmv 194 00194.dd4dd86bdd8e1113889af9afaf299d6c\\nmv 195 00195.8b276e08dd05b0131faa8fb24764f205\\nmv 196 00196.16da0dc3452b7407d4f89a0b2efcff0c\\nmv 197 00197.6968d98720065059247cefe4e5bcd192\\nmv 198 00198.43bac6df7ea16e4c4b0026779341f14b\\nmv 199 00199.955edee89f34960c033c4d1072841356\\nmv 2 00002.24b47bb3ce90708ae29d0aec1da08610\\nmv 20 00020.4120dc06a0124a8688e96f8cff029113\\nmv 200 00200.a56926c058fa84b0ea031b5774e5dcfa\\nmv 201 00201.9da0b5702a864a8ffd06cfb4c724f9c8\\nmv 202 00202.f1c9a17fe805c50677c104743e4f8be2\\nmv 203 00203.beb1b157fc74672074061434cc7bad3c\\nmv 204 00204.33e3cd4e0ad791304e554bb259bda53e\\nmv 205 00205.d3c294d833fd7c79edd96dac71039821\\nmv 206 00206.806263422d55d38a151fe3b89d56192f\\nmv 207 00207.3adcb1a14977a49cac8f6e10f64ac6f7\\nmv 208 00208.a2968a374034368d849b6ed12bdedd37\\nmv 209 00209.59817ef0dc8d05d4b49bd5914fa88afa\\nmv 21 00021.15185fdb3fb02dffd041fa8f70d19791\\nmv 210 00210.285d263b1a18e67c68ec9fe005253dd0\\nmv 211 00211.195957199f6e9f694f9811ad83eda5c4\\nmv 212 00212.9a9f009a6d601e2e34c1b95353983352\\nmv 213 00213.5f17fdf863726d4704840f86f698d10b\\nmv 214 00214.b5ba0ff48cee07a36c6f312de7f77207\\nmv 215 00215.57c4f4d8e2f582088f8aca38239059f7\\nmv 216 00216.feb2a8df9887bc2d84e80c9d2a8faf56\\nmv 217 00217.2a937e0b9912e1e40dbf17bad6026372\\nmv 218 00218.e3fc04cbcfdf224a5fa652779c01029c\\nmv 219 00219.0f66069db1b4e25ba851233ce4a107c4\\nmv 22 00022.4b5cf3c16feb88dd6932a8c46a41946c\\nmv 220 00220.15583875f5ef9e2cf6450ebc821f0dff\\nmv 221 00221.ee1d208001fd30265827fb309441d662\\nmv 222 00222.6ad799703d958681d6e427762f86f179\\nmv 223 00223.8ab642208d33d7f9ac50bc2e42c02732\\nmv 224 00224.486269968d3ad880a016b600dc366393\\nmv 225 00225.7082ef8585280a42940bf98f9be50e55\\nmv 226 00226.409b6577c79d85773d50cb37fde4ba79\\nmv 227 00227.4266b9e8c02a2c7b13d4d8661a76f75a\\nmv 228 00228.23fc5aadfceb81d121d77dfe37f6929a\\nmv 229 00229.2c64df059013c03812139543389a836b\\nmv 23 00023.4299adbda55862876440ecbc2fce6a67\\nmv 230 00230.035bbcbe1235cb6fdd0a5d6d626dc5c4\\nmv 231 00231.30ae582570716a95e79c87a2de31cb30\\nmv 232 00232.0edc8786183135557c0f2da5a4460508\\nmv 233 00233.e9834d55f8185a84ce8a047b2eba2139\\nmv 234 00234.1594b3a348279e71c8b769db9aa96b5b\\nmv 235 00235.77e9a7e398ce81359c08e64bf20e9825\\nmv 236 00236.ca8e7524e271aec0324e707cb7d420a1\\nmv 237 00237.4716d6d5a4e89997c6ffc2d56951d57a\\nmv 238 00238.7d0de37650a0c0e2d99e52eef4042602\\nmv 239 00239.43b3279a300a122610f91725bb92a538\\nmv 24 00024.fc4bd0b22cd7907e99f8a35b74655b15\\nmv 240 00240.96467ad3d42ebd44b042599f5aa9c9d9\\nmv 241 00241.abb2882a304357a47681f887244c2f76\\nmv 242 00242.a8ba01c4d998005e3ad3495293582bb6\\nmv 243 00243.458c8e32e405b69f561fd77bc16f440c\\nmv 244 00244.7e5d917c8a76d52cc694c5cf8ab8497d\\nmv 245 00245.39c15852204971c72e8d89f9f3f9bb38\\nmv 246 00246.3b997087302d48ff57ab5afb3d400d5b\\nmv 247 00247.aee6d7984b3dab9a6b0eed524e7a3686\\nmv 248 00248.b639977f45a5b1e39b5aa3c4abc2edf6\\nmv 249 00249.c429ab5c1413c4386bf64b228a68e768\\nmv 25 00025.97302502dc8e20ab7e7eb05f926e1bab\\nmv 250 00250.80b7bd444753246734e015af7b6d2d65\\nmv 251 00251.d542591a25f8fe8c4accd692113a0554\\nmv 252 00252.c90694cf3f09ef0111b761eefd95cc3f\\nmv 253 00253.f715f442da45114754198a160195b883\\nmv 254 00254.02daa37a4255a78f2f224f3cd2f8fa99\\nmv 255 00255.42a6feb4435a0a68929075c0926f085d\\nmv 256 00256.ad88c1a165392a509a8b0b8df6d56cbd\\nmv 257 00257.554324ab4a8f7093f5222303a4c59a8b\\nmv 258 00258.1d61b380a23168881253ed86bb4f79ac\\nmv 259 00259.7ebf3c0fd752bce5b8056e9454d2c76f\\nmv 26 00026.4f10fab6e6776379c17ee9c9ac7da4a8\\nmv 260 00260.737eefb83e7eedbd531117c273c56241\\nmv 261 00261.93d7dab5dc0c469b58aa9b0e5e25bb25\\nmv 262 00262.c996a3709ca616fce1bfc6d50cf5bda3\\nmv 263 00263.c685b2f51853b0986bd992d7486aabfa\\nmv 264 00264.2281c4eb36accd65d9c2cab379de2789\\nmv 265 00265.1120a7d868b23e83b91ad00ec8b79e08\\nmv 266 00266.99e95dc7251843f7a2015cb602775694\\nmv 267 00267.0bf79a17115bffdf00bb0997f773dfc5\\nmv 268 00268.1aee52bc302bf1d5c2030229b5dbd63e\\nmv 269 00269.5b147e2f10b02f4a478036a0b495323e\\nmv 27 00027.028e0b165e8ea6f479e09a8f8cc7e50d\\nmv 270 00270.d50e186af7a00114ad967b8f77b70338\\nmv 271 00271.24302cf2e759401d1f9975fe4fc1def9\\nmv 272 00272.97ecf97bd5f1563ac88d9eb4c8a51062\\nmv 273 00273.51c482172b47ce926021aa7cc2552549\\nmv 274 00274.85756abb8d0bcfe267e464a2f33ce686\\nmv 275 00275.0404a07cd99e27d569958716f392082b\\nmv 276 00276.7e2fed586e292a7ad8cde7cb095a2601\\nmv 277 00277.4b6ea2e210cacce0e46064da22a05549\\nmv 278 00278.229f1cdd03eb4e6ff86e9fd29551f577\\nmv 279 00279.4ef122899a70a2225ffb9b5c54fde1fc\\nmv 28 00028.83a43dd97923463030349506a56226c1\\nmv 280 00280.2507969221ea95a019506366f6c361d8\\nmv 281 00281.7e8c08897b61b9b008238efec9ca8d15\\nmv 282 00282.b9f0c6ac87b24a9abac5f2a564c0a6c6\\nmv 283 00283.04856c4a6fa4393e976c5aaa2c0533d5\\nmv 284 00284.cfe6e278b87c3e9b6abf6cf6a16bf708\\nmv 285 00285.b44ae825681c0f28db2e742ab790b191\\nmv 286 00286.68b939e20e5b9fd6839471f6e9bc07ed\\nmv 287 00287.37dd6b1a54993de94495643ead4fd2cf\\nmv 288 00288.c50b1fb60cac2cca358d7543602623ee\\nmv 289 00289.93b23ed2f96babb55c0f2a4e0c0684f7\\nmv 29 00029.2b149de91fef9f40880d27ce8c27aeb2\\nmv 290 00290.13035c75be0d5b447a10e2263f8c1361\\nmv 291 00291.65fa7c79bc3a75c50655cb044011c50a\\nmv 292 00292.3e12964912377bd9b52d223e37812e56\\nmv 293 00293.ef3561f8707f7fcd1de291d4c2ae9609\\nmv 294 00294.8dde5983e6dcd314a8aa3f89e01c1ec2\\nmv 295 00295.717c906cda92746007b9098e16c727b2\\nmv 296 00296.c9b10ba5ae2e480e37a6e2e1455671eb\\nmv 297 00297.9e6095368b4e8258e967798cea8fe40e\\nmv 298 00298.804507b6d4d03a86e53c63249fe70772\\nmv 299 00299.9d0b292172cb787eb2ed9e8855222edd\\nmv 3 00003.4b3d943b8df71af248d12f8b2e7a224a\\nmv 30 00030.5d3444135a8ad95fc4ebf9a884076621\\nmv 300 00300.fa3ece84a195f3d36a70f2550824071f\\nmv 301 00301.ad155a30cca1f9d16e75e8934030edae\\nmv 302 00302.10798aa48d25b3f61778f379964a57e5\\nmv 303 00303.c18c1a0222b07f2b2250fbda5a961b7e\\nmv 304 00304.88cf1d3ce0e138fd9ffb801e675f69b3\\nmv 305 00305.2252f3b41c7fd3a43ac132a6b3391a3b\\nmv 306 00306.521d917ac6509c499c406647fd0d336b\\nmv 307 00307.2e4dc0cdb1e3b49f0986c19c1f324224\\nmv 308 00308.1245e8fa9e6092687b535e36b367d8fb\\nmv 309 00309.2a74113b0330ea76cecd28571fc6f7fe\\nmv 31 00031.e68d1195ad2c1900a44de8631f8acd91\\nmv 310 00310.23036f6ae05720b052b73117b6ecb957\\nmv 311 00311.fad7da9629598eaffeaf6896bdf32d9c\\nmv 312 00312.a0e7f2633bd0ceaddf16fba58be54778\\nmv 313 00313.5126f820bf11ba460e2c1611cee632c1\\nmv 314 00314.5b03e0718373f3319eadaec592308aba\\nmv 315 00315.26ca39910895a935e2b8bca93a44ebfe\\nmv 316 00316.018282fecc304f005e952d7c5c181dad\\nmv 317 00317.0bea188e5bd639ae421f07b3ad68c5e0\\nmv 318 00318.da63a8488410932cf780238ec0ba59eb\\nmv 319 00319.e4a20802d12937998f3b3bf805362a3f\\nmv 32 00032.081c3615bc9b91d09b6cbb9239ba8c99\\nmv 320 00320.e34c9c6f982b8ce353c10aa362d6da17\\nmv 321 00321.89f41bbace08275ee298ed419e22bc9a\\nmv 322 00322.77dd826a00ebd4b54a6036394d41da55\\nmv 323 00323.badf0273f656afd0dfebaa63af1c81f6\\nmv 324 00324.269d2c1815931004c7be2be4d26e8b66\\nmv 325 00325.78b93ee9713b6594d03c86993286e6c5\\nmv 326 00326.80f15e07265a22b78068bab5b56b01c7\\nmv 327 00327.5df76bb4359800b5408821285677b5cf\\nmv 328 00328.cccf842e57907e25d1584cad03f8d2cb\\nmv 329 00329.5c22249fa35fff050675e7df4433b89f\\nmv 33 00033.489e59d3c7060b70e166ef7317c86807\\nmv 330 00330.a4df526233e524104c3b3554dd8ab5a8\\nmv 331 00331.1de50a02d91a4e0c6daf5e2cc28a60c6\\nmv 332 00332.b82bddb316d2e12418d6ea8791ce5896\\nmv 333 00333.492c1809f9755e305774bed2aaa3aa9b\\nmv 334 00334.3e4946e69031f3860ac6de3d3f27aadd\\nmv 335 00335.9822e1787fca0741a8501bdef7e8bc79\\nmv 336 00336.b864dd710e659f0ef5826dc4d80714f8\\nmv 337 00337.4e2d92485e5b880d494821c1fcee790a\\nmv 338 00338.033c0109da096486c7d797cccd2c3198\\nmv 339 00339.873b4fc31bb79ebea51fdea5cde75b3c\\nmv 34 00034.d5a5e526aa6b249ed6ca184548a44b1a\\nmv 340 00340.8e191c37e2d30a639013203aacf60086\\nmv 341 00341.7c13df68bb4feae35d9ea86001a3ecad\\nmv 342 00342.babb5045c49b585808041391599bc05d\\nmv 343 00343.0630afbe4ee1ffd0db0ffb81c6de98de\\nmv 344 00344.8bbe5c7c8269a039761968a1b10a936a\\nmv 345 00345.b8ba4d6a115368132d1d580c4c9e0307\\nmv 346 00346.8c8e3c5107bf6bf30b940f79d598c1b9\\nmv 347 00347.e74f831074ea17d0721bd06a5fa7857c\\nmv 348 00348.e0b89978fa806cf3e7fd3ba0869b3c65\\nmv 349 00349.d87df6b95f0ee4e36364e9d71223485a\\nmv 35 00035.8e582263070076dfe6000411d9b13ce6\\nmv 350 00350.0f2ef01282cb99a4eeb9a19923597b3f\\nmv 351 00351.517e785af43ffb3f9e66ab25b3ab162c\\nmv 352 00352.f7adb4aa267e50a8db1e4bcacfe863f3\\nmv 353 00353.27effabff54bfbed52d2c93a1bf0e48a\\nmv 354 00354.457f41d0d6af931597b5137a061cde62\\nmv 355 00355.94ebf637e4bd3db8a81c8ce68ecf681d\\nmv 356 00356.86a795300367f707a8b648e0c50253ad\\nmv 357 00357.6ca4760de43f3d29316cf6bb0cab6bf5\\nmv 358 00358.8a6a162daac1368fcfe83a5db1084ee1\\nmv 359 00359.2794a4ec8f226ea59a009e972d012f64\\nmv 36 00036.8e582263070076dfe6000411d9b13ce6\\nmv 360 00360.5f5fc66c831d845705efac502121308a\\nmv 361 00361.eb828b44c428fcecd4e95e8799a9ee11\\nmv 362 00362.d605ea00a259c1245d6e21ecf38264cf\\nmv 363 00363.bafc8f5920a1e35acb4b06d6f6daa74c\\nmv 364 00364.8e5f3385c2deb2c0c32794b403851ec4\\nmv 365 00365.212dff15cc46d4650d9a270bf595b42f\\nmv 366 00366.539843bed9a06ae77966ccbc9dc2e103\\nmv 367 00367.c6d1767b20048ef840cf83f8fb2cff68\\nmv 368 00368.3a53888c2f7fbe52a7293f223375c245\\nmv 369 00369.2530542de47d461ccb925fcafc6f0ad5\\nmv 37 00037.7ce3307b56dd90453027a6630179282e\\nmv 370 00370.6caa3885378bbaf0856bd9712629ab51\\nmv 371 00371.e4ca4edd7d69a9b54cac7f364f5f2079\\nmv 372 00372.216f90ef52558ed24402e192586a40e8\\nmv 373 00373.2171ee7f8e73e1092279077df2910ff6\\nmv 374 00374.ed17ed71f8d321cf8505672678c56e71\\nmv 375 00375.ad5939ae436ed745d5222893d5ffe191\\nmv 376 00376.d87b4313e6c43a986060d57a0b8515a6\\nmv 377 00377.31267c80e042b22be0436c044c13513a\\nmv 378 00378.36f7856d38f84ffea7f1fd98044f756e\\nmv 379 00379.5b1c7a295af5ccb0a58c5a41d5c5ad04\\nmv 38 00038.7ce3307b56dd90453027a6630179282e\\nmv 380 00380.c4d530b5816543f4f1a23b8ce0d281f5\\nmv 381 00381.492ed1e5eed1b631560e2009be5b8c9a\\nmv 382 00382.8f4cd77d3b521fa679ed62a9dda23d9a\\nmv 383 00383.5b89d5a9c0152070a77e133734f7cd83\\nmv 384 00384.e25b766bea2f1efe35eccb7eb6f54e37\\nmv 385 00385.8db8e827e6fec2fae5f7e407fe0e0ca3\\nmv 386 00386.27345c618f7ca368d7a12b0dd09a9da3\\nmv 387 00387.c2b993b46377256bdcb2314c2553b6f0\\nmv 388 00388.23ff533336b63fb45d267b8cbe59b7b4\\nmv 389 00389.ed4ca8aceef91808c783909351c7bdb4\\nmv 39 00039.256602e2cb5a5b373bdd1fb631d9f452\\nmv 390 00390.176f9525715411d7e2ce36e5bab4c770\\nmv 391 00391.a52ab775baefe8b277a285560cac7d78\\nmv 392 00392.9e194dfff92f7d9957171b04a8d4b957\\nmv 393 00393.d3a4d296a35c6a7f39429247c007eeae\\nmv 394 00394.9c882c72ddfd810b56776fdaa1c727a6\\nmv 395 00395.bb934e8b4c39d5eab38f828a26f760b4\\nmv 396 00396.8ea0610e30c94adefd9b3489df436ad9\\nmv 397 00397.c02eba1386b00d640c954e5117dd1aa0\\nmv 398 00398.93e6be09b12b93697185c881c739605d\\nmv 399 00399.b9eab4251d9263129290cf7fc2aa4c7a\\nmv 4 00004.1874ab60c71f0b31b580f313a3f6e777\\nmv 40 00040.256602e2cb5a5b373bdd1fb631d9f452\\nmv 400 00400.a152ca3d2735f5dfe48601331471c591\\nmv 401 00401.450b38785db348f7d8c83c64304dd6e3\\nmv 402 00402.1290489e7e62ac9bb500677606540e5d\\nmv 403 00403.5aa6261d36d1362bcd181ed7738de7f7\\nmv 404 00404.a2c9ac35a89a129ce473c5d977409131\\nmv 405 00405.18a5c3d971e1def2c3b4a2df122f3583\\nmv 406 00406.4b29229820cc5e9675ad369a3a000f43\\nmv 407 00407.157349d43c03e008f2448e1f37c510aa\\nmv 408 00408.87f7a3c9c29aaf97b413126029aacc6a\\nmv 409 00409.09cb28cd8753bff06fc8a547c3ed8fe2\\nmv 41 00041.21cc985cc36d931916863aed24de8c27\\nmv 410 00410.be908008e0e27722a177b289227f5fc1\\nmv 411 00411.e6e37cbb02ad33b4e0ba5fb6caf2bbcf\\nmv 412 00412.4e18b948471feca1fa1610ce7c1259a2\\nmv 413 00413.4c74110f6640067c2172a04543dea670\\nmv 414 00414.4b85e87c5b9235c72f189bf044057f15\\nmv 415 00415.e241b6184464107168656739bf96c6b9\\nmv 416 00416.112b010a30255d7d14ee9465d4fe804c\\nmv 417 00417.8e6ff04af5a268d0495259b3f6a24d58\\nmv 418 00418.89cb8cbdd1cd4424829658e11ec6a13e\\nmv 419 00419.a42a284750591b454968a76dfab38370\\nmv 42 00042.21cc985cc36d931916863aed24de8c27\\nmv 420 00420.6112350c5fb3dcf5a67a4fafac80702e\\nmv 421 00421.a5e7e7b43acb5501368b8c61221477f1\\nmv 422 00422.cce79e048419b788816e8a2c28525afb\\nmv 423 00423.3b9b432fa25a7ac8c494db8d2e42cc73\\nmv 424 00424.b283405aeac6a8ff4c4a4e4e85310268\\nmv 425 00425.d7a3b1ae59479bc986057a03d057615d\\nmv 426 00426.2002be3b0195b54596a5e7fd7d7561d5\\nmv 427 00427.8136588f1befaccc01f0405513be6186\\nmv 428 00428.8fc153d0c9cbc406fbd9bdf1c4ed9b13\\nmv 429 00429.b1077599c85314135e6d82d654c98d55\\nmv 43 00043.8d93819b95ff90bf2e2b141c2909bfc9\\nmv 430 00430.17440122811305f78e499d2ed0a1fe46\\nmv 431 00431.cc38713737ea22e2e329205efd78840a\\nmv 432 00432.a2fa136962969f603b363e7509668b49\\nmv 433 00433.8977506bae8028f48290ea0fb2f54ddd\\nmv 434 00434.e86d28a69c9228080a3f0ecbde5ea5fa\\nmv 435 00435.2078783521379b81a45f1a5c48ca131f\\nmv 436 00436.97d3a7bc4377152052dd717581387f36\\nmv 437 00437.b2ad4f589c9ca2ef65432465a12915b4\\nmv 438 00438.77cb3de3ddbb68012f0dbe370c4e71dc\\nmv 439 00439.2c6d4d3e8b817c5315a1c61e4eeb7ee9\\nmv 44 00044.889d785885f092c269741b11f2124dce\\nmv 440 00440.16a3caff5b5788f2ae378850041252d7\\nmv 441 00441.b820c1999715c2e5ded6418d2b17723c\\nmv 442 00442.03f023d080136fd537ff369de5dcae10\\nmv 443 00443.c5581d58a801553fee57b2bfe904ea93\\nmv 444 00444.f81c80c3f2d43ecd8b117213f3e60c53\\nmv 445 00445.2cd5092859b75fdccf3724ab2a4ccafe\\nmv 446 00446.d971f234fa00ed94e18f5ce8f5c0f852\\nmv 447 00447.badf14ca8ec589b0b2d25369573ffe84\\nmv 448 00448.809b59ce6292db666ef457e3cb08bb39\\nmv 449 00449.066d44ef3e1ff26103ea1b35b0a2e6d5\\nmv 45 00045.75baa6797e2a65053a8373d5aa96f594\\nmv 450 00450.a828f09ee44e716e6931866e4743e32a\\nmv 451 00451.588b22df28f4036ff3895447afbcb7f3\\nmv 452 00452.63e7d2b55fd5301d2c5d2f48c9a783f6\\nmv 453 00453.622475ac240e9e2cdcdbb1a095cc8d28\\nmv 454 00454.943161603b1eb6da5187194b5a75186a\\nmv 455 00455.b7a7254a180821d6077a42f7153e12e5\\nmv 456 00456.578afb400f87833c03c4dc2be6fd85bd\\nmv 457 00457.fc29b47778cf7dae8206fb24985dd8dd\\nmv 458 00458.8c9d2363547ebaf997282910cf21e95c\\nmv 459 00459.5d8701dbedee666b885d456475f0301d\\nmv 46 00046.0b4fff9cd7cffe94cc4f04bbf3928c28\\nmv 460 00460.532703440c6f7df067d1ba5054da7f11\\nmv 461 00461.27302a2e94d8948f8a81a7d4c8566cf0\\nmv 462 00462.2cfe24a32d1b480eab70b099b4a8a919\\nmv 463 00463.47a4c19eea5230ff19a42e62a5f59484\\nmv 464 00464.c1345cc18f1944b61a219dcdfe54088a\\nmv 465 00465.5d27c24cf1797e87a346c02f9bc42587\\nmv 466 00466.11bc31540055c320b62e5886ef27c4b2\\nmv 467 00467.b59a3337d0979ba8d587bf4c166db8b1\\nmv 468 00468.8edb99340b9a96a81813be2d3362605d\\nmv 469 00469.c1d9ab5918d50dac4242ef53c4aaf678\\nmv 47 00047.376bd7728ee94b32bc23429d9c51bae5\\nmv 470 00470.b9e513715695ea1c79c1e5af0fb0eea9\\nmv 471 00471.f3cd3e181577b34e474bea8c480d1b44\\nmv 472 00472.40695f88feb07754e40b1008aeb47bd1\\nmv 473 00473.ab22ff7eb6975783dff18f279a1a8357\\nmv 474 00474.81ea7ec9e00168efe6bb824d08825ef3\\nmv 475 00475.f3c5fb57463eb715fa93e9ce483c49fe\\nmv 476 00476.0530ef1b33305fdf919489946570685b\\nmv 477 00477.c825fdd16a32d2d29f4f3613e412dfb3\\nmv 478 00478.16f274ffd3e884a574c9461012cadea6\\nmv 479 00479.558d7491db4238443bc549ec06021bae\\nmv 48 00048.462325dc69a8dc74462723ec0d20a5cd\\nmv 480 00480.fc9323682825f7d93ed78a82970ceaea\\nmv 481 00481.77b1644dfd682bf753d5894ad04f8020\\nmv 482 00482.d2338d94e40e6028a89c0a197ed7c470\\nmv 483 00483.488a059db4a731caae8143bf298d6ac4\\nmv 484 00484.cd802b94da9c80db5e4432bb661effd1\\nmv 485 00485.9021367278833179285091e5201f5854\\nmv 486 00486.348918a564335556b4fdd8b82f939918\\nmv 487 00487.b57549dc531f50c1ff1e3356bc38b390\\nmv 488 00488.6d41f6d7222978a3ee2b6cfbfce55a02\\nmv 489 00489.013cd8eb1a0a545e5c6ed066bad0cad7\\nmv 49 00049.625bab436c7fc6299cfceeaa24e198ae\\nmv 490 00490.5fc0d6e9adcaf702bb7dd303ff2d59e2\\nmv 491 00491.f47154f78397c57b14e05450a16745d5\\nmv 492 00492.f2d030fd71d7c3075626195b5c0b56f7\\nmv 493 00493.c82e983c32e4888b4fbb0084cb303608\\nmv 494 00494.a0865131f55d26362a8efad99c37de01\\nmv 495 00495.a13bce4369913c929a48b073f2b320c9\\nmv 496 00496.e995facc5d5bc6d3f3a8537d35e0432a\\nmv 497 00497.9307bd1fb5347f9fbf1f54ebe95b1d20\\nmv 498 00498.863566df8e5f17f979edca79d1e87187\\nmv 499 00499.4a17fbd7fe71705e09b4dd2e24d802dd\\nmv 5 00005.1f42bb885de0ef7fc5cd09d34dc2ba54\\nmv 50 00050.b8200e218e5a5a433f897e9495253a30\\nmv 500 00500.2e8762b67913d1b07bc8da293448d27f\\nmv 51 00051.374f4d4300a5d39544b2f052e7a9429d\\nmv 52 00052.f12ac251d1fbdc679daadc6b97229e63\\nmv 53 00053.92bcea73123d0ea0fb26c285d5e045a9\\nmv 54 00054.839a9c0a07f13718570da944986a898a\\nmv 55 00055.8b2154bb7ec1f411495f37f519f1835d\\nmv 56 00056.0f99dde58a7c4e18944397ab47e0412c\\nmv 57 00057.92fdae44bdd1d9e5461eef3c852dfd23\\nmv 58 00058.abb13c5db31d26a58607aac809573ed4\\nmv 59 00059.a633106e3ce62fa7b46c2e4dc8c666d3\\nmv 6 00006.7a32642f8c22bbeb85d6c3b5f3890a2c\\nmv 60 00060.140f80780520fa19b360ddcb05838a67\\nmv 61 00061.c148ebba16540e48c7aae2e3f733a8a3\\nmv 62 00062.41f708df91642411f0fd8f91e28d3521\\nmv 63 00063.3bec5361a5edfdbcc371241b3d74e3bf\\nmv 64 00064.d700742b9815d990b2e5a7921e8d854c\\nmv 65 00065.18d2edcf9aa0e940651b5fdd218ac019\\nmv 66 00066.93ccd9599561c5277989f03b575d6bff\\nmv 67 00067.02c6e51107f39ee60453ff8e7372101d\\nmv 68 00068.1626952077798d4f2d5eb30e48bc49b3\\nmv 69 00069.a0b6cfde0e477af7f406ee756ba53826\\nmv 7 00007.859c901719011d56f8b652ea071c1f8b\\nmv 70 00070.977e083b104717202fe944ae6065624e\\nmv 71 00071.4c3840b98dc207623d0c0e66a6d40af2\\nmv 72 00072.f97a14d667569ebbc0502bb2c7beec27\\nmv 73 00073.d57c16429fa19fbebfb9aec34f391aa2\\nmv 74 00074.9948514a1f3aac3f27ba2c20db7b0441\\nmv 75 00075.4568998f41d50bccf8f7c3d4aeb7a425\\nmv 76 00076.770f0e7b8378a47a945043434f6f43df\\nmv 77 00077.a5c41f056918bde0d5f9be424714766e\\nmv 78 00078.8ff64b5c77f9c9618bd7b119ae14c8b2\\nmv 79 00079.4a5fbaf2e531918c44642b3cfae40089\\nmv 8 00008.9562918b57e044abfbce260cc875acde\\nmv 80 00080.77af9ca7f967f055062aade45001129e\\nmv 81 00081.3309521659461b743e1bfc3dc688a5f1\\nmv 82 00082.705cdc08c2ee77821391a847d9c1a4e3\\nmv 83 00083.a042c7512d5db5f9fc1857fdc6bbdcc3\\nmv 84 00084.df5ac85de3405b6d07c9fa7ba3eecf6a\\nmv 85 00085.6e7b1a983ab05445a7eaffcbb6811d3f\\nmv 86 00086.4b3a02be9a2561ada188d95b4601c01e\\nmv 87 00087.1cbd88a0c1564cb5d6c9b12c8c4175d8\\nmv 88 00088.f421d8c380fb0c48483f026d243df9d9\\nmv 89 00089.51c746428bb5e2793a1c04ce1e0c72c1\\nmv 9 00009.c05e264fbf18783099b53dbc9a9aacda\\nmv 90 00090.9a7e76d58065e29e709161dbe569fe54\\nmv 91 00091.113ec7122d4046a2754bcf70b9fb5299\\nmv 92 00092.bf7453c6b7917ca30074a3030d84e36d\\nmv 93 00093.2bb8a2a7e4d2841a14f27f32076dd77e\\nmv 94 00094.3ba780eac7dce1c2b063cd1fc12738be\\nmv 95 00095.e1db2d3556c2863ef7355faf49160219\\nmv 96 00096.b2cb600e893f7a663ea5f9bff3a6276e\\nmv 97 00097.dce08392ba6bc552d13394fa73974b62\\nmv 98 00098.01d2958ccb7c2e4c02d0920593962436\\nmv 99 00099.c4ff6dba0a5177d3c7d8ef54c8920496\\nmv cmds 00000.7b1b73cf36cf9dbc3d64e3f2ee2b91f1\\n'"
      ]
     },
     "execution_count": 65,
     "metadata": {},
     "output_type": "execute_result"
    }
   ],
   "source": [
    "combined_data[no_msg_id[0]] ## anomaly! will be removed"
   ]
  },
  {
   "cell_type": "code",
   "execution_count": 66,
   "metadata": {},
   "outputs": [],
   "source": [
    "## following are the keywords that can be used to signify the end of the body of emails, i.e footer removal\n",
    "\n",
    "has_something_list = []\n",
    "others = []\n",
    "# no_msg_id = []\n",
    "# no_content_type = []\n",
    "has_dashes = lambda x: '----' in x\n",
    "has_equals = lambda x: '====' in x\n",
    "has_sponsor = lambda x: 'sponsor' in x\n",
    "has_subscribe = lambda x: 'subscribe' in x\n",
    "has_contact = lambda x: 'contact' in x\n",
    "\n",
    "has_something = lambda x: has_dashes(x) or has_equals(x) or has_contact(x) or has_sponsor(x) or has_subscribe(x)\n",
    "\n",
    "for i in range(len(combined_data)):\n",
    "    if has_something(combined_data[i].lower()):\n",
    "        has_something_list.append(i)\n",
    "    else:\n",
    "        others.append(i)"
   ]
  },
  {
   "cell_type": "code",
   "execution_count": 67,
   "metadata": {},
   "outputs": [
    {
     "data": {
      "text/plain": [
       "1818"
      ]
     },
     "execution_count": 67,
     "metadata": {},
     "output_type": "execute_result"
    }
   ],
   "source": [
    "len(has_something_list)"
   ]
  },
  {
   "cell_type": "code",
   "execution_count": 68,
   "metadata": {},
   "outputs": [
    {
     "data": {
      "text/plain": [
       "822"
      ]
     },
     "execution_count": 68,
     "metadata": {},
     "output_type": "execute_result"
    }
   ],
   "source": [
    "len(others) ## most of these ones seem to have no footers"
   ]
  },
  {
   "cell_type": "markdown",
   "metadata": {},
   "source": [
    "approach for header removal: for each entry in both test and train, we will find the further index from the start of the email that matches the above 3 keywords, then look for the next newline char, and remove the entire prefix substring from the email as the header."
   ]
  },
  {
   "cell_type": "markdown",
   "metadata": {},
   "source": [
    "approach for footer removal: for each entry in both test and train, we will find the further index from the end of the email that matches the above 4 keywords and remove the entire prefix substring from the email as the footer."
   ]
  },
  {
   "cell_type": "code",
   "execution_count": 69,
   "metadata": {},
   "outputs": [],
   "source": [
    "no_hf_eham_spam_train = eham_spam_train.copy()\n",
    "no_hf_eham_spam_test = eham_spam_test.copy()\n",
    "no_hf_hham_spam_train = hham_spam_train.copy()\n",
    "no_hf_hham_spam_test = hham_spam_test.copy()"
   ]
  },
  {
   "cell_type": "code",
   "execution_count": 70,
   "metadata": {},
   "outputs": [],
   "source": [
    "for i in range(len(no_hf_eham_spam_train['data'])):\n",
    "    header_idx = 0\n",
    "    \n",
    "    ## header removal\n",
    "    text = repr(no_hf_eham_spam_train['data'][i].lower())\n",
    "    if 'message-id' in text:\n",
    "        header_idx = text.index('message-id')\n",
    "    if 'spam-level' in text:\n",
    "        header_idx = max(header_idx, text.index('spam-level'))\n",
    "    if 'content-type' in text:\n",
    "        header_idx = max(header_idx, text.index('content-type'))\n",
    "    text = text[header_idx:]\n",
    "    if '\\n' in text:\n",
    "        text = text[text.index(r'\\n'):]\n",
    "        \n",
    "    ## footer removal\n",
    "    footer_idx = 100000000\n",
    "    if has_dashes(text):\n",
    "        footer_idx = text.index('----')\n",
    "    if has_equals(text):\n",
    "        footer_idx = min(footer_idx, text.index('===='))\n",
    "    if has_sponsor(text):\n",
    "        footer_idx = min(footer_idx, text.index('sponsor'))\n",
    "    if has_subscribe(text):\n",
    "        footer_idx = min(footer_idx, text.index('subscribe'))\n",
    "    if has_contact(text):\n",
    "        footer_idx = text.index('contact')\n",
    "        \n",
    "    no_hf_eham_spam_train['data'][i] = text\n",
    "    \n",
    "for i in range(len(no_hf_eham_spam_test['data'])):\n",
    "    header_idx = 0\n",
    "    \n",
    "    ## header removal\n",
    "    text = repr(no_hf_eham_spam_test['data'][i].lower())\n",
    "    if 'message-id' in text:\n",
    "        header_idx = text.index('message-id')\n",
    "    if 'spam-level' in text:\n",
    "        header_idx = max(header_idx, text.index('spam-level'))\n",
    "    if 'content-type' in text:\n",
    "        header_idx = max(header_idx, text.index('content-type'))\n",
    "    text = text[header_idx:]\n",
    "    if '\\n' in text:\n",
    "        text = text[text.index(r'\\n'):]\n",
    "        \n",
    "    ## footer removal\n",
    "    footer_idx = 100000000\n",
    "    if has_dashes(text):\n",
    "        footer_idx = text.index('----')\n",
    "    if has_equals(text):\n",
    "        footer_idx = min(footer_idx, text.index('===='))\n",
    "    if has_sponsor(text):\n",
    "        footer_idx = min(footer_idx, text.index('sponsor'))\n",
    "    if has_subscribe(text):\n",
    "        footer_idx = min(footer_idx, text.index('subscribe'))\n",
    "    if has_contact(text):\n",
    "        footer_idx = text.index('contact')\n",
    "        \n",
    "    no_hf_eham_spam_test['data'][i] = text"
   ]
  },
  {
   "cell_type": "code",
   "execution_count": 122,
   "metadata": {},
   "outputs": [],
   "source": [
    "for i in range(len(no_hf_hham_spam_train['data'])):\n",
    "    header_idx = 0\n",
    "    \n",
    "    ## header removal\n",
    "    text = repr(no_hf_hham_spam_train['data'][i].lower())\n",
    "    if 'message-id' in text:\n",
    "        header_idx = text.index('message-id')\n",
    "    if 'spam-level' in text:\n",
    "        header_idx = max(header_idx, text.index('spam-level'))\n",
    "    if 'content-type' in text:\n",
    "        header_idx = max(header_idx, text.index('content-type'))\n",
    "    text = text[header_idx:]\n",
    "    if '\\n' in text:\n",
    "        text = text[text.index(r'\\n'):]\n",
    "        \n",
    "    ## footer removal\n",
    "    footer_idx = 100000000\n",
    "    if has_dashes(text):\n",
    "        footer_idx = text.index('----')\n",
    "    if has_equals(text):\n",
    "        footer_idx = min(footer_idx, text.index('===='))\n",
    "    if has_sponsor(text):\n",
    "        footer_idx = min(footer_idx, text.index('sponsor'))\n",
    "    if has_subscribe(text):\n",
    "        footer_idx = min(footer_idx, text.index('subscribe'))\n",
    "    if has_contact(text):\n",
    "        footer_idx = text.index('contact')\n",
    "        \n",
    "    no_hf_hham_spam_train['data'][i] = text\n",
    "    \n",
    "for i in range(len(no_hf_hham_spam_test['data'])):\n",
    "    header_idx = 0\n",
    "    \n",
    "    ## header removal\n",
    "    text = repr(no_hf_hham_spam_test['data'][i].lower())\n",
    "    if 'message-id' in text:\n",
    "        header_idx = text.index('message-id')\n",
    "    if 'spam-level' in text:\n",
    "        header_idx = max(header_idx, text.index('spam-level'))\n",
    "    if 'content-type' in text:\n",
    "        header_idx = max(header_idx, text.index('content-type'))\n",
    "    text = text[header_idx:]\n",
    "    if '\\n' in text:\n",
    "        text = text[text.index(r'\\n'):]\n",
    "        \n",
    "    ## footer removal\n",
    "    footer_idx = 100000000\n",
    "    if has_dashes(text):\n",
    "        footer_idx = text.index('----')\n",
    "    if has_equals(text):\n",
    "        footer_idx = min(footer_idx, text.index('===='))\n",
    "    if has_sponsor(text):\n",
    "        footer_idx = min(footer_idx, text.index('sponsor'))\n",
    "    if has_subscribe(text):\n",
    "        footer_idx = min(footer_idx, text.index('subscribe'))\n",
    "    if has_contact(text):\n",
    "        footer_idx = text.index('contact')\n",
    "        \n",
    "    no_hf_hham_spam_test['data'][i] = text"
   ]
  },
  {
   "cell_type": "code",
   "execution_count": 123,
   "metadata": {},
   "outputs": [],
   "source": [
    "## lets train!"
   ]
  },
  {
   "cell_type": "code",
   "execution_count": 124,
   "metadata": {},
   "outputs": [],
   "source": [
    "## eham vs spam"
   ]
  },
  {
   "cell_type": "code",
   "execution_count": 71,
   "metadata": {},
   "outputs": [],
   "source": [
    "no_stop_words_eham_vectorizer = CountVectorizer(stop_words=stop_words)\n",
    "\n",
    "vectorized_no_hf_eham_spam_train = {}\n",
    "vectorized_no_hf_eham_spam_test = {}\n",
    "\n",
    "\n",
    "vectorized_no_hf_eham_spam_train['data'] = no_stop_words_eham_vectorizer.fit_transform(no_hf_eham_spam_train['data'])\n",
    "vectorized_no_hf_eham_spam_test['data'] = no_stop_words_eham_vectorizer.transform(no_hf_eham_spam_test['data'])"
   ]
  },
  {
   "cell_type": "code",
   "execution_count": 72,
   "metadata": {},
   "outputs": [
    {
     "data": {
      "text/html": [
       "<style>#sk-container-id-8 {color: black;background-color: white;}#sk-container-id-8 pre{padding: 0;}#sk-container-id-8 div.sk-toggleable {background-color: white;}#sk-container-id-8 label.sk-toggleable__label {cursor: pointer;display: block;width: 100%;margin-bottom: 0;padding: 0.3em;box-sizing: border-box;text-align: center;}#sk-container-id-8 label.sk-toggleable__label-arrow:before {content: \"▸\";float: left;margin-right: 0.25em;color: #696969;}#sk-container-id-8 label.sk-toggleable__label-arrow:hover:before {color: black;}#sk-container-id-8 div.sk-estimator:hover label.sk-toggleable__label-arrow:before {color: black;}#sk-container-id-8 div.sk-toggleable__content {max-height: 0;max-width: 0;overflow: hidden;text-align: left;background-color: #f0f8ff;}#sk-container-id-8 div.sk-toggleable__content pre {margin: 0.2em;color: black;border-radius: 0.25em;background-color: #f0f8ff;}#sk-container-id-8 input.sk-toggleable__control:checked~div.sk-toggleable__content {max-height: 200px;max-width: 100%;overflow: auto;}#sk-container-id-8 input.sk-toggleable__control:checked~label.sk-toggleable__label-arrow:before {content: \"▾\";}#sk-container-id-8 div.sk-estimator input.sk-toggleable__control:checked~label.sk-toggleable__label {background-color: #d4ebff;}#sk-container-id-8 div.sk-label input.sk-toggleable__control:checked~label.sk-toggleable__label {background-color: #d4ebff;}#sk-container-id-8 input.sk-hidden--visually {border: 0;clip: rect(1px 1px 1px 1px);clip: rect(1px, 1px, 1px, 1px);height: 1px;margin: -1px;overflow: hidden;padding: 0;position: absolute;width: 1px;}#sk-container-id-8 div.sk-estimator {font-family: monospace;background-color: #f0f8ff;border: 1px dotted black;border-radius: 0.25em;box-sizing: border-box;margin-bottom: 0.5em;}#sk-container-id-8 div.sk-estimator:hover {background-color: #d4ebff;}#sk-container-id-8 div.sk-parallel-item::after {content: \"\";width: 100%;border-bottom: 1px solid gray;flex-grow: 1;}#sk-container-id-8 div.sk-label:hover label.sk-toggleable__label {background-color: #d4ebff;}#sk-container-id-8 div.sk-serial::before {content: \"\";position: absolute;border-left: 1px solid gray;box-sizing: border-box;top: 0;bottom: 0;left: 50%;z-index: 0;}#sk-container-id-8 div.sk-serial {display: flex;flex-direction: column;align-items: center;background-color: white;padding-right: 0.2em;padding-left: 0.2em;position: relative;}#sk-container-id-8 div.sk-item {position: relative;z-index: 1;}#sk-container-id-8 div.sk-parallel {display: flex;align-items: stretch;justify-content: center;background-color: white;position: relative;}#sk-container-id-8 div.sk-item::before, #sk-container-id-8 div.sk-parallel-item::before {content: \"\";position: absolute;border-left: 1px solid gray;box-sizing: border-box;top: 0;bottom: 0;left: 50%;z-index: -1;}#sk-container-id-8 div.sk-parallel-item {display: flex;flex-direction: column;z-index: 1;position: relative;background-color: white;}#sk-container-id-8 div.sk-parallel-item:first-child::after {align-self: flex-end;width: 50%;}#sk-container-id-8 div.sk-parallel-item:last-child::after {align-self: flex-start;width: 50%;}#sk-container-id-8 div.sk-parallel-item:only-child::after {width: 0;}#sk-container-id-8 div.sk-dashed-wrapped {border: 1px dashed gray;margin: 0 0.4em 0.5em 0.4em;box-sizing: border-box;padding-bottom: 0.4em;background-color: white;}#sk-container-id-8 div.sk-label label {font-family: monospace;font-weight: bold;display: inline-block;line-height: 1.2em;}#sk-container-id-8 div.sk-label-container {text-align: center;}#sk-container-id-8 div.sk-container {/* jupyter's `normalize.less` sets `[hidden] { display: none; }` but bootstrap.min.css set `[hidden] { display: none !important; }` so we also need the `!important` here to be able to override the default hidden behavior on the sphinx rendered scikit-learn.org. See: https://github.com/scikit-learn/scikit-learn/issues/21755 */display: inline-block !important;position: relative;}#sk-container-id-8 div.sk-text-repr-fallback {display: none;}</style><div id=\"sk-container-id-8\" class=\"sk-top-container\"><div class=\"sk-text-repr-fallback\"><pre>BernoulliNB()</pre><b>In a Jupyter environment, please rerun this cell to show the HTML representation or trust the notebook. <br />On GitHub, the HTML representation is unable to render, please try loading this page with nbviewer.org.</b></div><div class=\"sk-container\" hidden><div class=\"sk-item\"><div class=\"sk-estimator sk-toggleable\"><input class=\"sk-toggleable__control sk-hidden--visually\" id=\"sk-estimator-id-8\" type=\"checkbox\" checked><label for=\"sk-estimator-id-8\" class=\"sk-toggleable__label sk-toggleable__label-arrow\">BernoulliNB</label><div class=\"sk-toggleable__content\"><pre>BernoulliNB()</pre></div></div></div></div></div>"
      ],
      "text/plain": [
       "BernoulliNB()"
      ]
     },
     "execution_count": 72,
     "metadata": {},
     "output_type": "execute_result"
    }
   ],
   "source": [
    "## multinomial classifier first\n",
    "eham_spam_MNBClassifier = MultinomialNB()\n",
    "eham_spam_MNBClassifier.fit(vectorized_no_hf_eham_spam_train['data'], eham_spam_train['labels'])\n",
    "\n",
    "## bernoulli classifier next\n",
    "eham_spam_BNBClassifier = BernoulliNB()\n",
    "eham_spam_BNBClassifier.fit(vectorized_no_hf_eham_spam_train['data'], eham_spam_train['labels'])"
   ]
  },
  {
   "cell_type": "code",
   "execution_count": 73,
   "metadata": {},
   "outputs": [
    {
     "name": "stdout",
     "output_type": "stream",
     "text": [
      "Multinomial Classifier acc: 97.05882352941177%\n",
      "Bernoulli Classifier acc: 89.37908496732027%\n"
     ]
    }
   ],
   "source": [
    "#accuracy on test set\n",
    "eham_spam_MNB_acc = eham_spam_MNBClassifier.score(vectorized_no_hf_eham_spam_test['data'], eham_spam_test['labels'])\n",
    "eham_spam_BNB_acc = eham_spam_BNBClassifier.score(vectorized_no_hf_eham_spam_test['data'], eham_spam_test['labels'])\n",
    "\n",
    "print(f\"Multinomial Classifier acc: {eham_spam_MNB_acc * 100}%\")\n",
    "\n",
    "print(f\"Bernoulli Classifier acc: {eham_spam_BNB_acc * 100}%\")"
   ]
  },
  {
   "cell_type": "code",
   "execution_count": null,
   "metadata": {},
   "outputs": [],
   "source": [
    "## hham vs spam"
   ]
  },
  {
   "cell_type": "code",
   "execution_count": 74,
   "metadata": {},
   "outputs": [],
   "source": [
    "no_stop_words_hham_vectorizer = CountVectorizer(stop_words=stop_words)\n",
    "\n",
    "vectorized_no_hf_hham_spam_train = {}\n",
    "vectorized_no_hf_hham_spam_test = {}\n",
    "\n",
    "\n",
    "vectorized_no_hf_hham_spam_train['data'] = no_stop_words_hham_vectorizer.fit_transform(no_hf_hham_spam_train['data'])\n",
    "vectorized_no_hf_hham_spam_test['data'] = no_stop_words_hham_vectorizer.transform(no_hf_hham_spam_test['data'])"
   ]
  },
  {
   "cell_type": "code",
   "execution_count": 75,
   "metadata": {},
   "outputs": [
    {
     "data": {
      "text/html": [
       "<style>#sk-container-id-9 {color: black;background-color: white;}#sk-container-id-9 pre{padding: 0;}#sk-container-id-9 div.sk-toggleable {background-color: white;}#sk-container-id-9 label.sk-toggleable__label {cursor: pointer;display: block;width: 100%;margin-bottom: 0;padding: 0.3em;box-sizing: border-box;text-align: center;}#sk-container-id-9 label.sk-toggleable__label-arrow:before {content: \"▸\";float: left;margin-right: 0.25em;color: #696969;}#sk-container-id-9 label.sk-toggleable__label-arrow:hover:before {color: black;}#sk-container-id-9 div.sk-estimator:hover label.sk-toggleable__label-arrow:before {color: black;}#sk-container-id-9 div.sk-toggleable__content {max-height: 0;max-width: 0;overflow: hidden;text-align: left;background-color: #f0f8ff;}#sk-container-id-9 div.sk-toggleable__content pre {margin: 0.2em;color: black;border-radius: 0.25em;background-color: #f0f8ff;}#sk-container-id-9 input.sk-toggleable__control:checked~div.sk-toggleable__content {max-height: 200px;max-width: 100%;overflow: auto;}#sk-container-id-9 input.sk-toggleable__control:checked~label.sk-toggleable__label-arrow:before {content: \"▾\";}#sk-container-id-9 div.sk-estimator input.sk-toggleable__control:checked~label.sk-toggleable__label {background-color: #d4ebff;}#sk-container-id-9 div.sk-label input.sk-toggleable__control:checked~label.sk-toggleable__label {background-color: #d4ebff;}#sk-container-id-9 input.sk-hidden--visually {border: 0;clip: rect(1px 1px 1px 1px);clip: rect(1px, 1px, 1px, 1px);height: 1px;margin: -1px;overflow: hidden;padding: 0;position: absolute;width: 1px;}#sk-container-id-9 div.sk-estimator {font-family: monospace;background-color: #f0f8ff;border: 1px dotted black;border-radius: 0.25em;box-sizing: border-box;margin-bottom: 0.5em;}#sk-container-id-9 div.sk-estimator:hover {background-color: #d4ebff;}#sk-container-id-9 div.sk-parallel-item::after {content: \"\";width: 100%;border-bottom: 1px solid gray;flex-grow: 1;}#sk-container-id-9 div.sk-label:hover label.sk-toggleable__label {background-color: #d4ebff;}#sk-container-id-9 div.sk-serial::before {content: \"\";position: absolute;border-left: 1px solid gray;box-sizing: border-box;top: 0;bottom: 0;left: 50%;z-index: 0;}#sk-container-id-9 div.sk-serial {display: flex;flex-direction: column;align-items: center;background-color: white;padding-right: 0.2em;padding-left: 0.2em;position: relative;}#sk-container-id-9 div.sk-item {position: relative;z-index: 1;}#sk-container-id-9 div.sk-parallel {display: flex;align-items: stretch;justify-content: center;background-color: white;position: relative;}#sk-container-id-9 div.sk-item::before, #sk-container-id-9 div.sk-parallel-item::before {content: \"\";position: absolute;border-left: 1px solid gray;box-sizing: border-box;top: 0;bottom: 0;left: 50%;z-index: -1;}#sk-container-id-9 div.sk-parallel-item {display: flex;flex-direction: column;z-index: 1;position: relative;background-color: white;}#sk-container-id-9 div.sk-parallel-item:first-child::after {align-self: flex-end;width: 50%;}#sk-container-id-9 div.sk-parallel-item:last-child::after {align-self: flex-start;width: 50%;}#sk-container-id-9 div.sk-parallel-item:only-child::after {width: 0;}#sk-container-id-9 div.sk-dashed-wrapped {border: 1px dashed gray;margin: 0 0.4em 0.5em 0.4em;box-sizing: border-box;padding-bottom: 0.4em;background-color: white;}#sk-container-id-9 div.sk-label label {font-family: monospace;font-weight: bold;display: inline-block;line-height: 1.2em;}#sk-container-id-9 div.sk-label-container {text-align: center;}#sk-container-id-9 div.sk-container {/* jupyter's `normalize.less` sets `[hidden] { display: none; }` but bootstrap.min.css set `[hidden] { display: none !important; }` so we also need the `!important` here to be able to override the default hidden behavior on the sphinx rendered scikit-learn.org. See: https://github.com/scikit-learn/scikit-learn/issues/21755 */display: inline-block !important;position: relative;}#sk-container-id-9 div.sk-text-repr-fallback {display: none;}</style><div id=\"sk-container-id-9\" class=\"sk-top-container\"><div class=\"sk-text-repr-fallback\"><pre>BernoulliNB()</pre><b>In a Jupyter environment, please rerun this cell to show the HTML representation or trust the notebook. <br />On GitHub, the HTML representation is unable to render, please try loading this page with nbviewer.org.</b></div><div class=\"sk-container\" hidden><div class=\"sk-item\"><div class=\"sk-estimator sk-toggleable\"><input class=\"sk-toggleable__control sk-hidden--visually\" id=\"sk-estimator-id-9\" type=\"checkbox\" checked><label for=\"sk-estimator-id-9\" class=\"sk-toggleable__label sk-toggleable__label-arrow\">BernoulliNB</label><div class=\"sk-toggleable__content\"><pre>BernoulliNB()</pre></div></div></div></div></div>"
      ],
      "text/plain": [
       "BernoulliNB()"
      ]
     },
     "execution_count": 75,
     "metadata": {},
     "output_type": "execute_result"
    }
   ],
   "source": [
    "## multinomial classifier first\n",
    "hham_spam_MNBClassifier = MultinomialNB()\n",
    "hham_spam_MNBClassifier.fit(vectorized_no_hf_hham_spam_train['data'], hham_spam_train['labels'])\n",
    "\n",
    "## bernoulli classifier next\n",
    "hham_spam_BNBClassifier = BernoulliNB()\n",
    "hham_spam_BNBClassifier.fit(vectorized_no_hf_hham_spam_train['data'], hham_spam_train['labels'])"
   ]
  },
  {
   "cell_type": "code",
   "execution_count": 76,
   "metadata": {},
   "outputs": [
    {
     "name": "stdout",
     "output_type": "stream",
     "text": [
      "Multinomial Classifier acc: 94.70198675496688%\n",
      "Bernoulli Classifier acc: 87.41721854304636%\n"
     ]
    }
   ],
   "source": [
    "#accuracy on test set\n",
    "hham_spam_MNB_acc = hham_spam_MNBClassifier.score(vectorized_no_hf_hham_spam_test['data'], hham_spam_test['labels'])\n",
    "hham_spam_BNB_acc = hham_spam_BNBClassifier.score(vectorized_no_hf_hham_spam_test['data'], hham_spam_test['labels'])\n",
    "\n",
    "print(f\"Multinomial Classifier acc: {hham_spam_MNB_acc * 100}%\")\n",
    "\n",
    "print(f\"Bernoulli Classifier acc: {hham_spam_BNB_acc * 100}%\")"
   ]
  },
  {
   "cell_type": "markdown",
   "metadata": {},
   "source": [
    "Comparison:\n",
    "- Accuracy did not change much again. This might be because of the same reason as mentioned above. While intuitively the header and footers seem useless, headers and footers are actually great indicators of spam and ham mails, as read from various online sources. As such, removing these headers and footers might not be the best move in attempts to classify spam and ham, thus there might not be too much use in removing the headers and footers, but also possible to do some other form of cleaning."
   ]
  },
  {
   "cell_type": "markdown",
   "metadata": {},
   "source": [
    "- The split of the data set into a training set and a test set can lead to very skewed results. Why is this, and do you have suggestions on remedies? \n",
    "- What do you expect would happen if your training set were mostly spam messages while your test set were mostly ham messages? "
   ]
  },
  {
   "cell_type": "markdown",
   "metadata": {},
   "source": [
    "1) the split can lead to skewed results because it is possible that the split cause the train data and the test data to have very different distributions and thus when the model trains on a certain distribution of the input data, it will not be able to generalise onto the test data as they both contain very different features. \n",
    "- Solution: Use K-fold cross validation. It involves splitting the data into K sets. Then K-1 sets will be used for training and the last set will be the test set. This will be repeated K times where each set will be the test set once. This technique will ensures that every observation from the original dataset has the chance of appearing in training and test set. This in turn lets us select the model that performs the best.\n",
    "\n",
    "2) The predictions will be skewed towards spam messages, resulting in a lot of false Positives in predicting spams. This is because P(spam) of training set is much higher than P(spam) of test set, and vice versa for P(ham), and thus the calculations at train time will not perform well at test time. Additionally, the model will be trained to find features of what a spam email is like but not the features of what a ham mail is like, and thus at inference time, it might not perform as well on correctly classifying ham messages as it is unfamiliar with it."
   ]
  },
  {
   "cell_type": "markdown",
   "metadata": {},
   "source": [
    "Re-estimate your classifier using `fit_prior` parameter set to `false`, and answer the following questions:\n",
    "- What does this parameter mean?\n",
    "- How does this alter the predictions? Discuss why or why not."
   ]
  },
  {
   "cell_type": "code",
   "execution_count": 131,
   "metadata": {},
   "outputs": [],
   "source": [
    "## eham vs spam"
   ]
  },
  {
   "cell_type": "code",
   "execution_count": 132,
   "metadata": {},
   "outputs": [],
   "source": [
    "no_stop_words_eham_vectorizer = CountVectorizer(stop_words=stop_words)\n",
    "\n",
    "vectorized_no_hf_eham_spam_train = {}\n",
    "vectorized_no_hf_eham_spam_test = {}\n",
    "\n",
    "\n",
    "vectorized_no_hf_eham_spam_train['data'] = no_stop_words_eham_vectorizer.fit_transform(no_hf_eham_spam_train['data'])\n",
    "vectorized_no_hf_eham_spam_test['data'] = no_stop_words_eham_vectorizer.transform(no_hf_eham_spam_test['data'])"
   ]
  },
  {
   "cell_type": "code",
   "execution_count": 134,
   "metadata": {},
   "outputs": [
    {
     "data": {
      "text/html": [
       "<style>#sk-container-id-14 {color: black;background-color: white;}#sk-container-id-14 pre{padding: 0;}#sk-container-id-14 div.sk-toggleable {background-color: white;}#sk-container-id-14 label.sk-toggleable__label {cursor: pointer;display: block;width: 100%;margin-bottom: 0;padding: 0.3em;box-sizing: border-box;text-align: center;}#sk-container-id-14 label.sk-toggleable__label-arrow:before {content: \"▸\";float: left;margin-right: 0.25em;color: #696969;}#sk-container-id-14 label.sk-toggleable__label-arrow:hover:before {color: black;}#sk-container-id-14 div.sk-estimator:hover label.sk-toggleable__label-arrow:before {color: black;}#sk-container-id-14 div.sk-toggleable__content {max-height: 0;max-width: 0;overflow: hidden;text-align: left;background-color: #f0f8ff;}#sk-container-id-14 div.sk-toggleable__content pre {margin: 0.2em;color: black;border-radius: 0.25em;background-color: #f0f8ff;}#sk-container-id-14 input.sk-toggleable__control:checked~div.sk-toggleable__content {max-height: 200px;max-width: 100%;overflow: auto;}#sk-container-id-14 input.sk-toggleable__control:checked~label.sk-toggleable__label-arrow:before {content: \"▾\";}#sk-container-id-14 div.sk-estimator input.sk-toggleable__control:checked~label.sk-toggleable__label {background-color: #d4ebff;}#sk-container-id-14 div.sk-label input.sk-toggleable__control:checked~label.sk-toggleable__label {background-color: #d4ebff;}#sk-container-id-14 input.sk-hidden--visually {border: 0;clip: rect(1px 1px 1px 1px);clip: rect(1px, 1px, 1px, 1px);height: 1px;margin: -1px;overflow: hidden;padding: 0;position: absolute;width: 1px;}#sk-container-id-14 div.sk-estimator {font-family: monospace;background-color: #f0f8ff;border: 1px dotted black;border-radius: 0.25em;box-sizing: border-box;margin-bottom: 0.5em;}#sk-container-id-14 div.sk-estimator:hover {background-color: #d4ebff;}#sk-container-id-14 div.sk-parallel-item::after {content: \"\";width: 100%;border-bottom: 1px solid gray;flex-grow: 1;}#sk-container-id-14 div.sk-label:hover label.sk-toggleable__label {background-color: #d4ebff;}#sk-container-id-14 div.sk-serial::before {content: \"\";position: absolute;border-left: 1px solid gray;box-sizing: border-box;top: 0;bottom: 0;left: 50%;z-index: 0;}#sk-container-id-14 div.sk-serial {display: flex;flex-direction: column;align-items: center;background-color: white;padding-right: 0.2em;padding-left: 0.2em;position: relative;}#sk-container-id-14 div.sk-item {position: relative;z-index: 1;}#sk-container-id-14 div.sk-parallel {display: flex;align-items: stretch;justify-content: center;background-color: white;position: relative;}#sk-container-id-14 div.sk-item::before, #sk-container-id-14 div.sk-parallel-item::before {content: \"\";position: absolute;border-left: 1px solid gray;box-sizing: border-box;top: 0;bottom: 0;left: 50%;z-index: -1;}#sk-container-id-14 div.sk-parallel-item {display: flex;flex-direction: column;z-index: 1;position: relative;background-color: white;}#sk-container-id-14 div.sk-parallel-item:first-child::after {align-self: flex-end;width: 50%;}#sk-container-id-14 div.sk-parallel-item:last-child::after {align-self: flex-start;width: 50%;}#sk-container-id-14 div.sk-parallel-item:only-child::after {width: 0;}#sk-container-id-14 div.sk-dashed-wrapped {border: 1px dashed gray;margin: 0 0.4em 0.5em 0.4em;box-sizing: border-box;padding-bottom: 0.4em;background-color: white;}#sk-container-id-14 div.sk-label label {font-family: monospace;font-weight: bold;display: inline-block;line-height: 1.2em;}#sk-container-id-14 div.sk-label-container {text-align: center;}#sk-container-id-14 div.sk-container {/* jupyter's `normalize.less` sets `[hidden] { display: none; }` but bootstrap.min.css set `[hidden] { display: none !important; }` so we also need the `!important` here to be able to override the default hidden behavior on the sphinx rendered scikit-learn.org. See: https://github.com/scikit-learn/scikit-learn/issues/21755 */display: inline-block !important;position: relative;}#sk-container-id-14 div.sk-text-repr-fallback {display: none;}</style><div id=\"sk-container-id-14\" class=\"sk-top-container\"><div class=\"sk-text-repr-fallback\"><pre>BernoulliNB(fit_prior=False)</pre><b>In a Jupyter environment, please rerun this cell to show the HTML representation or trust the notebook. <br />On GitHub, the HTML representation is unable to render, please try loading this page with nbviewer.org.</b></div><div class=\"sk-container\" hidden><div class=\"sk-item\"><div class=\"sk-estimator sk-toggleable\"><input class=\"sk-toggleable__control sk-hidden--visually\" id=\"sk-estimator-id-14\" type=\"checkbox\" checked><label for=\"sk-estimator-id-14\" class=\"sk-toggleable__label sk-toggleable__label-arrow\">BernoulliNB</label><div class=\"sk-toggleable__content\"><pre>BernoulliNB(fit_prior=False)</pre></div></div></div></div></div>"
      ],
      "text/plain": [
       "BernoulliNB(fit_prior=False)"
      ]
     },
     "execution_count": 134,
     "metadata": {},
     "output_type": "execute_result"
    }
   ],
   "source": [
    "## multinomial classifier first\n",
    "eham_spam_MNBClassifier = MultinomialNB(fit_prior=False)\n",
    "eham_spam_MNBClassifier.fit(vectorized_no_hf_eham_spam_train['data'], eham_spam_train['labels'])\n",
    "\n",
    "## bernoulli classifier next\n",
    "eham_spam_BNBClassifier = BernoulliNB(fit_prior=False)\n",
    "eham_spam_BNBClassifier.fit(vectorized_no_hf_eham_spam_train['data'], eham_spam_train['labels'])"
   ]
  },
  {
   "cell_type": "code",
   "execution_count": 135,
   "metadata": {},
   "outputs": [
    {
     "name": "stdout",
     "output_type": "stream",
     "text": [
      "Multinomial Classifier acc: 97.38562091503267%\n",
      "Bernoulli Classifier acc: 89.70588235294117%\n"
     ]
    }
   ],
   "source": [
    "#accuracy on test set\n",
    "eham_spam_MNB_acc = eham_spam_MNBClassifier.score(vectorized_no_hf_eham_spam_test['data'], eham_spam_test['labels'])\n",
    "eham_spam_BNB_acc = eham_spam_BNBClassifier.score(vectorized_no_hf_eham_spam_test['data'], eham_spam_test['labels'])\n",
    "\n",
    "print(f\"Multinomial Classifier acc: {eham_spam_MNB_acc * 100}%\")\n",
    "\n",
    "print(f\"Bernoulli Classifier acc: {eham_spam_BNB_acc * 100}%\")"
   ]
  },
  {
   "cell_type": "code",
   "execution_count": 136,
   "metadata": {},
   "outputs": [],
   "source": [
    "## hham vs spam"
   ]
  },
  {
   "cell_type": "code",
   "execution_count": 137,
   "metadata": {},
   "outputs": [],
   "source": [
    "no_stop_words_hham_vectorizer = CountVectorizer(stop_words=stop_words)\n",
    "\n",
    "vectorized_no_hf_hham_spam_train = {}\n",
    "vectorized_no_hf_hham_spam_test = {}\n",
    "\n",
    "\n",
    "vectorized_no_hf_hham_spam_train['data'] = no_stop_words_hham_vectorizer.fit_transform(no_hf_hham_spam_train['data'])\n",
    "vectorized_no_hf_hham_spam_test['data'] = no_stop_words_hham_vectorizer.transform(no_hf_hham_spam_test['data'])"
   ]
  },
  {
   "cell_type": "code",
   "execution_count": 138,
   "metadata": {},
   "outputs": [
    {
     "data": {
      "text/html": [
       "<style>#sk-container-id-15 {color: black;background-color: white;}#sk-container-id-15 pre{padding: 0;}#sk-container-id-15 div.sk-toggleable {background-color: white;}#sk-container-id-15 label.sk-toggleable__label {cursor: pointer;display: block;width: 100%;margin-bottom: 0;padding: 0.3em;box-sizing: border-box;text-align: center;}#sk-container-id-15 label.sk-toggleable__label-arrow:before {content: \"▸\";float: left;margin-right: 0.25em;color: #696969;}#sk-container-id-15 label.sk-toggleable__label-arrow:hover:before {color: black;}#sk-container-id-15 div.sk-estimator:hover label.sk-toggleable__label-arrow:before {color: black;}#sk-container-id-15 div.sk-toggleable__content {max-height: 0;max-width: 0;overflow: hidden;text-align: left;background-color: #f0f8ff;}#sk-container-id-15 div.sk-toggleable__content pre {margin: 0.2em;color: black;border-radius: 0.25em;background-color: #f0f8ff;}#sk-container-id-15 input.sk-toggleable__control:checked~div.sk-toggleable__content {max-height: 200px;max-width: 100%;overflow: auto;}#sk-container-id-15 input.sk-toggleable__control:checked~label.sk-toggleable__label-arrow:before {content: \"▾\";}#sk-container-id-15 div.sk-estimator input.sk-toggleable__control:checked~label.sk-toggleable__label {background-color: #d4ebff;}#sk-container-id-15 div.sk-label input.sk-toggleable__control:checked~label.sk-toggleable__label {background-color: #d4ebff;}#sk-container-id-15 input.sk-hidden--visually {border: 0;clip: rect(1px 1px 1px 1px);clip: rect(1px, 1px, 1px, 1px);height: 1px;margin: -1px;overflow: hidden;padding: 0;position: absolute;width: 1px;}#sk-container-id-15 div.sk-estimator {font-family: monospace;background-color: #f0f8ff;border: 1px dotted black;border-radius: 0.25em;box-sizing: border-box;margin-bottom: 0.5em;}#sk-container-id-15 div.sk-estimator:hover {background-color: #d4ebff;}#sk-container-id-15 div.sk-parallel-item::after {content: \"\";width: 100%;border-bottom: 1px solid gray;flex-grow: 1;}#sk-container-id-15 div.sk-label:hover label.sk-toggleable__label {background-color: #d4ebff;}#sk-container-id-15 div.sk-serial::before {content: \"\";position: absolute;border-left: 1px solid gray;box-sizing: border-box;top: 0;bottom: 0;left: 50%;z-index: 0;}#sk-container-id-15 div.sk-serial {display: flex;flex-direction: column;align-items: center;background-color: white;padding-right: 0.2em;padding-left: 0.2em;position: relative;}#sk-container-id-15 div.sk-item {position: relative;z-index: 1;}#sk-container-id-15 div.sk-parallel {display: flex;align-items: stretch;justify-content: center;background-color: white;position: relative;}#sk-container-id-15 div.sk-item::before, #sk-container-id-15 div.sk-parallel-item::before {content: \"\";position: absolute;border-left: 1px solid gray;box-sizing: border-box;top: 0;bottom: 0;left: 50%;z-index: -1;}#sk-container-id-15 div.sk-parallel-item {display: flex;flex-direction: column;z-index: 1;position: relative;background-color: white;}#sk-container-id-15 div.sk-parallel-item:first-child::after {align-self: flex-end;width: 50%;}#sk-container-id-15 div.sk-parallel-item:last-child::after {align-self: flex-start;width: 50%;}#sk-container-id-15 div.sk-parallel-item:only-child::after {width: 0;}#sk-container-id-15 div.sk-dashed-wrapped {border: 1px dashed gray;margin: 0 0.4em 0.5em 0.4em;box-sizing: border-box;padding-bottom: 0.4em;background-color: white;}#sk-container-id-15 div.sk-label label {font-family: monospace;font-weight: bold;display: inline-block;line-height: 1.2em;}#sk-container-id-15 div.sk-label-container {text-align: center;}#sk-container-id-15 div.sk-container {/* jupyter's `normalize.less` sets `[hidden] { display: none; }` but bootstrap.min.css set `[hidden] { display: none !important; }` so we also need the `!important` here to be able to override the default hidden behavior on the sphinx rendered scikit-learn.org. See: https://github.com/scikit-learn/scikit-learn/issues/21755 */display: inline-block !important;position: relative;}#sk-container-id-15 div.sk-text-repr-fallback {display: none;}</style><div id=\"sk-container-id-15\" class=\"sk-top-container\"><div class=\"sk-text-repr-fallback\"><pre>BernoulliNB(fit_prior=False)</pre><b>In a Jupyter environment, please rerun this cell to show the HTML representation or trust the notebook. <br />On GitHub, the HTML representation is unable to render, please try loading this page with nbviewer.org.</b></div><div class=\"sk-container\" hidden><div class=\"sk-item\"><div class=\"sk-estimator sk-toggleable\"><input class=\"sk-toggleable__control sk-hidden--visually\" id=\"sk-estimator-id-15\" type=\"checkbox\" checked><label for=\"sk-estimator-id-15\" class=\"sk-toggleable__label sk-toggleable__label-arrow\">BernoulliNB</label><div class=\"sk-toggleable__content\"><pre>BernoulliNB(fit_prior=False)</pre></div></div></div></div></div>"
      ],
      "text/plain": [
       "BernoulliNB(fit_prior=False)"
      ]
     },
     "execution_count": 138,
     "metadata": {},
     "output_type": "execute_result"
    }
   ],
   "source": [
    "## multinomial classifier first\n",
    "hham_spam_MNBClassifier = MultinomialNB(fit_prior=False)\n",
    "hham_spam_MNBClassifier.fit(vectorized_no_hf_hham_spam_train['data'], hham_spam_train['labels'])\n",
    "\n",
    "## bernoulli classifier next\n",
    "hham_spam_BNBClassifier = BernoulliNB(fit_prior=False)\n",
    "hham_spam_BNBClassifier.fit(vectorized_no_hf_hham_spam_train['data'], hham_spam_train['labels'])"
   ]
  },
  {
   "cell_type": "code",
   "execution_count": 139,
   "metadata": {},
   "outputs": [
    {
     "name": "stdout",
     "output_type": "stream",
     "text": [
      "Multinomial Classifier acc: 93.37748344370861%\n",
      "Bernoulli Classifier acc: 86.09271523178808%\n"
     ]
    }
   ],
   "source": [
    "#accuracy on test set\n",
    "hham_spam_MNB_acc = hham_spam_MNBClassifier.score(vectorized_no_hf_hham_spam_test['data'], hham_spam_test['labels'])\n",
    "hham_spam_BNB_acc = hham_spam_BNBClassifier.score(vectorized_no_hf_hham_spam_test['data'], hham_spam_test['labels'])\n",
    "\n",
    "print(f\"Multinomial Classifier acc: {hham_spam_MNB_acc * 100}%\")\n",
    "\n",
    "print(f\"Bernoulli Classifier acc: {hham_spam_BNB_acc * 100}%\")"
   ]
  },
  {
   "cell_type": "markdown",
   "metadata": {},
   "source": [
    "fit_prior determines if our model will care about prior probabilities. As seen from the Bernoulli equation, P(ham) and P(spam) plays a big role in the equation and subsequent impact on the model. This P(ham) and P(spam) would be derived by the ratio in the dataset, i.e if the dataset contains 30% spam and 70% ham, then the P(spam) = 0.3 and P(ham) = 0.7. This might not be an actual representation of the distribution of spam and ham mails and if the dataset is very imbalanced then fit_prior might not be the best to be True. Thus We might then set fit_prior=False, where a uniform distribution is used instead. In this case, it would then rectify the imbalance in the dataset seeing that there are alot more ham mail then spam mail. But based on the results, seems like there is not much difference in accuracy."
   ]
  },
  {
   "cell_type": "code",
   "execution_count": null,
   "metadata": {},
   "outputs": [],
   "source": []
  }
 ],
 "metadata": {
  "colab": {
   "collapsed_sections": [],
   "provenance": []
  },
  "kernelspec": {
   "display_name": "Python 3 (ipykernel)",
   "language": "python",
   "name": "python3"
  },
  "language_info": {
   "codemirror_mode": {
    "name": "ipython",
    "version": 3
   },
   "file_extension": ".py",
   "mimetype": "text/x-python",
   "name": "python",
   "nbconvert_exporter": "python",
   "pygments_lexer": "ipython3",
   "version": "3.9.12"
  }
 },
 "nbformat": 4,
 "nbformat_minor": 1
}
